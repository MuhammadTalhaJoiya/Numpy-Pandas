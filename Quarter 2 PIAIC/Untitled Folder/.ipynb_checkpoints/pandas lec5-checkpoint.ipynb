{
 "cells": [
  {
   "cell_type": "code",
   "execution_count": 1,
   "id": "ff0394c1",
   "metadata": {},
   "outputs": [],
   "source": [
    "import numpy as np\n",
    "import pandas as pd\n",
    "from datetime import datetime"
   ]
  },
  {
   "cell_type": "code",
   "execution_count": 2,
   "id": "98239e48",
   "metadata": {},
   "outputs": [],
   "source": [
    "date1=datetime(2022,1,3)"
   ]
  },
  {
   "cell_type": "code",
   "execution_count": 3,
   "id": "c8306d44",
   "metadata": {},
   "outputs": [
    {
     "data": {
      "text/plain": [
       "datetime.datetime(2022, 1, 3, 0, 0)"
      ]
     },
     "execution_count": 3,
     "metadata": {},
     "output_type": "execute_result"
    }
   ],
   "source": [
    "date1"
   ]
  },
  {
   "cell_type": "code",
   "execution_count": 4,
   "id": "0927e0b1",
   "metadata": {},
   "outputs": [],
   "source": [
    "date1_time=datetime(2023,1,5,23,12)"
   ]
  },
  {
   "cell_type": "code",
   "execution_count": 5,
   "id": "0dd073c3",
   "metadata": {},
   "outputs": [
    {
     "data": {
      "text/plain": [
       "datetime.datetime(2023, 1, 5, 23, 12)"
      ]
     },
     "execution_count": 5,
     "metadata": {},
     "output_type": "execute_result"
    }
   ],
   "source": [
    "date1_time"
   ]
  },
  {
   "cell_type": "code",
   "execution_count": 13,
   "id": "f067d4ea",
   "metadata": {},
   "outputs": [],
   "source": [
    "class timee():\n",
    "    def __init__(self,y,m,d,h,mi):\n",
    "        self.year=y\n",
    "        self.month=m\n",
    "        self.date=d\n",
    "        self.hour=h\n",
    "        self.minute=mi"
   ]
  },
  {
   "cell_type": "code",
   "execution_count": 14,
   "id": "51798460",
   "metadata": {},
   "outputs": [],
   "source": [
    "tt=timee(2021,4,15,4,2)"
   ]
  },
  {
   "cell_type": "code",
   "execution_count": 17,
   "id": "e75eb537",
   "metadata": {},
   "outputs": [
    {
     "data": {
      "text/plain": [
       "2"
      ]
     },
     "execution_count": 17,
     "metadata": {},
     "output_type": "execute_result"
    }
   ],
   "source": [
    "tt.minute"
   ]
  },
  {
   "cell_type": "code",
   "execution_count": 21,
   "id": "cad73274",
   "metadata": {},
   "outputs": [],
   "source": [
    "dt2=datetime.now()"
   ]
  },
  {
   "cell_type": "code",
   "execution_count": 22,
   "id": "99eb7510",
   "metadata": {},
   "outputs": [
    {
     "data": {
      "text/plain": [
       "datetime.datetime(2023, 3, 23, 0, 10, 34, 771661)"
      ]
     },
     "execution_count": 22,
     "metadata": {},
     "output_type": "execute_result"
    }
   ],
   "source": [
    "dt2"
   ]
  },
  {
   "cell_type": "markdown",
   "id": "6b4e3ef8",
   "metadata": {},
   "source": [
    "pandas timstamp"
   ]
  },
  {
   "cell_type": "code",
   "execution_count": 25,
   "id": "6939ed11",
   "metadata": {},
   "outputs": [],
   "source": [
    "dtstamp=pd.Timestamp('2021-5-11')"
   ]
  },
  {
   "cell_type": "code",
   "execution_count": 26,
   "id": "3d609dbe",
   "metadata": {},
   "outputs": [
    {
     "data": {
      "text/plain": [
       "Timestamp('2021-05-11 00:00:00')"
      ]
     },
     "execution_count": 26,
     "metadata": {},
     "output_type": "execute_result"
    }
   ],
   "source": [
    "dtstamp"
   ]
  },
  {
   "cell_type": "code",
   "execution_count": 27,
   "id": "a1b57efa",
   "metadata": {},
   "outputs": [],
   "source": [
    "dtstamp1=pd.Timestamp('2:23')"
   ]
  },
  {
   "cell_type": "code",
   "execution_count": 28,
   "id": "81de057a",
   "metadata": {},
   "outputs": [
    {
     "data": {
      "text/plain": [
       "Timestamp('2023-03-23 02:23:00')"
      ]
     },
     "execution_count": 28,
     "metadata": {},
     "output_type": "execute_result"
    }
   ],
   "source": [
    "dtstamp1"
   ]
  },
  {
   "cell_type": "code",
   "execution_count": 29,
   "id": "0d011c8a",
   "metadata": {},
   "outputs": [],
   "source": [
    "dtstampnow=pd.Timestamp('now')"
   ]
  },
  {
   "cell_type": "code",
   "execution_count": 30,
   "id": "b4213f78",
   "metadata": {},
   "outputs": [
    {
     "data": {
      "text/plain": [
       "Timestamp('2023-03-23 00:17:29.452375')"
      ]
     },
     "execution_count": 30,
     "metadata": {},
     "output_type": "execute_result"
    }
   ],
   "source": [
    "dtstampnow"
   ]
  },
  {
   "cell_type": "code",
   "execution_count": 33,
   "id": "b56ca3b4",
   "metadata": {},
   "outputs": [],
   "source": [
    "dtstamp1=pd.Timestamp.now()"
   ]
  },
  {
   "cell_type": "code",
   "execution_count": 34,
   "id": "8024c054",
   "metadata": {},
   "outputs": [
    {
     "data": {
      "text/plain": [
       "Timestamp('2023-03-23 00:24:10.459282')"
      ]
     },
     "execution_count": 34,
     "metadata": {},
     "output_type": "execute_result"
    }
   ],
   "source": [
    "dtstamp1"
   ]
  },
  {
   "cell_type": "markdown",
   "id": "5291ecfd",
   "metadata": {},
   "source": [
    "Time Delta to create difference in two timestamps"
   ]
  },
  {
   "cell_type": "code",
   "execution_count": 39,
   "id": "71605497",
   "metadata": {},
   "outputs": [],
   "source": [
    "dte1=pd.Timedelta(days=1)"
   ]
  },
  {
   "cell_type": "code",
   "execution_count": 40,
   "id": "b247162e",
   "metadata": {},
   "outputs": [
    {
     "data": {
      "text/plain": [
       "Timedelta('1 days 00:00:00')"
      ]
     },
     "execution_count": 40,
     "metadata": {},
     "output_type": "execute_result"
    }
   ],
   "source": [
    "dte1"
   ]
  },
  {
   "cell_type": "code",
   "execution_count": 43,
   "id": "5f195f4b",
   "metadata": {},
   "outputs": [
    {
     "data": {
      "text/plain": [
       "Timestamp('2023-03-23 00:17:29.452375')"
      ]
     },
     "execution_count": 43,
     "metadata": {},
     "output_type": "execute_result"
    }
   ],
   "source": [
    "dtstampnow"
   ]
  },
  {
   "cell_type": "code",
   "execution_count": 44,
   "id": "e1ff6bf6",
   "metadata": {},
   "outputs": [],
   "source": [
    "a=dtstampnow+dte1"
   ]
  },
  {
   "cell_type": "code",
   "execution_count": 45,
   "id": "089230ef",
   "metadata": {},
   "outputs": [
    {
     "data": {
      "text/plain": [
       "Timestamp('2023-03-24 00:17:29.452375')"
      ]
     },
     "execution_count": 45,
     "metadata": {},
     "output_type": "execute_result"
    }
   ],
   "source": [
    "a"
   ]
  },
  {
   "cell_type": "code",
   "execution_count": 46,
   "id": "cc0308de",
   "metadata": {},
   "outputs": [
    {
     "data": {
      "text/plain": [
       "datetime.datetime(2023, 3, 23, 0, 10, 34, 771661)"
      ]
     },
     "execution_count": 46,
     "metadata": {},
     "output_type": "execute_result"
    }
   ],
   "source": [
    "dt2"
   ]
  },
  {
   "cell_type": "code",
   "execution_count": 50,
   "id": "949500cd",
   "metadata": {},
   "outputs": [
    {
     "data": {
      "text/plain": [
       "datetime.datetime(2023, 3, 24, 0, 10, 34, 771661)"
      ]
     },
     "execution_count": 50,
     "metadata": {},
     "output_type": "execute_result"
    }
   ],
   "source": [
    "b=dt2+dte1\n",
    "b"
   ]
  },
  {
   "cell_type": "code",
   "execution_count": 53,
   "id": "f4349cd7",
   "metadata": {},
   "outputs": [
    {
     "data": {
      "text/plain": [
       "datetime.timedelta(days=4)"
      ]
     },
     "execution_count": 53,
     "metadata": {},
     "output_type": "execute_result"
    }
   ],
   "source": [
    "date1=datetime(2021,3,11)\n",
    "date2=datetime(2021,3,15)\n",
    "date2-date1"
   ]
  },
  {
   "cell_type": "code",
   "execution_count": 56,
   "id": "67ed2941",
   "metadata": {},
   "outputs": [],
   "source": [
    "date3=pd.Timedelta(weeks=1)"
   ]
  },
  {
   "cell_type": "code",
   "execution_count": 57,
   "id": "63f7a787",
   "metadata": {},
   "outputs": [
    {
     "data": {
      "text/plain": [
       "Timedelta('7 days 00:00:00')"
      ]
     },
     "execution_count": 57,
     "metadata": {},
     "output_type": "execute_result"
    }
   ],
   "source": [
    "date3"
   ]
  },
  {
   "cell_type": "code",
   "execution_count": 58,
   "id": "2ced24de",
   "metadata": {},
   "outputs": [
    {
     "data": {
      "text/plain": [
       "datetime.datetime(2021, 3, 11, 0, 0)"
      ]
     },
     "execution_count": 58,
     "metadata": {},
     "output_type": "execute_result"
    }
   ],
   "source": [
    "date1"
   ]
  },
  {
   "cell_type": "code",
   "execution_count": 61,
   "id": "3f2c87b5",
   "metadata": {},
   "outputs": [
    {
     "data": {
      "text/plain": [
       "datetime.datetime(2021, 3, 18, 0, 0)"
      ]
     },
     "execution_count": 61,
     "metadata": {},
     "output_type": "execute_result"
    }
   ],
   "source": [
    "date1+date3"
   ]
  },
  {
   "cell_type": "code",
   "execution_count": 62,
   "id": "2030c627",
   "metadata": {},
   "outputs": [
    {
     "data": {
      "text/plain": [
       "datetime.datetime(2021, 3, 4, 0, 0)"
      ]
     },
     "execution_count": 62,
     "metadata": {},
     "output_type": "execute_result"
    }
   ],
   "source": [
    "date1-date3"
   ]
  },
  {
   "cell_type": "code",
   "execution_count": null,
   "id": "1dda8041",
   "metadata": {},
   "outputs": [],
   "source": []
  },
  {
   "cell_type": "code",
   "execution_count": 64,
   "id": "7e5ecd26",
   "metadata": {},
   "outputs": [
    {
     "data": {
      "text/plain": [
       "datetime.timedelta(0)"
      ]
     },
     "execution_count": 64,
     "metadata": {},
     "output_type": "execute_result"
    }
   ],
   "source": [
    "date1-date2"
   ]
  },
  {
   "cell_type": "code",
   "execution_count": null,
   "id": "fd2f8f3b",
   "metadata": {},
   "outputs": [],
   "source": []
  }
 ],
 "metadata": {
  "kernelspec": {
   "display_name": "Python 3 (ipykernel)",
   "language": "python",
   "name": "python3"
  },
  "language_info": {
   "codemirror_mode": {
    "name": "ipython",
    "version": 3
   },
   "file_extension": ".py",
   "mimetype": "text/x-python",
   "name": "python",
   "nbconvert_exporter": "python",
   "pygments_lexer": "ipython3",
   "version": "3.9.12"
  }
 },
 "nbformat": 4,
 "nbformat_minor": 5
}
