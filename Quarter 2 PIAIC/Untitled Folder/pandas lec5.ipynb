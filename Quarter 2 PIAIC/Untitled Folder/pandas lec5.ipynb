{
 "cells": [
  {
   "cell_type": "code",
   "execution_count": 1,
   "id": "974f419b",
   "metadata": {},
   "outputs": [],
   "source": [
    "import numpy as np\n",
    "import pandas as pd\n",
    "from datetime import datetime"
   ]
  },
  {
   "cell_type": "code",
   "execution_count": 2,
   "id": "10f28c72",
   "metadata": {},
   "outputs": [],
   "source": [
    "date1=datetime(2022,1,3)"
   ]
  },
  {
   "cell_type": "code",
   "execution_count": 3,
   "id": "7de7201e",
   "metadata": {},
   "outputs": [
    {
     "data": {
      "text/plain": [
       "datetime.datetime(2022, 1, 3, 0, 0)"
      ]
     },
     "execution_count": 3,
     "metadata": {},
     "output_type": "execute_result"
    }
   ],
   "source": [
    "date1"
   ]
  },
  {
   "cell_type": "code",
   "execution_count": 4,
   "id": "4c6536e8",
   "metadata": {},
   "outputs": [],
   "source": [
    "date1_time=datetime(2023,1,5,23,12)"
   ]
  },
  {
   "cell_type": "code",
   "execution_count": 5,
   "id": "0d7628eb",
   "metadata": {},
   "outputs": [
    {
     "data": {
      "text/plain": [
       "datetime.datetime(2023, 1, 5, 23, 12)"
      ]
     },
     "execution_count": 5,
     "metadata": {},
     "output_type": "execute_result"
    }
   ],
   "source": [
    "date1_time"
   ]
  },
  {
   "cell_type": "code",
   "execution_count": 6,
   "id": "93d59b31",
   "metadata": {},
   "outputs": [],
   "source": [
    "class timee():\n",
    "    def __init__(self,y,m,d,h,mi):\n",
    "        self.year=y\n",
    "        self.month=m\n",
    "        self.date=d\n",
    "        self.hour=h\n",
    "        self.minute=mi"
   ]
  },
  {
   "cell_type": "code",
   "execution_count": 7,
   "id": "924b7897",
   "metadata": {},
   "outputs": [],
   "source": [
    "tt=timee(2021,4,15,4,2)"
   ]
  },
  {
   "cell_type": "code",
   "execution_count": 8,
   "id": "737581c2",
   "metadata": {},
   "outputs": [
    {
     "data": {
      "text/plain": [
       "2"
      ]
     },
     "execution_count": 8,
     "metadata": {},
     "output_type": "execute_result"
    }
   ],
   "source": [
    "tt.minute"
   ]
  },
  {
   "cell_type": "code",
   "execution_count": 9,
   "id": "ddb14227",
   "metadata": {},
   "outputs": [],
   "source": [
    "dt2=datetime.now()"
   ]
  },
  {
   "cell_type": "code",
   "execution_count": 10,
   "id": "182450d2",
   "metadata": {},
   "outputs": [
    {
     "data": {
      "text/plain": [
       "datetime.datetime(2023, 3, 23, 23, 24, 41, 615908)"
      ]
     },
     "execution_count": 10,
     "metadata": {},
     "output_type": "execute_result"
    }
   ],
   "source": [
    "dt2"
   ]
  },
  {
   "cell_type": "markdown",
   "id": "ed84f8b1",
   "metadata": {},
   "source": [
    "pandas timstamp"
   ]
  },
  {
   "cell_type": "code",
   "execution_count": 11,
   "id": "cbde4c91",
   "metadata": {},
   "outputs": [],
   "source": [
    "dtstamp=pd.Timestamp('2021-5-11')"
   ]
  },
  {
   "cell_type": "code",
   "execution_count": 12,
   "id": "e54e78b2",
   "metadata": {},
   "outputs": [
    {
     "data": {
      "text/plain": [
       "Timestamp('2021-05-11 00:00:00')"
      ]
     },
     "execution_count": 12,
     "metadata": {},
     "output_type": "execute_result"
    }
   ],
   "source": [
    "dtstamp"
   ]
  },
  {
   "cell_type": "code",
   "execution_count": 13,
   "id": "81a7546e",
   "metadata": {},
   "outputs": [],
   "source": [
    "dtstamp1=pd.Timestamp('2:23')"
   ]
  },
  {
   "cell_type": "code",
   "execution_count": 14,
   "id": "e1dd50af",
   "metadata": {},
   "outputs": [
    {
     "data": {
      "text/plain": [
       "Timestamp('2023-03-23 02:23:00')"
      ]
     },
     "execution_count": 14,
     "metadata": {},
     "output_type": "execute_result"
    }
   ],
   "source": [
    "dtstamp1"
   ]
  },
  {
   "cell_type": "code",
   "execution_count": 15,
   "id": "95c47777",
   "metadata": {},
   "outputs": [],
   "source": [
    "dtstampnow=pd.Timestamp('now')"
   ]
  },
  {
   "cell_type": "code",
   "execution_count": 16,
   "id": "62629092",
   "metadata": {},
   "outputs": [
    {
     "data": {
      "text/plain": [
       "Timestamp('2023-03-23 23:24:41.774087')"
      ]
     },
     "execution_count": 16,
     "metadata": {},
     "output_type": "execute_result"
    }
   ],
   "source": [
    "dtstampnow"
   ]
  },
  {
   "cell_type": "code",
   "execution_count": 17,
   "id": "48bd93f2",
   "metadata": {},
   "outputs": [],
   "source": [
    "dtstamp1=pd.Timestamp.now()"
   ]
  },
  {
   "cell_type": "code",
   "execution_count": 18,
   "id": "7b909580",
   "metadata": {},
   "outputs": [
    {
     "data": {
      "text/plain": [
       "Timestamp('2023-03-23 23:24:41.837920')"
      ]
     },
     "execution_count": 18,
     "metadata": {},
     "output_type": "execute_result"
    }
   ],
   "source": [
    "dtstamp1"
   ]
  },
  {
   "cell_type": "markdown",
   "id": "dd7a072d",
   "metadata": {},
   "source": [
    "Time Delta to create difference in two timestamps"
   ]
  },
  {
   "cell_type": "code",
   "execution_count": 19,
   "id": "9cc10fd8",
   "metadata": {},
   "outputs": [],
   "source": [
    "dte1=pd.Timedelta(days=1)"
   ]
  },
  {
   "cell_type": "code",
   "execution_count": 20,
   "id": "3ea6e43a",
   "metadata": {},
   "outputs": [
    {
     "data": {
      "text/plain": [
       "Timedelta('1 days 00:00:00')"
      ]
     },
     "execution_count": 20,
     "metadata": {},
     "output_type": "execute_result"
    }
   ],
   "source": [
    "dte1"
   ]
  },
  {
   "cell_type": "code",
   "execution_count": 21,
   "id": "22196b3c",
   "metadata": {},
   "outputs": [
    {
     "data": {
      "text/plain": [
       "Timestamp('2023-03-23 23:24:41.774087')"
      ]
     },
     "execution_count": 21,
     "metadata": {},
     "output_type": "execute_result"
    }
   ],
   "source": [
    "dtstampnow"
   ]
  },
  {
   "cell_type": "code",
   "execution_count": 22,
   "id": "2070c4b6",
   "metadata": {},
   "outputs": [],
   "source": [
    "a=dtstampnow+dte1"
   ]
  },
  {
   "cell_type": "code",
   "execution_count": 23,
   "id": "41371cc1",
   "metadata": {},
   "outputs": [
    {
     "data": {
      "text/plain": [
       "Timestamp('2023-03-24 23:24:41.774087')"
      ]
     },
     "execution_count": 23,
     "metadata": {},
     "output_type": "execute_result"
    }
   ],
   "source": [
    "a"
   ]
  },
  {
   "cell_type": "code",
   "execution_count": 24,
   "id": "9a09e11c",
   "metadata": {},
   "outputs": [
    {
     "data": {
      "text/plain": [
       "datetime.datetime(2023, 3, 23, 23, 24, 41, 615908)"
      ]
     },
     "execution_count": 24,
     "metadata": {},
     "output_type": "execute_result"
    }
   ],
   "source": [
    "dt2"
   ]
  },
  {
   "cell_type": "code",
   "execution_count": 25,
   "id": "5adef8da",
   "metadata": {},
   "outputs": [
    {
     "data": {
      "text/plain": [
       "datetime.datetime(2023, 3, 24, 23, 24, 41, 615908)"
      ]
     },
     "execution_count": 25,
     "metadata": {},
     "output_type": "execute_result"
    }
   ],
   "source": [
    "b=dt2+dte1\n",
    "b"
   ]
  },
  {
   "cell_type": "code",
   "execution_count": 26,
   "id": "7d487788",
   "metadata": {},
   "outputs": [
    {
     "data": {
      "text/plain": [
       "datetime.timedelta(days=4)"
      ]
     },
     "execution_count": 26,
     "metadata": {},
     "output_type": "execute_result"
    }
   ],
   "source": [
    "date1=datetime(2021,3,11)\n",
    "date2=datetime(2021,3,15)\n",
    "date2-date1"
   ]
  },
  {
   "cell_type": "code",
   "execution_count": 27,
   "id": "ba0857b5",
   "metadata": {},
   "outputs": [],
   "source": [
    "date3=pd.Timedelta(weeks=1)"
   ]
  },
  {
   "cell_type": "code",
   "execution_count": 28,
   "id": "32b7ba28",
   "metadata": {},
   "outputs": [
    {
     "data": {
      "text/plain": [
       "Timedelta('7 days 00:00:00')"
      ]
     },
     "execution_count": 28,
     "metadata": {},
     "output_type": "execute_result"
    }
   ],
   "source": [
    "date3"
   ]
  },
  {
   "cell_type": "code",
   "execution_count": 29,
   "id": "002ea317",
   "metadata": {},
   "outputs": [
    {
     "data": {
      "text/plain": [
       "datetime.datetime(2021, 3, 11, 0, 0)"
      ]
     },
     "execution_count": 29,
     "metadata": {},
     "output_type": "execute_result"
    }
   ],
   "source": [
    "date1"
   ]
  },
  {
   "cell_type": "code",
   "execution_count": 30,
   "id": "4f63e891",
   "metadata": {},
   "outputs": [
    {
     "data": {
      "text/plain": [
       "datetime.datetime(2021, 3, 18, 0, 0)"
      ]
     },
     "execution_count": 30,
     "metadata": {},
     "output_type": "execute_result"
    }
   ],
   "source": [
    "date1+date3"
   ]
  },
  {
   "cell_type": "code",
   "execution_count": 31,
   "id": "868d36cd",
   "metadata": {},
   "outputs": [
    {
     "data": {
      "text/plain": [
       "datetime.datetime(2021, 3, 4, 0, 0)"
      ]
     },
     "execution_count": 31,
     "metadata": {},
     "output_type": "execute_result"
    }
   ],
   "source": [
    "date1-date3"
   ]
  },
  {
   "cell_type": "code",
   "execution_count": 32,
   "id": "287da257",
   "metadata": {},
   "outputs": [
    {
     "data": {
      "text/plain": [
       "datetime.datetime(2021, 3, 11, 0, 0)"
      ]
     },
     "metadata": {},
     "output_type": "display_data"
    },
    {
     "name": "stderr",
     "output_type": "stream",
     "text": [
      "C:\\Users\\mtalh\\AppData\\Local\\Temp\\ipykernel_12460\\61819322.py:2: FutureWarning: The pandas.datetime class is deprecated and will be removed from pandas in a future version. Import from datetime module instead.\n",
      "  a=pd.datetime(2021, 3, 16, 0, 0)\n"
     ]
    }
   ],
   "source": [
    "display(date1)\n",
    "a=pd.datetime(2021, 3, 16, 0, 0)"
   ]
  },
  {
   "cell_type": "code",
   "execution_count": 33,
   "id": "573f3244",
   "metadata": {},
   "outputs": [
    {
     "data": {
      "text/plain": [
       "datetime.timedelta(days=-5)"
      ]
     },
     "execution_count": 33,
     "metadata": {},
     "output_type": "execute_result"
    }
   ],
   "source": [
    "date1-a"
   ]
  },
  {
   "cell_type": "markdown",
   "id": "d5cf9ab1",
   "metadata": {},
   "source": [
    "# DatetimeIndex\n",
    "Sequences of timestamp objects are represented by pandas as DatetimeIndex,\n",
    "which is a type of pandas index that is optimized for indexing by date and time.\n",
    "There are several ways to create DatetimeIndex objects in pandas. The following\n",
    "creates a DateTimeindex by passing a list of datetime objects as Series:"
   ]
  },
  {
   "cell_type": "code",
   "execution_count": 34,
   "id": "b8d9db14",
   "metadata": {},
   "outputs": [
    {
     "data": {
      "text/plain": [
       "2023-02-01   -0.136086\n",
       "2023-02-02    0.294339\n",
       "dtype: float64"
      ]
     },
     "metadata": {},
     "output_type": "display_data"
    }
   ],
   "source": [
    "datetime12=[datetime(2023,2,1),datetime(2023,2,2)]\n",
    "a=pd.Series(np.random.randn(2),datetime12)\n",
    "display(a)"
   ]
  },
  {
   "cell_type": "code",
   "execution_count": 35,
   "id": "e25135f2",
   "metadata": {},
   "outputs": [
    {
     "data": {
      "text/plain": [
       "DatetimeIndex(['2023-02-01', '2023-02-02'], dtype='datetime64[ns]', freq=None)"
      ]
     },
     "execution_count": 35,
     "metadata": {},
     "output_type": "execute_result"
    }
   ],
   "source": [
    "a.index"
   ]
  },
  {
   "cell_type": "code",
   "execution_count": 36,
   "id": "e7366ebf",
   "metadata": {},
   "outputs": [
    {
     "data": {
      "text/plain": [
       "array([-0.13608555,  0.29433881])"
      ]
     },
     "execution_count": 36,
     "metadata": {},
     "output_type": "execute_result"
    }
   ],
   "source": [
    "a.values"
   ]
  },
  {
   "cell_type": "code",
   "execution_count": 37,
   "id": "a3ab1c90",
   "metadata": {},
   "outputs": [],
   "source": [
    "a=pd.to_datetime(['2023-2-1','23 August 2021',None])"
   ]
  },
  {
   "cell_type": "code",
   "execution_count": 38,
   "id": "7cc5047b",
   "metadata": {},
   "outputs": [
    {
     "data": {
      "text/plain": [
       "DatetimeIndex(['2023-02-01', '2021-08-23', 'NaT'], dtype='datetime64[ns]', freq=None)"
      ]
     },
     "execution_count": 38,
     "metadata": {},
     "output_type": "execute_result"
    }
   ],
   "source": [
    "a"
   ]
  },
  {
   "cell_type": "code",
   "execution_count": 39,
   "id": "bfbe3083",
   "metadata": {},
   "outputs": [
    {
     "data": {
      "text/plain": [
       "Timestamp('2012-03-07 00:00:00')"
      ]
     },
     "execution_count": 39,
     "metadata": {},
     "output_type": "execute_result"
    }
   ],
   "source": [
    "pd.to_datetime('2012-3-7')"
   ]
  },
  {
   "cell_type": "code",
   "execution_count": 40,
   "id": "610d2e2b",
   "metadata": {},
   "outputs": [
    {
     "name": "stdout",
     "output_type": "stream",
     "text": [
      "2023-02-01 00:00:00\n",
      "2021-08-23 00:00:00\n",
      "NaT\n"
     ]
    }
   ],
   "source": [
    "for i in a:\n",
    "    print(i)"
   ]
  },
  {
   "cell_type": "markdown",
   "id": "a42d1792",
   "metadata": {},
   "source": [
    "# Date Range"
   ]
  },
  {
   "cell_type": "code",
   "execution_count": 41,
   "id": "b80defc9",
   "metadata": {},
   "outputs": [
    {
     "data": {
      "text/plain": [
       "2023-02-01   -0.416758\n",
       "2023-02-02   -0.056267\n",
       "2023-02-03   -2.136196\n",
       "2023-02-04    1.640271\n",
       "2023-02-05   -1.793436\n",
       "2023-02-06   -0.841747\n",
       "2023-02-07    0.502881\n",
       "2023-02-08   -1.245288\n",
       "Freq: D, dtype: float64"
      ]
     },
     "metadata": {},
     "output_type": "display_data"
    }
   ],
   "source": [
    "per=pd.date_range('2023-2-1',periods=8)\n",
    "np.random.seed(2)\n",
    "rr=pd.Series(np.random.randn(8),index=per)\n",
    "# rr=pd.Series(np.random.randint(8),index=per)\n",
    "display(rr)"
   ]
  },
  {
   "cell_type": "code",
   "execution_count": 42,
   "id": "59c4764c",
   "metadata": {},
   "outputs": [],
   "source": [
    "# per=pd.date_range(start='2022/2/5' ,end='2022/2/15',freq='3d')\n",
    "# per=pd.date_range(start='2022/2/5' ,end='2022/2/15',freq='1w')\n",
    "# per=pd.date_range(start='2022/2/5' ,end='2022/4/15',freq='d')\n",
    "per=pd.date_range(start='2022/2/5' ,end='2022/5/15',freq='m')"
   ]
  },
  {
   "cell_type": "code",
   "execution_count": 43,
   "id": "bc08b3ff",
   "metadata": {},
   "outputs": [
    {
     "data": {
      "text/plain": [
       "DatetimeIndex(['2022-02-28', '2022-03-31', '2022-04-30'], dtype='datetime64[ns]', freq='M')"
      ]
     },
     "execution_count": 43,
     "metadata": {},
     "output_type": "execute_result"
    }
   ],
   "source": [
    "per"
   ]
  },
  {
   "cell_type": "code",
   "execution_count": 44,
   "id": "d5b5af4c",
   "metadata": {},
   "outputs": [
    {
     "name": "stdout",
     "output_type": "stream",
     "text": [
      "2022-02-28 00:00:00\n",
      "2022-03-31 00:00:00\n",
      "2022-04-30 00:00:00\n"
     ]
    }
   ],
   "source": [
    "for i in per:\n",
    "    print(i)"
   ]
  },
  {
   "cell_type": "code",
   "execution_count": 45,
   "id": "e50a99e8",
   "metadata": {},
   "outputs": [],
   "source": [
    "np.random.seed(3)\n",
    "b=pd.Series(np.random.randn(len(per)),per)"
   ]
  },
  {
   "cell_type": "code",
   "execution_count": 46,
   "id": "7e59ebdf",
   "metadata": {},
   "outputs": [
    {
     "data": {
      "text/plain": [
       "2022-02-28    1.788628\n",
       "2022-03-31    0.436510\n",
       "2022-04-30    0.096497\n",
       "Freq: M, dtype: float64"
      ]
     },
     "execution_count": 46,
     "metadata": {},
     "output_type": "execute_result"
    }
   ],
   "source": [
    "b"
   ]
  },
  {
   "cell_type": "code",
   "execution_count": 47,
   "id": "e61dd861",
   "metadata": {},
   "outputs": [
    {
     "data": {
      "text/plain": [
       "2022-03-31    0.436510\n",
       "2022-04-30    0.096497\n",
       "Freq: M, dtype: float64"
      ]
     },
     "metadata": {},
     "output_type": "display_data"
    },
    {
     "data": {
      "text/plain": [
       "2022-03-31    0.43651\n",
       "Freq: M, dtype: float64"
      ]
     },
     "metadata": {},
     "output_type": "display_data"
    }
   ],
   "source": [
    "display(b[1:3])\n",
    "display(b[1:2])"
   ]
  },
  {
   "cell_type": "code",
   "execution_count": 48,
   "id": "0914a3cb",
   "metadata": {},
   "outputs": [
    {
     "data": {
      "text/plain": [
       "2022-02-28    1.788628\n",
       "2022-03-01    0.436510\n",
       "2022-03-02    0.096497\n",
       "2022-03-03   -1.863493\n",
       "2022-03-04   -0.277388\n",
       "Freq: D, dtype: float64"
      ]
     },
     "execution_count": 48,
     "metadata": {},
     "output_type": "execute_result"
    }
   ],
   "source": [
    "a=pd.date_range('2022-2-28',periods=5)\n",
    "np.random.seed(3)\n",
    "a1=pd.Series(np.random.randn(len(a)),a)\n",
    "a1"
   ]
  },
  {
   "cell_type": "code",
   "execution_count": 49,
   "id": "21848361",
   "metadata": {},
   "outputs": [
    {
     "data": {
      "text/plain": [
       "DatetimeIndex(['2022-02-28', '2022-03-31', '2022-04-30'], dtype='datetime64[ns]', freq='M')"
      ]
     },
     "metadata": {},
     "output_type": "display_data"
    },
    {
     "data": {
      "text/plain": [
       "2022-02-28   -0.416758\n",
       "2022-03-31   -0.056267\n",
       "2022-04-30   -2.136196\n",
       "Freq: M, dtype: float64"
      ]
     },
     "metadata": {},
     "output_type": "display_data"
    }
   ],
   "source": [
    "display(per)\n",
    "np.random.seed(2)\n",
    "a2=pd.Series(np.random.randn(len(per)),per)\n",
    "display(a2)"
   ]
  },
  {
   "cell_type": "code",
   "execution_count": 50,
   "id": "243516fb",
   "metadata": {},
   "outputs": [
    {
     "data": {
      "text/plain": [
       "2022-02-28    1.371871\n",
       "2022-03-01         NaN\n",
       "2022-03-02         NaN\n",
       "2022-03-03         NaN\n",
       "2022-03-04         NaN\n",
       "2022-03-31         NaN\n",
       "2022-04-30         NaN\n",
       "dtype: float64"
      ]
     },
     "execution_count": 50,
     "metadata": {},
     "output_type": "execute_result"
    }
   ],
   "source": [
    "p=a2+a1\n",
    "p"
   ]
  },
  {
   "cell_type": "code",
   "execution_count": 51,
   "id": "4a5c9266",
   "metadata": {},
   "outputs": [
    {
     "data": {
      "text/plain": [
       "2022-02-28    1.371871\n",
       "2022-03-01         NaN\n",
       "2022-03-02         NaN\n",
       "2022-03-03         NaN\n",
       "dtype: float64"
      ]
     },
     "execution_count": 51,
     "metadata": {},
     "output_type": "execute_result"
    }
   ],
   "source": [
    "p['2022-02-28':'2022-03-03']"
   ]
  },
  {
   "cell_type": "code",
   "execution_count": 56,
   "id": "26839f0e",
   "metadata": {},
   "outputs": [
    {
     "data": {
      "text/plain": [
       "2022-01-01   -1.022988\n",
       "2022-01-02    0.789523\n",
       "2022-01-03   -0.080748\n",
       "2022-01-04   -1.387169\n",
       "2022-01-05   -0.276666\n",
       "                ...   \n",
       "2023-12-27    0.392173\n",
       "2023-12-28    0.578761\n",
       "2023-12-29   -1.432873\n",
       "2023-12-30   -0.568116\n",
       "2023-12-31   -0.294323\n",
       "Freq: D, Length: 730, dtype: float64"
      ]
     },
     "metadata": {},
     "output_type": "display_data"
    },
    {
     "data": {
      "text/plain": [
       "730"
      ]
     },
     "metadata": {},
     "output_type": "display_data"
    }
   ],
   "source": [
    "# aa=pd.Series(0,pd.date_range('2022-1-1','2023-12-31'))\n",
    "aa=pd.Series(np.random.randn(730),pd.date_range('2022-1-1','2023-12-31'))\n",
    "display(aa)\n",
    "display(aa.size)"
   ]
  },
  {
   "cell_type": "code",
   "execution_count": 57,
   "id": "e0d475b7",
   "metadata": {},
   "outputs": [
    {
     "data": {
      "text/plain": [
       "2022-01-01   -1.022988\n",
       "2022-01-02    0.789523\n",
       "2022-01-03   -0.080748\n",
       "2022-01-04   -1.387169\n",
       "2022-01-05   -0.276666\n",
       "2022-01-06    0.082822\n",
       "2022-01-07   -1.087395\n",
       "2022-01-08    0.702014\n",
       "2022-01-09   -0.356136\n",
       "2022-01-10    0.431989\n",
       "2022-01-11   -1.017863\n",
       "2022-01-12    0.287747\n",
       "2022-01-13    0.704451\n",
       "2022-01-14   -0.462866\n",
       "2022-01-15   -0.214453\n",
       "2022-01-16   -0.592967\n",
       "2022-01-17    0.311604\n",
       "2022-01-18    0.010034\n",
       "2022-01-19    0.478805\n",
       "2022-01-20   -0.080306\n",
       "2022-01-21   -1.292224\n",
       "2022-01-22   -1.333404\n",
       "2022-01-23   -0.469841\n",
       "2022-01-24    0.440207\n",
       "2022-01-25    2.242663\n",
       "2022-01-26    0.848821\n",
       "2022-01-27   -0.633261\n",
       "2022-01-28   -2.045867\n",
       "2022-01-29    0.494494\n",
       "2022-01-30   -0.001953\n",
       "2022-01-31   -1.231664\n",
       "Freq: D, dtype: float64"
      ]
     },
     "execution_count": 57,
     "metadata": {},
     "output_type": "execute_result"
    }
   ],
   "source": [
    "aa['2022-1']"
   ]
  },
  {
   "cell_type": "code",
   "execution_count": 58,
   "id": "d026eb84",
   "metadata": {},
   "outputs": [
    {
     "data": {
      "text/plain": [
       "2022-01-01   -1.022988\n",
       "2022-01-02    0.789523\n",
       "2022-01-03   -0.080748\n",
       "2022-01-04   -1.387169\n",
       "2022-01-05   -0.276666\n",
       "                ...   \n",
       "2022-03-27   -0.848414\n",
       "2022-03-28   -1.358454\n",
       "2022-03-29   -0.202841\n",
       "2022-03-30    0.671147\n",
       "2022-03-31   -0.309983\n",
       "Freq: D, Length: 90, dtype: float64"
      ]
     },
     "execution_count": 58,
     "metadata": {},
     "output_type": "execute_result"
    }
   ],
   "source": [
    "aa['2022-1':'2022-3']"
   ]
  },
  {
   "cell_type": "code",
   "execution_count": 84,
   "id": "74cbb94d",
   "metadata": {},
   "outputs": [
    {
     "data": {
      "text/plain": [
       "2022-01-01 00:00:00    1.189179\n",
       "2022-01-01 00:01:00   -0.259662\n",
       "2022-01-01 00:02:00   -0.446317\n",
       "2022-01-01 00:03:00    0.340034\n",
       "2022-01-01 00:04:00   -0.066646\n",
       "                         ...   \n",
       "2022-03-30 23:56:00   -1.330006\n",
       "2022-03-30 23:57:00    0.468093\n",
       "2022-03-30 23:58:00   -1.093634\n",
       "2022-03-30 23:59:00   -0.990691\n",
       "2022-03-31 00:00:00    0.310933\n",
       "Freq: T, Length: 128161, dtype: float64"
      ]
     },
     "execution_count": 84,
     "metadata": {},
     "output_type": "execute_result"
    }
   ],
   "source": [
    "bb=pd.Series(np.random.randn(128161),pd.date_range('2022-1-1','2022-3-31 00:00',freq='T'))\n",
    "bb"
   ]
  },
  {
   "cell_type": "code",
   "execution_count": null,
   "id": "4e38c02b",
   "metadata": {},
   "outputs": [],
   "source": []
  }
 ],
 "metadata": {
  "kernelspec": {
   "display_name": "Python 3 (ipykernel)",
   "language": "python",
   "name": "python3"
  },
  "language_info": {
   "codemirror_mode": {
    "name": "ipython",
    "version": 3
   },
   "file_extension": ".py",
   "mimetype": "text/x-python",
   "name": "python",
   "nbconvert_exporter": "python",
   "pygments_lexer": "ipython3",
   "version": "3.9.12"
  }
 },
 "nbformat": 4,
 "nbformat_minor": 5
}
