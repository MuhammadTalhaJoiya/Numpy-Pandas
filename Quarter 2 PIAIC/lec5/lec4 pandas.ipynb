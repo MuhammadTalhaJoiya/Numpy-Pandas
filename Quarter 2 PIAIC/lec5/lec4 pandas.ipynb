{
 "cells": [
  {
   "cell_type": "code",
   "execution_count": 1,
   "id": "dc211139",
   "metadata": {},
   "outputs": [],
   "source": [
    "import pandas as pd\n",
    "import numpy as np"
   ]
  },
  {
   "cell_type": "code",
   "execution_count": 2,
   "id": "9cf0d8c2",
   "metadata": {},
   "outputs": [
    {
     "data": {
      "text/html": [
       "<div>\n",
       "<style scoped>\n",
       "    .dataframe tbody tr th:only-of-type {\n",
       "        vertical-align: middle;\n",
       "    }\n",
       "\n",
       "    .dataframe tbody tr th {\n",
       "        vertical-align: top;\n",
       "    }\n",
       "\n",
       "    .dataframe thead th {\n",
       "        text-align: right;\n",
       "    }\n",
       "</style>\n",
       "<table border=\"1\" class=\"dataframe\">\n",
       "  <thead>\n",
       "    <tr style=\"text-align: right;\">\n",
       "      <th></th>\n",
       "      <th>ids</th>\n",
       "      <th>Name</th>\n",
       "      <th>Age</th>\n",
       "      <th>Designation</th>\n",
       "      <th>Grade</th>\n",
       "      <th>Dept Salary</th>\n",
       "    </tr>\n",
       "  </thead>\n",
       "  <tbody>\n",
       "    <tr>\n",
       "      <th>0</th>\n",
       "      <td>11</td>\n",
       "      <td>Talha</td>\n",
       "      <td>22</td>\n",
       "      <td>Officer</td>\n",
       "      <td>17</td>\n",
       "      <td>20000</td>\n",
       "    </tr>\n",
       "    <tr>\n",
       "      <th>1</th>\n",
       "      <td>23</td>\n",
       "      <td>Ali</td>\n",
       "      <td>33</td>\n",
       "      <td>Officer</td>\n",
       "      <td>17</td>\n",
       "      <td>30000</td>\n",
       "    </tr>\n",
       "    <tr>\n",
       "      <th>2</th>\n",
       "      <td>45</td>\n",
       "      <td>Zayn</td>\n",
       "      <td>65</td>\n",
       "      <td>Manger</td>\n",
       "      <td>14</td>\n",
       "      <td>40000</td>\n",
       "    </tr>\n",
       "    <tr>\n",
       "      <th>3</th>\n",
       "      <td>32</td>\n",
       "      <td>Younus</td>\n",
       "      <td>33</td>\n",
       "      <td>Boss</td>\n",
       "      <td>18</td>\n",
       "      <td>60000</td>\n",
       "    </tr>\n",
       "    <tr>\n",
       "      <th>4</th>\n",
       "      <td>44</td>\n",
       "      <td>Tanveer</td>\n",
       "      <td>23</td>\n",
       "      <td>Suervisor</td>\n",
       "      <td>19</td>\n",
       "      <td>12000</td>\n",
       "    </tr>\n",
       "    <tr>\n",
       "      <th>5</th>\n",
       "      <td>76</td>\n",
       "      <td>Safi</td>\n",
       "      <td>12</td>\n",
       "      <td>Supervisor</td>\n",
       "      <td>18</td>\n",
       "      <td>40333</td>\n",
       "    </tr>\n",
       "    <tr>\n",
       "      <th>6</th>\n",
       "      <td>44</td>\n",
       "      <td>Usman</td>\n",
       "      <td>22</td>\n",
       "      <td>Officer</td>\n",
       "      <td>14</td>\n",
       "      <td>23456</td>\n",
       "    </tr>\n",
       "  </tbody>\n",
       "</table>\n",
       "</div>"
      ],
      "text/plain": [
       "   ids     Name  Age Designation  Grade  Dept Salary\n",
       "0   11    Talha   22     Officer     17        20000\n",
       "1   23      Ali   33     Officer     17        30000\n",
       "2   45     Zayn   65      Manger     14        40000\n",
       "3   32   Younus   33        Boss     18        60000\n",
       "4   44  Tanveer   23   Suervisor     19        12000\n",
       "5   76     Safi   12  Supervisor     18        40333\n",
       "6   44    Usman   22     Officer     14        23456"
      ]
     },
     "metadata": {},
     "output_type": "display_data"
    }
   ],
   "source": [
    "data=pd.read_excel('data.xlsx')\n",
    "display(data)"
   ]
  },
  {
   "cell_type": "code",
   "execution_count": 3,
   "id": "d1ed7209",
   "metadata": {},
   "outputs": [
    {
     "data": {
      "text/plain": [
       "<pandas.core.groupby.generic.DataFrameGroupBy object at 0x0000021E91A44DC0>"
      ]
     },
     "execution_count": 3,
     "metadata": {},
     "output_type": "execute_result"
    }
   ],
   "source": [
    "designation_group=data.groupby('Designation')\n",
    "designation_group"
   ]
  },
  {
   "cell_type": "code",
   "execution_count": 4,
   "id": "8d259c8c",
   "metadata": {},
   "outputs": [
    {
     "data": {
      "text/plain": [
       "{'Boss': [3], 'Manger': [2], 'Officer': [0, 1, 6], 'Suervisor': [4], 'Supervisor': [5]}"
      ]
     },
     "execution_count": 4,
     "metadata": {},
     "output_type": "execute_result"
    }
   ],
   "source": [
    "designation_group=data.groupby('Designation').groups\n",
    "designation_group"
   ]
  },
  {
   "cell_type": "code",
   "execution_count": 5,
   "id": "50f977ca",
   "metadata": {},
   "outputs": [
    {
     "data": {
      "text/plain": [
       "{'Boss': [3], 'Manger': [2], 'Officer': [0, 1, 6], 'Suervisor': [4], 'Supervisor': [5]}"
      ]
     },
     "execution_count": 5,
     "metadata": {},
     "output_type": "execute_result"
    }
   ],
   "source": [
    "designation_group=data.groupby('Designation')\n",
    "designation_group.groups"
   ]
  },
  {
   "cell_type": "code",
   "execution_count": 6,
   "id": "d9ea1818",
   "metadata": {},
   "outputs": [
    {
     "data": {
      "text/html": [
       "<div>\n",
       "<style scoped>\n",
       "    .dataframe tbody tr th:only-of-type {\n",
       "        vertical-align: middle;\n",
       "    }\n",
       "\n",
       "    .dataframe tbody tr th {\n",
       "        vertical-align: top;\n",
       "    }\n",
       "\n",
       "    .dataframe thead th {\n",
       "        text-align: right;\n",
       "    }\n",
       "</style>\n",
       "<table border=\"1\" class=\"dataframe\">\n",
       "  <thead>\n",
       "    <tr style=\"text-align: right;\">\n",
       "      <th></th>\n",
       "      <th>ids</th>\n",
       "      <th>Name</th>\n",
       "      <th>Age</th>\n",
       "      <th>Designation</th>\n",
       "      <th>Grade</th>\n",
       "      <th>Dept Salary</th>\n",
       "    </tr>\n",
       "  </thead>\n",
       "  <tbody>\n",
       "    <tr>\n",
       "      <th>0</th>\n",
       "      <td>11</td>\n",
       "      <td>Talha</td>\n",
       "      <td>22</td>\n",
       "      <td>Officer</td>\n",
       "      <td>17</td>\n",
       "      <td>20000</td>\n",
       "    </tr>\n",
       "    <tr>\n",
       "      <th>1</th>\n",
       "      <td>23</td>\n",
       "      <td>Ali</td>\n",
       "      <td>33</td>\n",
       "      <td>Officer</td>\n",
       "      <td>17</td>\n",
       "      <td>30000</td>\n",
       "    </tr>\n",
       "    <tr>\n",
       "      <th>6</th>\n",
       "      <td>44</td>\n",
       "      <td>Usman</td>\n",
       "      <td>22</td>\n",
       "      <td>Officer</td>\n",
       "      <td>14</td>\n",
       "      <td>23456</td>\n",
       "    </tr>\n",
       "  </tbody>\n",
       "</table>\n",
       "</div>"
      ],
      "text/plain": [
       "   ids   Name  Age Designation  Grade  Dept Salary\n",
       "0   11  Talha   22     Officer     17        20000\n",
       "1   23    Ali   33     Officer     17        30000\n",
       "6   44  Usman   22     Officer     14        23456"
      ]
     },
     "execution_count": 6,
     "metadata": {},
     "output_type": "execute_result"
    }
   ],
   "source": [
    "designation_group.get_group('Officer')"
   ]
  },
  {
   "cell_type": "code",
   "execution_count": 7,
   "id": "d070b715",
   "metadata": {},
   "outputs": [
    {
     "data": {
      "text/plain": [
       "{14: [2, 6], 17: [0, 1], 18: [3, 5], 19: [4]}"
      ]
     },
     "execution_count": 7,
     "metadata": {},
     "output_type": "execute_result"
    }
   ],
   "source": [
    "group_GRade=data.groupby('Grade')\n",
    "group_GRade.groups"
   ]
  },
  {
   "cell_type": "code",
   "execution_count": 8,
   "id": "a4a4e533",
   "metadata": {},
   "outputs": [
    {
     "data": {
      "text/html": [
       "<div>\n",
       "<style scoped>\n",
       "    .dataframe tbody tr th:only-of-type {\n",
       "        vertical-align: middle;\n",
       "    }\n",
       "\n",
       "    .dataframe tbody tr th {\n",
       "        vertical-align: top;\n",
       "    }\n",
       "\n",
       "    .dataframe thead th {\n",
       "        text-align: right;\n",
       "    }\n",
       "</style>\n",
       "<table border=\"1\" class=\"dataframe\">\n",
       "  <thead>\n",
       "    <tr style=\"text-align: right;\">\n",
       "      <th></th>\n",
       "      <th>ids</th>\n",
       "      <th>Name</th>\n",
       "      <th>Age</th>\n",
       "      <th>Designation</th>\n",
       "      <th>Grade</th>\n",
       "      <th>Dept Salary</th>\n",
       "    </tr>\n",
       "  </thead>\n",
       "  <tbody>\n",
       "    <tr>\n",
       "      <th>0</th>\n",
       "      <td>11</td>\n",
       "      <td>Talha</td>\n",
       "      <td>22</td>\n",
       "      <td>Officer</td>\n",
       "      <td>17</td>\n",
       "      <td>20000</td>\n",
       "    </tr>\n",
       "    <tr>\n",
       "      <th>1</th>\n",
       "      <td>23</td>\n",
       "      <td>Ali</td>\n",
       "      <td>33</td>\n",
       "      <td>Officer</td>\n",
       "      <td>17</td>\n",
       "      <td>30000</td>\n",
       "    </tr>\n",
       "  </tbody>\n",
       "</table>\n",
       "</div>"
      ],
      "text/plain": [
       "   ids   Name  Age Designation  Grade  Dept Salary\n",
       "0   11  Talha   22     Officer     17        20000\n",
       "1   23    Ali   33     Officer     17        30000"
      ]
     },
     "execution_count": 8,
     "metadata": {},
     "output_type": "execute_result"
    }
   ],
   "source": [
    "group_GRade.get_group(17)"
   ]
  },
  {
   "cell_type": "code",
   "execution_count": 9,
   "id": "696aeeb4",
   "metadata": {},
   "outputs": [],
   "source": [
    "designation_grade_group=data.groupby(['Designation','Grade'])"
   ]
  },
  {
   "cell_type": "code",
   "execution_count": 10,
   "id": "90d06be5",
   "metadata": {},
   "outputs": [
    {
     "data": {
      "text/plain": [
       "{('Boss', 18): [3], ('Manger', 14): [2], ('Officer', 14): [6], ('Officer', 17): [0, 1], ('Suervisor', 19): [4], ('Supervisor', 18): [5]}"
      ]
     },
     "execution_count": 10,
     "metadata": {},
     "output_type": "execute_result"
    }
   ],
   "source": [
    "designation_grade_group.groups"
   ]
  },
  {
   "cell_type": "code",
   "execution_count": 11,
   "id": "fed67240",
   "metadata": {},
   "outputs": [
    {
     "data": {
      "text/html": [
       "<div>\n",
       "<style scoped>\n",
       "    .dataframe tbody tr th:only-of-type {\n",
       "        vertical-align: middle;\n",
       "    }\n",
       "\n",
       "    .dataframe tbody tr th {\n",
       "        vertical-align: top;\n",
       "    }\n",
       "\n",
       "    .dataframe thead th {\n",
       "        text-align: right;\n",
       "    }\n",
       "</style>\n",
       "<table border=\"1\" class=\"dataframe\">\n",
       "  <thead>\n",
       "    <tr style=\"text-align: right;\">\n",
       "      <th></th>\n",
       "      <th>ids</th>\n",
       "      <th>Name</th>\n",
       "      <th>Age</th>\n",
       "      <th>Designation</th>\n",
       "      <th>Grade</th>\n",
       "      <th>Dept Salary</th>\n",
       "    </tr>\n",
       "  </thead>\n",
       "  <tbody>\n",
       "    <tr>\n",
       "      <th>0</th>\n",
       "      <td>11</td>\n",
       "      <td>Talha</td>\n",
       "      <td>22</td>\n",
       "      <td>Officer</td>\n",
       "      <td>17</td>\n",
       "      <td>20000</td>\n",
       "    </tr>\n",
       "    <tr>\n",
       "      <th>1</th>\n",
       "      <td>23</td>\n",
       "      <td>Ali</td>\n",
       "      <td>33</td>\n",
       "      <td>Officer</td>\n",
       "      <td>17</td>\n",
       "      <td>30000</td>\n",
       "    </tr>\n",
       "  </tbody>\n",
       "</table>\n",
       "</div>"
      ],
      "text/plain": [
       "   ids   Name  Age Designation  Grade  Dept Salary\n",
       "0   11  Talha   22     Officer     17        20000\n",
       "1   23    Ali   33     Officer     17        30000"
      ]
     },
     "execution_count": 11,
     "metadata": {},
     "output_type": "execute_result"
    }
   ],
   "source": [
    "designation_grade_group.get_group(('Officer', 17))"
   ]
  },
  {
   "cell_type": "code",
   "execution_count": 12,
   "id": "ff0e339d",
   "metadata": {},
   "outputs": [
    {
     "data": {
      "text/html": [
       "<div>\n",
       "<style scoped>\n",
       "    .dataframe tbody tr th:only-of-type {\n",
       "        vertical-align: middle;\n",
       "    }\n",
       "\n",
       "    .dataframe tbody tr th {\n",
       "        vertical-align: top;\n",
       "    }\n",
       "\n",
       "    .dataframe thead th {\n",
       "        text-align: right;\n",
       "    }\n",
       "</style>\n",
       "<table border=\"1\" class=\"dataframe\">\n",
       "  <thead>\n",
       "    <tr style=\"text-align: right;\">\n",
       "      <th></th>\n",
       "      <th>ids</th>\n",
       "      <th>Name</th>\n",
       "      <th>Age</th>\n",
       "      <th>Designation</th>\n",
       "      <th>Grade</th>\n",
       "      <th>Dept Salary</th>\n",
       "    </tr>\n",
       "  </thead>\n",
       "  <tbody>\n",
       "    <tr>\n",
       "      <th>3</th>\n",
       "      <td>32</td>\n",
       "      <td>Younus</td>\n",
       "      <td>33</td>\n",
       "      <td>Boss</td>\n",
       "      <td>18</td>\n",
       "      <td>60000</td>\n",
       "    </tr>\n",
       "  </tbody>\n",
       "</table>\n",
       "</div>"
      ],
      "text/plain": [
       "   ids    Name  Age Designation  Grade  Dept Salary\n",
       "3   32  Younus   33        Boss     18        60000"
      ]
     },
     "execution_count": 12,
     "metadata": {},
     "output_type": "execute_result"
    }
   ],
   "source": [
    "designation_grade_group.get_group(('Boss', 18))"
   ]
  },
  {
   "cell_type": "code",
   "execution_count": 13,
   "id": "8b68f0d6",
   "metadata": {},
   "outputs": [
    {
     "data": {
      "text/html": [
       "<div>\n",
       "<style scoped>\n",
       "    .dataframe tbody tr th:only-of-type {\n",
       "        vertical-align: middle;\n",
       "    }\n",
       "\n",
       "    .dataframe tbody tr th {\n",
       "        vertical-align: top;\n",
       "    }\n",
       "\n",
       "    .dataframe thead th {\n",
       "        text-align: right;\n",
       "    }\n",
       "</style>\n",
       "<table border=\"1\" class=\"dataframe\">\n",
       "  <thead>\n",
       "    <tr style=\"text-align: right;\">\n",
       "      <th></th>\n",
       "      <th></th>\n",
       "      <th>ids</th>\n",
       "      <th>Age</th>\n",
       "      <th>Dept Salary</th>\n",
       "    </tr>\n",
       "    <tr>\n",
       "      <th>Designation</th>\n",
       "      <th>Grade</th>\n",
       "      <th></th>\n",
       "      <th></th>\n",
       "      <th></th>\n",
       "    </tr>\n",
       "  </thead>\n",
       "  <tbody>\n",
       "    <tr>\n",
       "      <th>Boss</th>\n",
       "      <th>18</th>\n",
       "      <td>32.0</td>\n",
       "      <td>33.0</td>\n",
       "      <td>60000.0</td>\n",
       "    </tr>\n",
       "    <tr>\n",
       "      <th>Manger</th>\n",
       "      <th>14</th>\n",
       "      <td>45.0</td>\n",
       "      <td>65.0</td>\n",
       "      <td>40000.0</td>\n",
       "    </tr>\n",
       "    <tr>\n",
       "      <th rowspan=\"2\" valign=\"top\">Officer</th>\n",
       "      <th>14</th>\n",
       "      <td>44.0</td>\n",
       "      <td>22.0</td>\n",
       "      <td>23456.0</td>\n",
       "    </tr>\n",
       "    <tr>\n",
       "      <th>17</th>\n",
       "      <td>17.0</td>\n",
       "      <td>27.5</td>\n",
       "      <td>25000.0</td>\n",
       "    </tr>\n",
       "    <tr>\n",
       "      <th>Suervisor</th>\n",
       "      <th>19</th>\n",
       "      <td>44.0</td>\n",
       "      <td>23.0</td>\n",
       "      <td>12000.0</td>\n",
       "    </tr>\n",
       "    <tr>\n",
       "      <th>Supervisor</th>\n",
       "      <th>18</th>\n",
       "      <td>76.0</td>\n",
       "      <td>12.0</td>\n",
       "      <td>40333.0</td>\n",
       "    </tr>\n",
       "  </tbody>\n",
       "</table>\n",
       "</div>"
      ],
      "text/plain": [
       "                    ids   Age  Dept Salary\n",
       "Designation Grade                         \n",
       "Boss        18     32.0  33.0      60000.0\n",
       "Manger      14     45.0  65.0      40000.0\n",
       "Officer     14     44.0  22.0      23456.0\n",
       "            17     17.0  27.5      25000.0\n",
       "Suervisor   19     44.0  23.0      12000.0\n",
       "Supervisor  18     76.0  12.0      40333.0"
      ]
     },
     "execution_count": 13,
     "metadata": {},
     "output_type": "execute_result"
    }
   ],
   "source": [
    "designation_grade_group.agg('mean')"
   ]
  },
  {
   "cell_type": "code",
   "execution_count": 14,
   "id": "7bfafa07",
   "metadata": {},
   "outputs": [
    {
     "data": {
      "text/plain": [
       "Designation  Grade\n",
       "Boss         18       32.0\n",
       "Manger       14       45.0\n",
       "Officer      14       44.0\n",
       "             17       17.0\n",
       "Suervisor    19       44.0\n",
       "Supervisor   18       76.0\n",
       "Name: ids, dtype: float64"
      ]
     },
     "execution_count": 14,
     "metadata": {},
     "output_type": "execute_result"
    }
   ],
   "source": [
    "designation_grade_group.agg('mean')['ids']"
   ]
  },
  {
   "cell_type": "code",
   "execution_count": 15,
   "id": "e15d40d5",
   "metadata": {},
   "outputs": [
    {
     "data": {
      "text/plain": [
       "Designation  Grade\n",
       "Boss         18       32.0\n",
       "Manger       14       45.0\n",
       "Officer      14       44.0\n",
       "             17       17.0\n",
       "Suervisor    19       44.0\n",
       "Supervisor   18       76.0\n",
       "Name: ids, dtype: float64"
      ]
     },
     "execution_count": 15,
     "metadata": {},
     "output_type": "execute_result"
    }
   ],
   "source": [
    "designation_grade_group.ids.agg('mean')"
   ]
  },
  {
   "cell_type": "code",
   "execution_count": 16,
   "id": "7836c310",
   "metadata": {},
   "outputs": [
    {
     "data": {
      "text/plain": [
       "{'Boss': [3], 'Manger': [2], 'Officer': [0, 1, 6], 'Suervisor': [4], 'Supervisor': [5]}"
      ]
     },
     "metadata": {},
     "output_type": "display_data"
    },
    {
     "data": {
      "text/html": [
       "<div>\n",
       "<style scoped>\n",
       "    .dataframe tbody tr th:only-of-type {\n",
       "        vertical-align: middle;\n",
       "    }\n",
       "\n",
       "    .dataframe tbody tr th {\n",
       "        vertical-align: top;\n",
       "    }\n",
       "\n",
       "    .dataframe thead th {\n",
       "        text-align: right;\n",
       "    }\n",
       "</style>\n",
       "<table border=\"1\" class=\"dataframe\">\n",
       "  <thead>\n",
       "    <tr style=\"text-align: right;\">\n",
       "      <th></th>\n",
       "      <th>ids</th>\n",
       "      <th>Name</th>\n",
       "      <th>Age</th>\n",
       "      <th>Designation</th>\n",
       "      <th>Grade</th>\n",
       "      <th>Dept Salary</th>\n",
       "    </tr>\n",
       "  </thead>\n",
       "  <tbody>\n",
       "    <tr>\n",
       "      <th>3</th>\n",
       "      <td>32</td>\n",
       "      <td>Younus</td>\n",
       "      <td>33</td>\n",
       "      <td>Boss</td>\n",
       "      <td>18</td>\n",
       "      <td>60000</td>\n",
       "    </tr>\n",
       "  </tbody>\n",
       "</table>\n",
       "</div>"
      ],
      "text/plain": [
       "   ids    Name  Age Designation  Grade  Dept Salary\n",
       "3   32  Younus   33        Boss     18        60000"
      ]
     },
     "metadata": {},
     "output_type": "display_data"
    },
    {
     "data": {
      "text/html": [
       "<div>\n",
       "<style scoped>\n",
       "    .dataframe tbody tr th:only-of-type {\n",
       "        vertical-align: middle;\n",
       "    }\n",
       "\n",
       "    .dataframe tbody tr th {\n",
       "        vertical-align: top;\n",
       "    }\n",
       "\n",
       "    .dataframe thead tr th {\n",
       "        text-align: left;\n",
       "    }\n",
       "\n",
       "    .dataframe thead tr:last-of-type th {\n",
       "        text-align: right;\n",
       "    }\n",
       "</style>\n",
       "<table border=\"1\" class=\"dataframe\">\n",
       "  <thead>\n",
       "    <tr>\n",
       "      <th></th>\n",
       "      <th colspan=\"8\" halign=\"left\">ids</th>\n",
       "      <th colspan=\"2\" halign=\"left\">Age</th>\n",
       "      <th>...</th>\n",
       "      <th colspan=\"2\" halign=\"left\">Grade</th>\n",
       "      <th colspan=\"8\" halign=\"left\">Dept Salary</th>\n",
       "    </tr>\n",
       "    <tr>\n",
       "      <th></th>\n",
       "      <th>count</th>\n",
       "      <th>mean</th>\n",
       "      <th>std</th>\n",
       "      <th>min</th>\n",
       "      <th>25%</th>\n",
       "      <th>50%</th>\n",
       "      <th>75%</th>\n",
       "      <th>max</th>\n",
       "      <th>count</th>\n",
       "      <th>mean</th>\n",
       "      <th>...</th>\n",
       "      <th>75%</th>\n",
       "      <th>max</th>\n",
       "      <th>count</th>\n",
       "      <th>mean</th>\n",
       "      <th>std</th>\n",
       "      <th>min</th>\n",
       "      <th>25%</th>\n",
       "      <th>50%</th>\n",
       "      <th>75%</th>\n",
       "      <th>max</th>\n",
       "    </tr>\n",
       "    <tr>\n",
       "      <th>Designation</th>\n",
       "      <th></th>\n",
       "      <th></th>\n",
       "      <th></th>\n",
       "      <th></th>\n",
       "      <th></th>\n",
       "      <th></th>\n",
       "      <th></th>\n",
       "      <th></th>\n",
       "      <th></th>\n",
       "      <th></th>\n",
       "      <th></th>\n",
       "      <th></th>\n",
       "      <th></th>\n",
       "      <th></th>\n",
       "      <th></th>\n",
       "      <th></th>\n",
       "      <th></th>\n",
       "      <th></th>\n",
       "      <th></th>\n",
       "      <th></th>\n",
       "      <th></th>\n",
       "    </tr>\n",
       "  </thead>\n",
       "  <tbody>\n",
       "    <tr>\n",
       "      <th>Boss</th>\n",
       "      <td>1.0</td>\n",
       "      <td>32.0</td>\n",
       "      <td>NaN</td>\n",
       "      <td>32.0</td>\n",
       "      <td>32.0</td>\n",
       "      <td>32.0</td>\n",
       "      <td>32.0</td>\n",
       "      <td>32.0</td>\n",
       "      <td>1.0</td>\n",
       "      <td>33.000000</td>\n",
       "      <td>...</td>\n",
       "      <td>18.0</td>\n",
       "      <td>18.0</td>\n",
       "      <td>1.0</td>\n",
       "      <td>60000.000000</td>\n",
       "      <td>NaN</td>\n",
       "      <td>60000.0</td>\n",
       "      <td>60000.0</td>\n",
       "      <td>60000.0</td>\n",
       "      <td>60000.0</td>\n",
       "      <td>60000.0</td>\n",
       "    </tr>\n",
       "    <tr>\n",
       "      <th>Manger</th>\n",
       "      <td>1.0</td>\n",
       "      <td>45.0</td>\n",
       "      <td>NaN</td>\n",
       "      <td>45.0</td>\n",
       "      <td>45.0</td>\n",
       "      <td>45.0</td>\n",
       "      <td>45.0</td>\n",
       "      <td>45.0</td>\n",
       "      <td>1.0</td>\n",
       "      <td>65.000000</td>\n",
       "      <td>...</td>\n",
       "      <td>14.0</td>\n",
       "      <td>14.0</td>\n",
       "      <td>1.0</td>\n",
       "      <td>40000.000000</td>\n",
       "      <td>NaN</td>\n",
       "      <td>40000.0</td>\n",
       "      <td>40000.0</td>\n",
       "      <td>40000.0</td>\n",
       "      <td>40000.0</td>\n",
       "      <td>40000.0</td>\n",
       "    </tr>\n",
       "    <tr>\n",
       "      <th>Officer</th>\n",
       "      <td>3.0</td>\n",
       "      <td>26.0</td>\n",
       "      <td>16.703293</td>\n",
       "      <td>11.0</td>\n",
       "      <td>17.0</td>\n",
       "      <td>23.0</td>\n",
       "      <td>33.5</td>\n",
       "      <td>44.0</td>\n",
       "      <td>3.0</td>\n",
       "      <td>25.666667</td>\n",
       "      <td>...</td>\n",
       "      <td>17.0</td>\n",
       "      <td>17.0</td>\n",
       "      <td>3.0</td>\n",
       "      <td>24485.333333</td>\n",
       "      <td>5078.842913</td>\n",
       "      <td>20000.0</td>\n",
       "      <td>21728.0</td>\n",
       "      <td>23456.0</td>\n",
       "      <td>26728.0</td>\n",
       "      <td>30000.0</td>\n",
       "    </tr>\n",
       "    <tr>\n",
       "      <th>Suervisor</th>\n",
       "      <td>1.0</td>\n",
       "      <td>44.0</td>\n",
       "      <td>NaN</td>\n",
       "      <td>44.0</td>\n",
       "      <td>44.0</td>\n",
       "      <td>44.0</td>\n",
       "      <td>44.0</td>\n",
       "      <td>44.0</td>\n",
       "      <td>1.0</td>\n",
       "      <td>23.000000</td>\n",
       "      <td>...</td>\n",
       "      <td>19.0</td>\n",
       "      <td>19.0</td>\n",
       "      <td>1.0</td>\n",
       "      <td>12000.000000</td>\n",
       "      <td>NaN</td>\n",
       "      <td>12000.0</td>\n",
       "      <td>12000.0</td>\n",
       "      <td>12000.0</td>\n",
       "      <td>12000.0</td>\n",
       "      <td>12000.0</td>\n",
       "    </tr>\n",
       "    <tr>\n",
       "      <th>Supervisor</th>\n",
       "      <td>1.0</td>\n",
       "      <td>76.0</td>\n",
       "      <td>NaN</td>\n",
       "      <td>76.0</td>\n",
       "      <td>76.0</td>\n",
       "      <td>76.0</td>\n",
       "      <td>76.0</td>\n",
       "      <td>76.0</td>\n",
       "      <td>1.0</td>\n",
       "      <td>12.000000</td>\n",
       "      <td>...</td>\n",
       "      <td>18.0</td>\n",
       "      <td>18.0</td>\n",
       "      <td>1.0</td>\n",
       "      <td>40333.000000</td>\n",
       "      <td>NaN</td>\n",
       "      <td>40333.0</td>\n",
       "      <td>40333.0</td>\n",
       "      <td>40333.0</td>\n",
       "      <td>40333.0</td>\n",
       "      <td>40333.0</td>\n",
       "    </tr>\n",
       "  </tbody>\n",
       "</table>\n",
       "<p>5 rows × 32 columns</p>\n",
       "</div>"
      ],
      "text/plain": [
       "              ids                                                  Age  \\\n",
       "            count  mean        std   min   25%   50%   75%   max count   \n",
       "Designation                                                              \n",
       "Boss          1.0  32.0        NaN  32.0  32.0  32.0  32.0  32.0   1.0   \n",
       "Manger        1.0  45.0        NaN  45.0  45.0  45.0  45.0  45.0   1.0   \n",
       "Officer       3.0  26.0  16.703293  11.0  17.0  23.0  33.5  44.0   3.0   \n",
       "Suervisor     1.0  44.0        NaN  44.0  44.0  44.0  44.0  44.0   1.0   \n",
       "Supervisor    1.0  76.0        NaN  76.0  76.0  76.0  76.0  76.0   1.0   \n",
       "\n",
       "                        ... Grade       Dept Salary                \\\n",
       "                  mean  ...   75%   max       count          mean   \n",
       "Designation             ...                                         \n",
       "Boss         33.000000  ...  18.0  18.0         1.0  60000.000000   \n",
       "Manger       65.000000  ...  14.0  14.0         1.0  40000.000000   \n",
       "Officer      25.666667  ...  17.0  17.0         3.0  24485.333333   \n",
       "Suervisor    23.000000  ...  19.0  19.0         1.0  12000.000000   \n",
       "Supervisor   12.000000  ...  18.0  18.0         1.0  40333.000000   \n",
       "\n",
       "                                                                       \n",
       "                     std      min      25%      50%      75%      max  \n",
       "Designation                                                            \n",
       "Boss                 NaN  60000.0  60000.0  60000.0  60000.0  60000.0  \n",
       "Manger               NaN  40000.0  40000.0  40000.0  40000.0  40000.0  \n",
       "Officer      5078.842913  20000.0  21728.0  23456.0  26728.0  30000.0  \n",
       "Suervisor            NaN  12000.0  12000.0  12000.0  12000.0  12000.0  \n",
       "Supervisor           NaN  40333.0  40333.0  40333.0  40333.0  40333.0  \n",
       "\n",
       "[5 rows x 32 columns]"
      ]
     },
     "metadata": {},
     "output_type": "display_data"
    },
    {
     "data": {
      "text/html": [
       "<div>\n",
       "<style scoped>\n",
       "    .dataframe tbody tr th:only-of-type {\n",
       "        vertical-align: middle;\n",
       "    }\n",
       "\n",
       "    .dataframe tbody tr th {\n",
       "        vertical-align: top;\n",
       "    }\n",
       "\n",
       "    .dataframe thead th {\n",
       "        text-align: right;\n",
       "    }\n",
       "</style>\n",
       "<table border=\"1\" class=\"dataframe\">\n",
       "  <thead>\n",
       "    <tr style=\"text-align: right;\">\n",
       "      <th></th>\n",
       "      <th>Age</th>\n",
       "      <th>Dept Salary</th>\n",
       "    </tr>\n",
       "    <tr>\n",
       "      <th>Designation</th>\n",
       "      <th></th>\n",
       "      <th></th>\n",
       "    </tr>\n",
       "  </thead>\n",
       "  <tbody>\n",
       "    <tr>\n",
       "      <th>Boss</th>\n",
       "      <td>33</td>\n",
       "      <td>60000</td>\n",
       "    </tr>\n",
       "    <tr>\n",
       "      <th>Manger</th>\n",
       "      <td>65</td>\n",
       "      <td>40000</td>\n",
       "    </tr>\n",
       "    <tr>\n",
       "      <th>Officer</th>\n",
       "      <td>22</td>\n",
       "      <td>30000</td>\n",
       "    </tr>\n",
       "    <tr>\n",
       "      <th>Suervisor</th>\n",
       "      <td>23</td>\n",
       "      <td>12000</td>\n",
       "    </tr>\n",
       "    <tr>\n",
       "      <th>Supervisor</th>\n",
       "      <td>12</td>\n",
       "      <td>40333</td>\n",
       "    </tr>\n",
       "  </tbody>\n",
       "</table>\n",
       "</div>"
      ],
      "text/plain": [
       "             Age  Dept Salary\n",
       "Designation                  \n",
       "Boss          33        60000\n",
       "Manger        65        40000\n",
       "Officer       22        30000\n",
       "Suervisor     23        12000\n",
       "Supervisor    12        40333"
      ]
     },
     "metadata": {},
     "output_type": "display_data"
    }
   ],
   "source": [
    "display(designation_group.groups)\n",
    "display(designation_group.get_group('Boss'))\n",
    "display(designation_group.describe())\n",
    "display(designation_group.agg({'Age':np.min,'Dept Salary':np.max}))"
   ]
  },
  {
   "cell_type": "code",
   "execution_count": null,
   "id": "2ee7ff19",
   "metadata": {},
   "outputs": [],
   "source": []
  },
  {
   "cell_type": "code",
   "execution_count": 17,
   "id": "0f5392a3",
   "metadata": {},
   "outputs": [],
   "source": [
    "order_leads = pd.read_csv(\n",
    "    'https://raw.githubusercontent.com/FBosler/Medium-Data-Exploration/master/order_leads.csv',\n",
    "    parse_dates = [3]\n",
    ")\n",
    "sales_team = pd.read_csv(\n",
    "    'https://raw.githubusercontent.com/FBosler/Medium-Data-Exploration/master/sales_team.csv',\n",
    "    \n",
    ")"
   ]
  },
  {
   "cell_type": "code",
   "execution_count": 18,
   "id": "f7819691",
   "metadata": {},
   "outputs": [
    {
     "data": {
      "text/plain": [
       "Index(['Order Id', 'Company Id', 'Company Name', 'Date', 'Order Value',\n",
       "       'Converted'],\n",
       "      dtype='object')"
      ]
     },
     "metadata": {},
     "output_type": "display_data"
    }
   ],
   "source": [
    "display(order_leads.columns)"
   ]
  },
  {
   "cell_type": "code",
   "execution_count": 19,
   "id": "cbf43229",
   "metadata": {},
   "outputs": [
    {
     "data": {
      "text/plain": [
       "Index(['Sales Rep', 'Sales Rep Id', 'Company Name', 'Company Id'], dtype='object')"
      ]
     },
     "metadata": {},
     "output_type": "display_data"
    }
   ],
   "source": [
    "display(sales_team.columns)"
   ]
  },
  {
   "cell_type": "code",
   "execution_count": 20,
   "id": "c214b7ac",
   "metadata": {},
   "outputs": [
    {
     "data": {
      "text/plain": [
       "80Th Scorecard                      41\n",
       "Contemporary Gardenia               39\n",
       "Smashed-Out Intercept               39\n",
       "Shrill Co-Op                        39\n",
       "Geometric Abbot                     37\n",
       "                                    ..\n",
       "Unkempt Cop                          8\n",
       "Despondent Knife-Grinder             8\n",
       "Wee Song                             8\n",
       "Hypothalamic-Cortical Leatherman     8\n",
       "Above-Noted Flanders                 5\n",
       "Name: Company Name, Length: 4619, dtype: int64"
      ]
     },
     "execution_count": 20,
     "metadata": {},
     "output_type": "execute_result"
    }
   ],
   "source": [
    "order_leads['Company Name'].value_counts()"
   ]
  },
  {
   "cell_type": "code",
   "execution_count": 21,
   "id": "61123fcb",
   "metadata": {},
   "outputs": [
    {
     "data": {
      "text/html": [
       "<div>\n",
       "<style scoped>\n",
       "    .dataframe tbody tr th:only-of-type {\n",
       "        vertical-align: middle;\n",
       "    }\n",
       "\n",
       "    .dataframe tbody tr th {\n",
       "        vertical-align: top;\n",
       "    }\n",
       "\n",
       "    .dataframe thead th {\n",
       "        text-align: right;\n",
       "    }\n",
       "</style>\n",
       "<table border=\"1\" class=\"dataframe\">\n",
       "  <thead>\n",
       "    <tr style=\"text-align: right;\">\n",
       "      <th></th>\n",
       "      <th>Order Id</th>\n",
       "      <th>Company Id</th>\n",
       "      <th>Company Name</th>\n",
       "      <th>Date</th>\n",
       "      <th>Order Value</th>\n",
       "      <th>Converted</th>\n",
       "    </tr>\n",
       "  </thead>\n",
       "  <tbody>\n",
       "    <tr>\n",
       "      <th>0</th>\n",
       "      <td>HZSXLI1IS9RGABZW</td>\n",
       "      <td>D0AUXPP07H6AVSGD</td>\n",
       "      <td>Melancholy Social-Role</td>\n",
       "      <td>2017-10-13</td>\n",
       "      <td>6952</td>\n",
       "      <td>0</td>\n",
       "    </tr>\n",
       "    <tr>\n",
       "      <th>1</th>\n",
       "      <td>582WPS3OW8T6YT0R</td>\n",
       "      <td>D0AUXPP07H6AVSGD</td>\n",
       "      <td>Melancholy Social-Role</td>\n",
       "      <td>2017-09-02</td>\n",
       "      <td>7930</td>\n",
       "      <td>0</td>\n",
       "    </tr>\n",
       "    <tr>\n",
       "      <th>2</th>\n",
       "      <td>KRF65MQZBOYG4Y9T</td>\n",
       "      <td>D0AUXPP07H6AVSGD</td>\n",
       "      <td>Melancholy Social-Role</td>\n",
       "      <td>2016-12-21</td>\n",
       "      <td>5538</td>\n",
       "      <td>1</td>\n",
       "    </tr>\n",
       "    <tr>\n",
       "      <th>3</th>\n",
       "      <td>N3EDZ5V1WGSWW828</td>\n",
       "      <td>D0AUXPP07H6AVSGD</td>\n",
       "      <td>Melancholy Social-Role</td>\n",
       "      <td>2018-06-03</td>\n",
       "      <td>1113</td>\n",
       "      <td>0</td>\n",
       "    </tr>\n",
       "    <tr>\n",
       "      <th>4</th>\n",
       "      <td>QXBC8COXEXGFSPLP</td>\n",
       "      <td>D0AUXPP07H6AVSGD</td>\n",
       "      <td>Melancholy Social-Role</td>\n",
       "      <td>2014-07-26</td>\n",
       "      <td>4596</td>\n",
       "      <td>0</td>\n",
       "    </tr>\n",
       "  </tbody>\n",
       "</table>\n",
       "</div>"
      ],
      "text/plain": [
       "           Order Id        Company Id            Company Name       Date  \\\n",
       "0  HZSXLI1IS9RGABZW  D0AUXPP07H6AVSGD  Melancholy Social-Role 2017-10-13   \n",
       "1  582WPS3OW8T6YT0R  D0AUXPP07H6AVSGD  Melancholy Social-Role 2017-09-02   \n",
       "2  KRF65MQZBOYG4Y9T  D0AUXPP07H6AVSGD  Melancholy Social-Role 2016-12-21   \n",
       "3  N3EDZ5V1WGSWW828  D0AUXPP07H6AVSGD  Melancholy Social-Role 2018-06-03   \n",
       "4  QXBC8COXEXGFSPLP  D0AUXPP07H6AVSGD  Melancholy Social-Role 2014-07-26   \n",
       "\n",
       "   Order Value  Converted  \n",
       "0         6952          0  \n",
       "1         7930          0  \n",
       "2         5538          1  \n",
       "3         1113          0  \n",
       "4         4596          0  "
      ]
     },
     "execution_count": 21,
     "metadata": {},
     "output_type": "execute_result"
    }
   ],
   "source": [
    "order_leads.head()"
   ]
  },
  {
   "cell_type": "code",
   "execution_count": null,
   "id": "b5766faa",
   "metadata": {},
   "outputs": [],
   "source": []
  },
  {
   "cell_type": "code",
   "execution_count": 22,
   "id": "24164d0b",
   "metadata": {},
   "outputs": [
    {
     "name": "stdout",
     "output_type": "stream",
     "text": [
      "<class 'pandas.core.frame.DataFrame'>\n",
      "RangeIndex: 100000 entries, 0 to 99999\n",
      "Data columns (total 6 columns):\n",
      " #   Column        Non-Null Count   Dtype         \n",
      "---  ------        --------------   -----         \n",
      " 0   Order Id      100000 non-null  object        \n",
      " 1   Company Id    100000 non-null  object        \n",
      " 2   Company Name  100000 non-null  object        \n",
      " 3   Date          100000 non-null  datetime64[ns]\n",
      " 4   Order Value   100000 non-null  int64         \n",
      " 5   Converted     100000 non-null  int64         \n",
      "dtypes: datetime64[ns](1), int64(2), object(3)\n",
      "memory usage: 4.6+ MB\n"
     ]
    }
   ],
   "source": [
    "order_leads.info()"
   ]
  },
  {
   "cell_type": "code",
   "execution_count": 23,
   "id": "c5291632",
   "metadata": {},
   "outputs": [
    {
     "data": {
      "text/html": [
       "<div>\n",
       "<style scoped>\n",
       "    .dataframe tbody tr th:only-of-type {\n",
       "        vertical-align: middle;\n",
       "    }\n",
       "\n",
       "    .dataframe tbody tr th {\n",
       "        vertical-align: top;\n",
       "    }\n",
       "\n",
       "    .dataframe thead th {\n",
       "        text-align: right;\n",
       "    }\n",
       "</style>\n",
       "<table border=\"1\" class=\"dataframe\">\n",
       "  <thead>\n",
       "    <tr style=\"text-align: right;\">\n",
       "      <th></th>\n",
       "      <th>Sales Rep</th>\n",
       "      <th>Sales Rep Id</th>\n",
       "      <th>Company Name</th>\n",
       "      <th>Company Id</th>\n",
       "    </tr>\n",
       "  </thead>\n",
       "  <tbody>\n",
       "    <tr>\n",
       "      <th>0</th>\n",
       "      <td>William Taylor</td>\n",
       "      <td>ZTZA0ZLYZR85PTUJ</td>\n",
       "      <td>Melancholy Social-Role</td>\n",
       "      <td>D0AUXPP07H6AVSGD</td>\n",
       "    </tr>\n",
       "    <tr>\n",
       "      <th>1</th>\n",
       "      <td>William Taylor</td>\n",
       "      <td>ZTZA0ZLYZR85PTUJ</td>\n",
       "      <td>Pee-Wee Pigeon</td>\n",
       "      <td>TJW99R4RWH02INII</td>\n",
       "    </tr>\n",
       "    <tr>\n",
       "      <th>2</th>\n",
       "      <td>William Taylor</td>\n",
       "      <td>ZTZA0ZLYZR85PTUJ</td>\n",
       "      <td>Vaginal 36-Year-Old</td>\n",
       "      <td>3S20IO1O1DYXMUNU</td>\n",
       "    </tr>\n",
       "    <tr>\n",
       "      <th>3</th>\n",
       "      <td>William Taylor</td>\n",
       "      <td>ZTZA0ZLYZR85PTUJ</td>\n",
       "      <td>Unhurried Musician'S</td>\n",
       "      <td>FDWW0TQRPGMVI2A7</td>\n",
       "    </tr>\n",
       "    <tr>\n",
       "      <th>4</th>\n",
       "      <td>William Taylor</td>\n",
       "      <td>ZTZA0ZLYZR85PTUJ</td>\n",
       "      <td>Comprehensive Lists</td>\n",
       "      <td>C30FY83UNLVBA0O3</td>\n",
       "    </tr>\n",
       "  </tbody>\n",
       "</table>\n",
       "</div>"
      ],
      "text/plain": [
       "        Sales Rep      Sales Rep Id            Company Name        Company Id\n",
       "0  William Taylor  ZTZA0ZLYZR85PTUJ  Melancholy Social-Role  D0AUXPP07H6AVSGD\n",
       "1  William Taylor  ZTZA0ZLYZR85PTUJ          Pee-Wee Pigeon  TJW99R4RWH02INII\n",
       "2  William Taylor  ZTZA0ZLYZR85PTUJ     Vaginal 36-Year-Old  3S20IO1O1DYXMUNU\n",
       "3  William Taylor  ZTZA0ZLYZR85PTUJ    Unhurried Musician'S  FDWW0TQRPGMVI2A7\n",
       "4  William Taylor  ZTZA0ZLYZR85PTUJ     Comprehensive Lists  C30FY83UNLVBA0O3"
      ]
     },
     "execution_count": 23,
     "metadata": {},
     "output_type": "execute_result"
    }
   ],
   "source": [
    "sales_team.head()"
   ]
  },
  {
   "cell_type": "code",
   "execution_count": 24,
   "id": "19d091ca",
   "metadata": {},
   "outputs": [
    {
     "data": {
      "text/plain": [
       "Sales Rep          Sales Rep Id      Company Name             Company Id      \n",
       "Aaron Hendrickson  AEMLQ09IYM72ACBL  6-Foot Homosexuals       OBO1IDFAZIVFRG9A    1\n",
       "Nancy Shorter      G99RFBBAJ2PX39K2  Nonspecific Brigadoon    3YSHEWGJRF7WB7KH    1\n",
       "Mildred Vest       WJ34LXDCZWOF47U2  Chipper Tabernacles      TO0D263CK6STSGZN    1\n",
       "                                     Chicago-Style Drawings   87KMD3BSCH6VUR62    1\n",
       "                                     Black-Clad Paratroopers  9OYUQML6U2G1YCHR    1\n",
       "                                                                                 ..\n",
       "Gordon Harris      2LA5ID42LHQ98UEU  Goggle-Eyed Michaelson   12TNGGJQQLES865V    1\n",
       "                                     Extensive Jealousies     GU530FVMO8H72TTP    1\n",
       "                                     Creative 5/64''          SZLSWNJ9Z864U2NI    1\n",
       "                                     Above-Mentioned Niger    N6C72P7XF8WYZM7U    1\n",
       "Yvonne Lindsey     LBSKFCGCB0IZTMWN  Shrill Co-Op             IGOZET5TU8NF7FX0    1\n",
       "Length: 4619, dtype: int64"
      ]
     },
     "execution_count": 24,
     "metadata": {},
     "output_type": "execute_result"
    }
   ],
   "source": [
    "sales_team.value_counts()"
   ]
  },
  {
   "cell_type": "code",
   "execution_count": 25,
   "id": "0dc3e979",
   "metadata": {},
   "outputs": [
    {
     "name": "stdout",
     "output_type": "stream",
     "text": [
      "<class 'pandas.core.frame.DataFrame'>\n",
      "RangeIndex: 100000 entries, 0 to 99999\n",
      "Data columns (total 6 columns):\n",
      " #   Column        Non-Null Count   Dtype         \n",
      "---  ------        --------------   -----         \n",
      " 0   Order Id      100000 non-null  object        \n",
      " 1   Company Id    100000 non-null  object        \n",
      " 2   Company Name  100000 non-null  object        \n",
      " 3   Date          100000 non-null  datetime64[ns]\n",
      " 4   Order Value   100000 non-null  int64         \n",
      " 5   Converted     100000 non-null  int64         \n",
      "dtypes: datetime64[ns](1), int64(2), object(3)\n",
      "memory usage: 4.6+ MB\n"
     ]
    }
   ],
   "source": [
    "order_leads.info()"
   ]
  },
  {
   "cell_type": "code",
   "execution_count": 26,
   "id": "7867235c",
   "metadata": {},
   "outputs": [
    {
     "name": "stdout",
     "output_type": "stream",
     "text": [
      "<class 'pandas.core.frame.DataFrame'>\n",
      "RangeIndex: 4619 entries, 0 to 4618\n",
      "Data columns (total 4 columns):\n",
      " #   Column        Non-Null Count  Dtype \n",
      "---  ------        --------------  ----- \n",
      " 0   Sales Rep     4619 non-null   object\n",
      " 1   Sales Rep Id  4619 non-null   object\n",
      " 2   Company Name  4619 non-null   object\n",
      " 3   Company Id    4619 non-null   object\n",
      "dtypes: object(4)\n",
      "memory usage: 144.5+ KB\n"
     ]
    }
   ],
   "source": [
    "sales_team.info()"
   ]
  },
  {
   "cell_type": "code",
   "execution_count": 27,
   "id": "9a95c1bf",
   "metadata": {},
   "outputs": [
    {
     "name": "stdout",
     "output_type": "stream",
     "text": [
      "<class 'pandas.core.frame.DataFrame'>\n",
      "Int64Index: 100000 entries, 0 to 99999\n",
      "Data columns (total 8 columns):\n",
      " #   Column        Non-Null Count   Dtype         \n",
      "---  ------        --------------   -----         \n",
      " 0   Order Id      100000 non-null  object        \n",
      " 1   Company Id    100000 non-null  object        \n",
      " 2   Company Name  100000 non-null  object        \n",
      " 3   Date          100000 non-null  datetime64[ns]\n",
      " 4   Order Value   100000 non-null  int64         \n",
      " 5   Converted     100000 non-null  int64         \n",
      " 6   Sales Rep     100000 non-null  object        \n",
      " 7   Sales Rep Id  100000 non-null  object        \n",
      "dtypes: datetime64[ns](1), int64(2), object(5)\n",
      "memory usage: 6.9+ MB\n"
     ]
    }
   ],
   "source": [
    "df=pd.merge(order_leads,sales_team,on=['Company Name','Company Id'])\n",
    "df.info()"
   ]
  },
  {
   "cell_type": "code",
   "execution_count": 28,
   "id": "da09c822",
   "metadata": {},
   "outputs": [],
   "source": [
    "df.rename(columns={'Order Value':'Val','Converted':'Sale'},inplace=True)"
   ]
  },
  {
   "cell_type": "code",
   "execution_count": 29,
   "id": "99476b3f",
   "metadata": {},
   "outputs": [
    {
     "data": {
      "text/html": [
       "<div>\n",
       "<style scoped>\n",
       "    .dataframe tbody tr th:only-of-type {\n",
       "        vertical-align: middle;\n",
       "    }\n",
       "\n",
       "    .dataframe tbody tr th {\n",
       "        vertical-align: top;\n",
       "    }\n",
       "\n",
       "    .dataframe thead th {\n",
       "        text-align: right;\n",
       "    }\n",
       "</style>\n",
       "<table border=\"1\" class=\"dataframe\">\n",
       "  <thead>\n",
       "    <tr style=\"text-align: right;\">\n",
       "      <th></th>\n",
       "      <th>Order Id</th>\n",
       "      <th>Company Id</th>\n",
       "      <th>Company Name</th>\n",
       "      <th>Date</th>\n",
       "      <th>Val</th>\n",
       "      <th>Sale</th>\n",
       "      <th>Sales Rep</th>\n",
       "      <th>Sales Rep Id</th>\n",
       "    </tr>\n",
       "  </thead>\n",
       "  <tbody>\n",
       "    <tr>\n",
       "      <th>0</th>\n",
       "      <td>HZSXLI1IS9RGABZW</td>\n",
       "      <td>D0AUXPP07H6AVSGD</td>\n",
       "      <td>Melancholy Social-Role</td>\n",
       "      <td>2017-10-13</td>\n",
       "      <td>6952</td>\n",
       "      <td>0</td>\n",
       "      <td>William Taylor</td>\n",
       "      <td>ZTZA0ZLYZR85PTUJ</td>\n",
       "    </tr>\n",
       "    <tr>\n",
       "      <th>1</th>\n",
       "      <td>582WPS3OW8T6YT0R</td>\n",
       "      <td>D0AUXPP07H6AVSGD</td>\n",
       "      <td>Melancholy Social-Role</td>\n",
       "      <td>2017-09-02</td>\n",
       "      <td>7930</td>\n",
       "      <td>0</td>\n",
       "      <td>William Taylor</td>\n",
       "      <td>ZTZA0ZLYZR85PTUJ</td>\n",
       "    </tr>\n",
       "    <tr>\n",
       "      <th>2</th>\n",
       "      <td>KRF65MQZBOYG4Y9T</td>\n",
       "      <td>D0AUXPP07H6AVSGD</td>\n",
       "      <td>Melancholy Social-Role</td>\n",
       "      <td>2016-12-21</td>\n",
       "      <td>5538</td>\n",
       "      <td>1</td>\n",
       "      <td>William Taylor</td>\n",
       "      <td>ZTZA0ZLYZR85PTUJ</td>\n",
       "    </tr>\n",
       "  </tbody>\n",
       "</table>\n",
       "</div>"
      ],
      "text/plain": [
       "           Order Id        Company Id            Company Name       Date  \\\n",
       "0  HZSXLI1IS9RGABZW  D0AUXPP07H6AVSGD  Melancholy Social-Role 2017-10-13   \n",
       "1  582WPS3OW8T6YT0R  D0AUXPP07H6AVSGD  Melancholy Social-Role 2017-09-02   \n",
       "2  KRF65MQZBOYG4Y9T  D0AUXPP07H6AVSGD  Melancholy Social-Role 2016-12-21   \n",
       "\n",
       "    Val  Sale       Sales Rep      Sales Rep Id  \n",
       "0  6952     0  William Taylor  ZTZA0ZLYZR85PTUJ  \n",
       "1  7930     0  William Taylor  ZTZA0ZLYZR85PTUJ  \n",
       "2  5538     1  William Taylor  ZTZA0ZLYZR85PTUJ  "
      ]
     },
     "execution_count": 29,
     "metadata": {},
     "output_type": "execute_result"
    }
   ],
   "source": [
    "df.head(3)"
   ]
  },
  {
   "cell_type": "code",
   "execution_count": 30,
   "id": "98320e3a",
   "metadata": {},
   "outputs": [
    {
     "data": {
      "text/plain": [
       "<pandas.core.groupby.generic.DataFrameGroupBy object at 0x0000021E90D1ABE0>"
      ]
     },
     "metadata": {},
     "output_type": "display_data"
    }
   ],
   "source": [
    "aa=df.groupby(df['Sales Rep'].str.split(' ').str[0])\n",
    "display(aa)"
   ]
  },
  {
   "cell_type": "code",
   "execution_count": 31,
   "id": "922cfe17",
   "metadata": {},
   "outputs": [
    {
     "data": {
      "text/plain": [
       "Sales Rep\n",
       "John       2970\n",
       "Robert     2307\n",
       "David      2258\n",
       "James      1647\n",
       "Michael    1489\n",
       "           ... \n",
       "Ginger       19\n",
       "Russell      19\n",
       "Viola        18\n",
       "Alfredo      17\n",
       "Simon        15\n",
       "Length: 318, dtype: int64"
      ]
     },
     "metadata": {},
     "output_type": "display_data"
    },
    {
     "data": {
      "text/plain": [
       "Sales Rep\n",
       "Aaron        292\n",
       "Adam         324\n",
       "Adele        115\n",
       "Adrian       369\n",
       "Adrianna      37\n",
       "            ... \n",
       "Wesley       144\n",
       "Wilbert      213\n",
       "William     1393\n",
       "Willie       448\n",
       "Yvonne       141\n",
       "Length: 318, dtype: int64"
      ]
     },
     "metadata": {},
     "output_type": "display_data"
    },
    {
     "data": {
      "text/plain": [
       "{'Aaron': [25612, 25613, 25614, 25615, 25616, 25617, 25618, 25619, 25620, 25621, 25622, 25623, 25624, 25625, 25626, 25627, 25628, 25629, 25630, 25631, 25632, 25633, 25634, 25635, 25636, 25637, 25638, 25639, 25640, 25641, 25642, 25643, 25644, 25645, 25646, 25647, 25648, 25649, 25650, 25651, 25652, 25653, 25654, 25655, 25656, 25657, 25658, 25659, 25660, 25661, 25662, 25663, 25664, 25665, 25666, 25667, 25668, 25669, 25670, 25671, 25672, 25673, 25674, 25675, 25676, 25677, 25678, 25679, 25680, 25681, 25682, 25683, 25684, 25685, 25686, 25687, 25688, 25689, 25690, 25691, 25692, 25693, 25694, 25695, 25696, 25697, 25698, 25699, 25700, 25701, 25702, 25703, 25704, 25705, 25706, 25707, 25708, 25709, 25710, 25711, ...], 'Adam': [67140, 67141, 67142, 67143, 67144, 67145, 67146, 67147, 67148, 67149, 67150, 67151, 67152, 67153, 67154, 67155, 67156, 67157, 67158, 67159, 67160, 67161, 67162, 67163, 67164, 67165, 67166, 67167, 67168, 67169, 67170, 67171, 67172, 67173, 67174, 67175, 67176, 67177, 67178, 67179, 67180, 67181, 67182, 67183, 67184, 67185, 67186, 67187, 67188, 67189, 67190, 67191, 67192, 67193, 67194, 67195, 67196, 67197, 67198, 67199, 67200, 67201, 67202, 67203, 67204, 67205, 67206, 67207, 67208, 67209, 67210, 67211, 67212, 67213, 67214, 67215, 67216, 67217, 67218, 67219, 67220, 67221, 67222, 67223, 67224, 67225, 67226, 67227, 67228, 67229, 67230, 67231, 67232, 67233, 67234, 67235, 67236, 67237, 67238, 67239, ...], 'Adele': [90915, 90916, 90917, 90918, 90919, 90920, 90921, 90922, 90923, 90924, 90925, 90926, 90927, 90928, 90929, 90930, 90931, 90932, 90933, 90934, 90935, 90936, 90937, 90938, 90939, 90940, 90941, 90942, 90943, 90944, 90945, 90946, 90947, 90948, 90949, 90950, 90951, 90952, 90953, 90954, 90955, 90956, 90957, 90958, 90959, 90960, 90961, 90962, 90963, 90964, 90965, 90966, 90967, 90968, 90969, 90970, 90971, 90972, 90973, 90974, 90975, 90976, 90977, 90978, 90979, 90980, 90981, 90982, 90983, 90984, 90985, 90986, 90987, 90988, 90989, 90990, 90991, 90992, 90993, 90994, 90995, 90996, 90997, 90998, 90999, 91000, 91001, 91002, 91003, 91004, 91005, 91006, 91007, 91008, 91009, 91010, 91011, 91012, 91013, 91014, ...], 'Adrian': [31483, 31484, 31485, 31486, 31487, 31488, 31489, 31490, 31491, 31492, 31493, 31494, 31495, 31496, 31497, 31498, 31499, 31500, 31501, 31502, 31503, 31504, 31505, 31506, 31507, 31508, 31509, 31510, 31511, 31512, 31513, 31514, 31515, 31516, 31517, 31518, 31519, 31520, 31521, 31522, 31523, 31524, 31525, 31526, 31527, 31528, 31529, 31530, 31531, 31532, 31533, 31534, 31535, 31536, 31537, 31538, 31539, 31540, 31541, 31542, 31543, 31544, 31545, 31546, 31547, 31548, 31549, 31550, 31551, 31552, 31553, 31554, 31555, 31556, 31557, 31558, 31559, 31560, 31561, 31562, 31563, 31564, 31565, 31566, 31567, 31568, 31569, 31570, 31571, 31572, 31573, 31574, 31575, 31576, 31577, 31578, 31579, 31580, 31581, 31582, ...], 'Adrianna': [3368, 3369, 3370, 3371, 3372, 3373, 3374, 3375, 3376, 3377, 3378, 3379, 3380, 3381, 3382, 3383, 3384, 3385, 3386, 3387, 3388, 3389, 3390, 3391, 3392, 3393, 3394, 3395, 3396, 3397, 3398, 3399, 3400, 3401, 3402, 3403, 3404], 'Ahmad': [44306, 44307, 44308, 44309, 44310, 44311, 44312, 44313, 44314, 44315, 44316, 44317, 44318, 44319, 44320, 44321, 44322, 44323, 44324, 44325, 44326, 44327, 44328, 44329, 44330, 44331, 44332, 44333, 44334, 44335, 44336, 44337, 44338, 44339, 44340, 44341, 44342, 44343, 44344, 44345, 44346, 44347, 44348, 44349, 44350, 44351, 44352, 44353, 44354, 44355, 44356, 44357, 44358, 44359, 44360, 44361, 44362, 44363, 44364, 44365, 44366, 44367, 44368, 44369, 44370, 44371, 44372, 44373, 44374, 44375, 44376, 44377, 44378, 44379, 44380, 44381, 44382, 44383, 44384, 44385, 44386, 44387, 44388, 44389, 44390, 44391, 44392, 44393, 44394, 44395, 44396, 44397, 44398, 44399, 44400, 44401, 44402, 44403, 44404, 44405, ...], 'Albert': [26755, 26756, 26757, 26758, 26759, 26760, 26761, 26762, 26763, 26764, 26765, 26766, 26767, 26768, 26769, 26770, 26771, 26772, 26773, 26774, 26775, 26776, 26777, 26778, 26779, 26780, 26781, 26782, 26783, 26784, 26785, 26786, 26787, 26788, 26789, 26790, 26791, 26792, 26793, 26794, 26795, 26796, 26797, 26798, 26799, 26800, 26801, 26802, 26803, 26804, 26805, 26806, 26807, 26808, 26809, 26810, 26811, 26812, 26813, 26814], 'Alease': [91425, 91426, 91427, 91428, 91429, 91430, 91431, 91432, 91433, 91434, 91435, 91436, 91437, 91438, 91439, 91440, 91441, 91442, 91443, 91444, 91445, 91446, 91447, 91448, 91449, 91450, 91451, 91452, 91453, 91454, 91455, 91456, 91457, 91458, 91459, 91460, 91461, 91462, 91463, 91464, 91465, 91466, 91467, 91468, 91469, 91470, 91471, 91472, 91473, 91474, 91475, 91476, 91477, 91478, 91479, 91480, 91481, 91482, 91483, 91484, 91485, 91486, 91487, 91488, 91489, 91490, 91491, 91492, 91493, 91494, 91495, 91496, 91497, 91498, 91499, 91500, 91501, 91502, 91503, 91504, 91505, 91506, 91507, 91508, 91509, 91510, 91511, 91512, 91513, 91514, 91515, 91516, 91517, 91518, 91519, 91520, 91521, 91522, 91523, 91524, ...], 'Alejandro': [43508, 43509, 43510, 43511, 43512, 43513, 43514, 43515, 43516, 43517, 43518, 43519, 43520, 43521, 43522, 43523, 43524, 43525, 43526, 43527, 43528, 43529, 43530, 43531, 43532, 43533, 43534, 43535, 43536, 43537, 43538, 43539, 43540, 43541, 43542, 43543, 43544, 43545, 43546, 43547, 43548, 43549, 43550, 43551, 43552, 43553, 43554, 43555, 43556, 43557, 43558, 43559, 43560, 43561, 43562, 43563, 43564], 'Alfredo': [54004, 54005, 54006, 54007, 54008, 54009, 54010, 54011, 54012, 54013, 54014, 54015, 54016, 54017, 54018, 54019, 54020], 'Alison': [81217, 81218, 81219, 81220, 81221, 81222, 81223, 81224, 81225, 81226, 81227, 81228, 81229, 81230, 81231, 81232, 81233, 81234, 81235, 81236, 81237, 81238], 'Allen': [51024, 51025, 51026, 51027, 51028, 51029, 51030, 51031, 51032, 51033, 51034, 51035, 51036, 51037, 51038, 51039, 51040, 51041, 51042, 51043, 51044, 51045, 51046, 51047, 51048, 51049, 51050, 51051, 51052, 51053, 51054, 51055, 51056, 51057, 51058, 51059, 51060, 51061, 51062, 51063, 51064, 51065, 51066, 51067, 51068, 51069, 51070, 51071, 51072, 51073, 51074, 51075, 51076, 51077, 51078, 51079, 51080, 51081, 51082, 51083, 51084, 51085, 51086, 51087, 51088, 51089, 51090, 51091, 51092, 51093, 51094, 51095, 51096, 51097, 51098, 51099, 51100, 51101, 51102, 51103, 51104, 51105, 51106, 51107, 51108, 51109, 51110, 51111, 51112, 51113, 51114, 51115, 51116, 51117, 51118, 51119, 51120, 51121, 51122, 51123, ...], 'Allison': [38283, 38284, 38285, 38286, 38287, 38288, 38289, 38290, 38291, 38292, 38293, 38294, 38295, 38296, 38297, 38298, 38299, 38300, 38301, 38302, 38303, 38304, 38305, 38306, 38307, 38308, 38309, 38310, 38311, 38312, 38313, 38314, 38315, 38316, 38317, 38318, 38319, 38320, 38321, 38322, 38323, 38324, 38325, 38326, 38327, 38328, 38329, 38330, 38331, 38332, 38333, 38334, 38335, 38336, 38337, 38338, 38339, 38340, 38341, 38342, 38343, 38344, 38345, 38346, 38347, 38348, 38349, 38350, 38351, 38352, 38353, 38354, 38355, 38356, 38357, 38358, 38359, 38360, 38361, 38362, 38363, 38364, 38365, 38366, 38367, 38368, 38369, 38370, 38371, 38372, 38373, 38374, 38375, 38376, 38377, 38378, 38379, 38380, 38381, 38382, ...], 'Alonzo': [60846, 60847, 60848, 60849, 60850, 60851, 60852, 60853, 60854, 60855, 60856, 60857, 60858, 60859, 60860, 60861, 60862, 60863, 60864, 60865, 60866, 60867, 60868, 60869, 60870, 60871, 60872, 60873, 60874, 60875, 60876, 60877, 60878, 60879, 60880, 60881, 60882, 60883, 60884, 60885, 60886, 60887, 60888, 60889, 60890, 60891, 60892, 60893, 60894, 60895], 'Alvin': [477, 478, 479, 480, 481, 482, 483, 484, 485, 486, 487, 488, 489, 490, 491, 492, 493, 494, 495, 496, 497, 498, 499, 500, 501, 502, 503, 504, 505, 506, 507, 508, 509, 510, 511, 512, 513, 514, 515, 516, 517, 518, 519, 520, 521, 522, 523, 524, 525, 526, 527, 528, 529, 530, 531, 532, 533, 534, 535, 536, 537, 538, 539, 540, 541, 542, 543, 544, 545, 546, 547, 548, 549, 550, 551, 552, 553, 554, 555, 556, 557, 558, 559, 560, 561, 562, 563, 564, 565, 566, 567, 568, 569, 570, 571, 572, 573, 574, 575, 576, ...], 'Alyssa': [92364, 92365, 92366, 92367, 92368, 92369, 92370, 92371, 92372, 92373, 92374, 92375, 92376, 92377, 92378, 92379, 92380, 92381, 92382, 92383, 92384, 92385, 92386, 92387, 92388, 92389, 92390, 92391, 92392, 92393, 92394, 92395, 92396, 92397, 92398, 92399, 92400, 92401, 92402, 92403, 92404, 92405, 92406, 92407, 92408, 92409, 92410, 92411, 92412, 92413, 92414, 92415, 92416, 92417, 92418, 92419, 92420, 92421, 92422, 92423, 92424, 92425, 92426, 92427, 92428, 92429, 92430, 92431, 92432, 92433, 92434, 92435, 92436, 92437, 92438, 92439, 92440, 92441, 92442, 92443, 92444, 92445, 92446, 92447, 92448, 92449, 92450, 92451, 92452, 92453, 92454, 92455, 92456, 92457, 92458, 92459, 92460, 92461, 92462, 92463, ...], 'Amanda': [52332, 52333, 52334, 52335, 52336, 52337, 52338, 52339, 52340, 52341, 52342, 52343, 52344, 52345, 52346, 52347, 52348, 52349, 52350, 52351, 52352, 52353, 52354, 52355, 52356, 52357, 52358, 52359, 52360, 52361, 52362, 52363, 52364, 52365, 52366, 52367, 52368, 52369, 52370, 52371, 52372, 52373, 52374, 52375, 52376, 52377, 52378, 52379, 52380, 52381, 52382, 52383, 52384, 52385, 52386, 52387, 52388, 52389, 52390, 52391, 52392, 52393, 52394, 52395, 52396, 52397, 52398, 52399, 52400, 52401, 52402, 52403, 52404, 52405, 52406, 52407, 52408, 52409, 52410, 52411, 52412, 52413, 52414, 52415, 52416, 52417, 52418, 52419, 52420, 52421, 52422, 52423, 52424, 52425, 52426, 52427, 52428, 52429, 52430, 52431, ...], 'Amy': [39838, 39839, 39840, 39841, 39842, 39843, 39844, 39845, 39846, 39847, 39848, 39849, 39850, 39851, 39852, 39853, 39854, 39855, 39856, 39857, 39858, 39859, 39860, 39861, 39862, 39863, 39864, 39865, 39866, 39867, 39868, 39869, 39870, 39871, 39872, 39873, 39874, 39875, 39876, 39877, 39878, 39879, 39880, 39881, 39882, 39883, 39884, 39885, 39886, 39887, 39888, 39889, 39890, 39891, 39892, 39893, 39894, 39895, 39896, 39897, 39898, 39899, 39900, 39901, 39902, 39903, 39904, 39905, 39906, 39907, 39908, 39909, 39910, 39911, 39912, 39913, 39914, 39915, 39916, 39917, 39918, 39919, 39920, 39921, 39922, 39923, 39924, 39925, 39926, 39927, 39928, 39929, 39930], 'Andrea': [32996, 32997, 32998, 32999, 33000, 33001, 33002, 33003, 33004, 33005, 33006, 33007, 33008, 33009, 33010, 33011, 33012, 33013, 33014, 33015, 33016, 33017, 33018, 33019, 33020, 33021, 33022, 33023, 33024, 33025, 33026, 33027, 33028, 33029, 33030, 33031, 33032, 33033, 33034, 33035, 33036, 33037, 33038, 33039, 33040, 33041, 33042, 33043, 33044, 33045, 33046, 33047, 33048, 33049, 33050, 33051, 33052, 33053, 33054, 33055, 33056, 33057, 33058, 33059, 33060, 33061, 33062, 33063, 33064, 33065, 33066, 33067, 33068, 33069, 33070, 33071, 33072, 33073, 33074, 33075, 33076, 33077, 33078, 33079, 33080, 33081, 33082, 33083, 33084, 33085, 33086, 33087, 33088, 33089, 33090, 33091, 33092, 33093, 33094, 33095, ...], 'Angel': [56561, 56562, 56563, 56564, 56565, 56566, 56567, 56568, 56569, 56570, 56571, 56572, 56573, 56574, 56575, 56576, 56577, 56578, 56579, 56580, 56581, 56582, 56583, 56584, 56585, 56586, 56587, 56588, 56589, 56590, 56591, 56592, 56593, 56594, 56595, 56596, 56597, 56598, 56599, 56600, 56601, 56602, 56603, 56604, 56605, 56606, 56607, 56608, 56609, 56610, 56611, 56612, 56613, 56614, 56615, 56616, 56617, 56618, 56619, 56620, 56621, 56622, 56623, 56624, 56625, 56626, 56627, 56628, 56629, 56630, 56631, 56632, 56633, 56634, 56635, 56636, 56637, 56638, 56639, 56640, 56641, 56642, 56643, 56644, 56645, 56646, 56647, 56648, 56649, 56650, 56651, 56652, 56653, 56654, 56655, 56656, 56657, 56658, 56659, 56660, ...], 'Angela': [30941, 30942, 30943, 30944, 30945, 30946, 30947, 30948, 30949, 30950, 30951, 30952, 30953, 30954, 30955, 30956, 30957, 30958, 30959, 30960, 30961, 30962, 30963, 30964, 30965, 30966, 30967, 30968, 30969, 30970, 30971, 30972, 30973, 30974, 30975, 30976, 30977, 30978, 30979, 30980, 30981, 30982, 30983, 30984, 30985, 30986, 30987, 30988, 30989, 30990, 30991, 30992, 30993, 30994, 30995, 30996, 30997, 30998, 30999, 31000, 31001, 31002, 31003, 31004, 31005, 31006, 31007, 31008, 31009, 31010, 31011, 31012, 31013, 31014, 31015, 31016, 31017, 31018, 31019, 31020, 31021, 31022, 31023, 31024, 31025, 31026, 31027, 31028, 31029, 31030, 31031, 31032, 31033, 31034, 31035, 31036, 31037, 31038, 31039, 31040, ...], 'Angelo': [57258, 57259, 57260, 57261, 57262, 57263, 57264, 57265, 57266, 57267, 57268, 57269, 57270, 57271, 57272, 57273, 57274, 57275, 57276, 57277, 57278, 57279, 57280, 57281, 57282, 57283, 57284, 57285, 57286, 57287, 57288, 57289, 57290, 57291, 57292, 57293, 57294, 57295, 57296, 57297, 57298, 57299, 57300, 57301, 57302, 57303, 57304, 57305, 57306, 57307, 57308, 57309, 57310, 57311, 57312, 57313, 57314, 57315, 57316, 57317, 57318, 57319, 57320, 57321, 57322, 57323, 57324, 57325, 57326, 57327, 57328, 57329, 57330, 57331, 57332, 57333, 57334, 57335, 57336, 57337, 57338, 57339, 57340, 57341, 57342, 57343, 57344, 57345, 57346, 57347, 57348, 57349, 57350, 57351, 57352, 57353, 57354, 57355, 57356, 57357, ...], 'Annette': [94427, 94428, 94429, 94430, 94431, 94432, 94433, 94434, 94435, 94436, 94437, 94438, 94439, 94440, 94441, 94442, 94443, 94444, 94445, 94446, 94447, 94448, 94449, 94450, 94451, 94452, 94453, 94454, 94455, 94456, 94457, 94458, 94459, 94460, 94461, 94462, 94463, 94464, 94465, 94466, 94467, 94468, 94469, 94470, 94471, 94472, 94473, 94474, 94475, 94476, 94477, 94478, 94479, 94480, 94481, 94482, 94483, 94484, 94485, 94486, 94487, 94488, 94489, 94490, 94491, 94492, 94493, 94494, 94495, 94496, 94497, 94498, 94499, 94500, 94501, 94502, 94503, 94504, 94505, 94506, 94507, 94508, 94509, 94510, 94511, 94512, 94513, 94514, 94515, 94516, 94517, 94518, 94519, 94520, 94521, 94522, 94523, 94524, 94525, 94526, ...], 'Anthony': [24432, 24433, 24434, 24435, 24436, 24437, 24438, 24439, 24440, 24441, 24442, 24443, 24444, 24445, 24446, 24447, 24448, 24449, 24450, 24451, 24452, 24453, 24454, 24455, 24456, 24457, 24458, 24459, 24460, 24461, 24462, 24463, 24464, 24465, 24466, 24467, 24468, 24469, 24470, 24471, 24472, 24473, 24474, 24475, 24476, 24477, 24478, 24479, 24480, 24481, 24482, 24483, 24484, 24485, 24486, 24487, 24488, 24489, 24490, 24491, 24492, 24493, 24494, 24495, 24496, 24497, 24498, 24499, 24500, 24501, 24502, 24503, 24504, 24505, 24506, 24507, 24508, 24509, 24510, 24511, 24512, 24513, 24514, 24515, 24516, 24517, 24518, 24519, 24520, 24521, 24522, 24523, 24524, 24525, 24526, 24527, 24528, 24529, 24530, 24531, ...], 'Arlene': [1785, 1786, 1787, 1788, 1789, 1790, 1791, 1792, 1793, 1794, 1795, 1796, 1797, 1798, 1799, 1800, 1801, 1802, 1803, 1804, 1805, 1806, 1807, 1808, 1809, 1810, 1811, 1812, 1813, 1814, 1815, 1816, 1817, 1818, 1819, 1820, 1821, 1822, 1823, 1824, 1825, 1826, 1827, 1828, 1829, 1830, 1831, 1832, 1833, 1834, 1835, 1836, 1837, 1838, 1839, 1840, 1841, 1842, 1843, 1844, 1845, 1846, 1847, 1848, 1849, 1850, 1851, 1852, 1853, 1854, 1855, 1856, 1857, 1858, 1859, 1860, 1861, 1862, 1863, 1864, 1865, 1866, 1867, 1868, 1869, 1870, 1871, 1872, 1873, 1874, 1875, 1876, 1877, 1878, 1879, 1880, 1881, 1882, 1883, 1884, ...], 'Arthur': [36740, 36741, 36742, 36743, 36744, 36745, 36746, 36747, 36748, 36749, 36750, 36751, 36752, 36753, 36754, 36755, 36756, 36757, 36758, 36759, 36760, 36761, 36762, 36763, 36764, 36765, 36766, 36767, 36768, 36769, 36770, 36771, 36772, 36773, 36774, 36775, 36776, 36777, 36778, 36779, 36780, 36781, 36782, 36783, 36784, 36785, 36786, 36787, 36788, 36789, 36790, 36791, 36792, 36793, 36794, 36795, 36796, 36797, 36798, 36799, 36800, 36801, 36802, 36803, 36804, 36805, 36806, 36807, 36808, 36809, 36810, 36811, 36812, 36813, 36814, 36815, 36816, 36817, 36818, 36819, 36820, 36821, 36822, 36823, 36824, 36825, 36826, 36827, 36828, 36829, 36830, 36831, 36832, 36833, 36834, 36835, 36836, 36837, 36838, 36839, ...], 'Barbara': [6534, 6535, 6536, 6537, 6538, 6539, 6540, 6541, 6542, 6543, 6544, 6545, 6546, 6547, 6548, 6549, 6550, 6551, 6552, 6553, 6554, 6555, 6556, 6557, 6558, 6559, 6560, 6561, 6562, 6563, 6564, 6565, 6566, 6567, 6568, 6569, 6570, 6571, 6572, 6573, 6574, 6575, 6576, 6577, 6578, 6579, 6580, 6581, 6582, 6583, 6584, 6585, 6586, 6587, 6588, 6589, 6590, 6591, 6592, 6593, 6594, 6595, 6596, 6597, 6598, 6599, 6600, 6601, 6602, 6603, 6604, 6605, 6606, 6607, 6608, 6609, 6610, 6611, 6612, 6613, 6614, 6615, 6616, 6617, 6618, 6619, 6620, 6621, 6622, 6623, 6624, 6625, 6626, 6627, 6628, 6629, 6630, 6631, 6632, 6633, ...], 'Barry': [17395, 17396, 17397, 17398, 17399, 17400, 17401, 17402, 17403, 17404, 17405, 17406, 17407, 17408, 17409, 17410, 17411, 17412, 17413, 17414, 17415, 17416, 17417, 17418, 17419, 17420, 17421, 17422, 17423, 17424, 17425, 17426, 17427, 17428, 17429, 17430, 17431, 17432, 17433, 17434, 17435, 17436, 17437, 17438], 'Beatrice': [3916, 3917, 3918, 3919, 3920, 3921, 3922, 3923, 3924, 3925, 3926, 3927, 3928, 3929, 3930, 3931, 3932, 3933, 3934, 3935, 3936], 'Benjamin': [83657, 83658, 83659, 83660, 83661, 83662, 83663, 83664, 83665, 83666, 83667, 83668, 83669, 83670, 83671, 83672, 83673, 83674, 83675, 83676, 83677, 83678, 83679, 83680, 83681, 83682, 83683, 83684, 83685, 83686, 83687, 83688, 83689, 83690, 83691, 83692, 83693, 83694, 83695, 83696, 83697, 83698, 83699, 83700, 83701, 83702, 83703, 83704, 83705, 83706, 83707, 83708, 83709, 83710, 83711, 83712, 83713, 83714, 83715, 83716, 83717, 83718, 83719, 83720, 83721, 83722, 83723, 83724, 83725, 83726, 83727, 83728, 83729, 83730, 83731, 83732, 83733, 83734, 83735, 83736, 83737, 83738, 83739, 83740, 83741, 83742, 83743, 83744, 83745, 83746, 83747, 83748, 83749, 83750, 83751, 83752, 83753, 83754, 83755, 83756, ...], 'Beverly': [38990, 38991, 38992, 38993, 38994, 38995, 38996, 38997, 38998, 38999, 39000, 39001, 39002, 39003, 39004, 39005, 39006, 39007, 39008, 39009, 39010, 39011, 39012, 39013, 39014, 39015, 39016, 39017, 39018, 39019, 39020, 39021, 39022, 39023, 39024, 39025, 39026, 39027, 39028, 39029, 39030, 39031, 39032, 39033, 39034, 39035, 39036, 39037, 39038], 'Billy': [81499, 81500, 81501, 81502, 81503, 81504, 81505, 81506, 81507, 81508, 81509, 81510, 81511, 81512, 81513, 81514, 81515, 81516, 81517, 81518, 81519, 81520, 81521, 81522, 81523, 81524, 81525, 81526, 81527, 81528, 81529, 81530, 81531, 81532, 81533, 81534, 81535, 81536, 81537, 81538, 81539, 81540, 81541, 81542, 81543, 81544, 81545, 81546, 81547, 81548, 81549, 81550, 81551, 81552, 81553, 81554, 81555, 81556, 81557, 81558, 81559, 81560, 81561, 81562, 81563, 81564, 81565, 81566, 81567, 81568, 81569, 81570, 81571, 81572, 81573, 81574, 81575, 81576, 81577, 81578, 81579, 81580, 81581, 81582, 81583, 81584, 81585, 81586, 81587, 81588, 81589, 81590, 81591, 81592, 81593, 81594, 81595, 81596, 81597, 81598, ...], 'Brandi': [86365, 86366, 86367, 86368, 86369, 86370, 86371, 86372, 86373, 86374, 86375, 86376, 86377, 86378, 86379, 86380, 86381, 86382, 86383, 86384, 86385, 86386, 86387, 86388, 86389, 86390, 86391, 86392, 86393, 86394, 86395, 86396, 86397, 86398, 86399, 86400, 86401, 86402, 86403, 86404, 86405, 86406, 86407, 86408, 86409, 86410, 86411, 86412, 86413, 86414, 86415, 86416, 86417, 86418, 86419, 86420, 86421, 86422, 86423, 86424, 86425, 86426, 86427, 86428, 86429, 86430, 86431, 86432, 86433, 86434, 86435, 86436, 86437, 86438, 86439, 86440, 86441, 86442, 86443, 86444, 86445, 86446, 86447, 86448, 86449, 86450, 86451, 86452, 86453, 86454, 86455, 86456, 86457, 86458, 86459, 86460, 86461, 86462, 86463, 86464, ...], 'Brenda': [83494, 83495, 83496, 83497, 83498, 83499, 83500, 83501, 83502, 83503, 83504, 83505, 83506, 83507, 83508, 83509, 83510, 83511, 83512, 83513, 83514, 83515, 83516, 83517, 83518, 83519, 83520, 83521, 83522, 83523, 83524, 83525, 83526, 83527, 83528, 83529, 83530, 83531, 83532, 83533, 83534, 83535, 83536, 83537, 83538, 83539, 83540, 83541, 83542, 83543, 83544, 83545, 83546, 83547, 83548, 83549, 83550, 83551, 83552, 83553, 83554, 83555, 83556, 83557, 83558, 83559, 83560, 83561, 83562, 83563, 83564, 83565, 83566, 83567, 83568, 83569], 'Brenton': [13256, 13257, 13258, 13259, 13260, 13261, 13262, 13263, 13264, 13265, 13266, 13267, 13268, 13269, 13270, 13271, 13272, 13273, 13274, 13275, 13276, 13277, 13278, 13279, 13280, 13281, 13282, 13283, 13284, 13285, 13286, 13287, 13288, 13289, 13290, 13291, 13292, 13293, 13294, 13295, 13296, 13297, 13298, 13299, 13300, 13301, 13302, 13303, 13304, 13305, 13306, 13307, 13308, 13309, 13310, 13311, 13312, 13313, 13314, 13315, 13316, 13317, 13318, 13319, 13320, 13321, 13322, 13323, 13324, 13325, 13326, 13327, 13328, 13329, 13330, 13331, 13332, 13333, 13334, 13335, 13336, 13337, 13338], 'Brett': [13596, 13597, 13598, 13599, 13600, 13601, 13602, 13603, 13604, 13605, 13606, 13607, 13608, 13609, 13610, 13611, 13612, 13613, 13614, 13615, 13616, 13617, 13618, 13619, 13620, 13621, 13622, 13623, 13624, 13625, 13626, 13627, 13628, 13629, 13630, 13631, 13632, 13633, 13634, 13635, 13636, 13637, 13638, 13639, 13640, 13641, 13642, 13643, 13644, 13645, 13646, 13647, 13648, 13649, 13650, 13651, 13652, 13653, 13654, 13655, 13656, 13657, 13658, 13659, 13660, 13661, 13662, 13663, 13664, 13665, 13666, 13667, 13668, 13669, 13670, 13671, 13672, 13673, 13674, 13675, 13676, 13677, 13678, 13679, 13680, 13681, 13682, 13683, 13684, 13685, 13686, 13687, 13688, 13689, 13690, 13691, 13692, 13693, 13694], 'Brian': [9344, 9345, 9346, 9347, 9348, 9349, 9350, 9351, 9352, 9353, 9354, 9355, 9356, 9357, 9358, 9359, 9360, 9361, 9362, 9363, 9364, 9365, 9366, 9367, 9368, 9369, 9370, 9371, 9372, 9373, 9374, 9375, 9376, 9377, 9378, 9379, 9380, 9381, 9382, 9383, 9384, 9385, 9386, 9387, 9388, 9389, 9390, 9391, 9392, 9393, 9394, 9395, 9396, 9397, 9398, 9399, 9400, 9401, 9402, 24698, 24699, 24700, 24701, 24702, 24703, 24704, 24705, 24706, 24707, 24708, 24709, 24710, 24711, 24712, 24713, 24714, 24715, 24716, 24717, 24718, 24719, 24720, 24721, 24722, 24723, 24724, 24725, 24726, 24727, 24728, 24729, 24730, 24731, 24732, 24733, 24734, 24735, 24736, 24737, 24738, ...], 'Brooke': [54546, 54547, 54548, 54549, 54550, 54551, 54552, 54553, 54554, 54555, 54556, 54557, 54558, 54559, 54560, 54561, 54562, 54563, 54564, 54565, 54566, 54567, 54568, 54569, 54570, 54571, 54572, 54573, 54574, 54575, 54576, 54577, 54578, 54579, 54580, 54581, 54582, 54583, 54584, 54585, 54586, 54587, 54588, 54589, 54590, 54591, 54592, 54593, 54594, 54595, 54596, 54597, 54598, 54599, 54600, 54601, 54602, 54603, 54604, 54605, 54606, 54607, 54608, 54609, 54610, 54611, 54612, 54613, 54614, 54615, 54616, 54617, 54618, 54619, 54620, 54621, 54622, 54623, 54624, 54625, 54626, 54627, 54628, 54629, 54630, 54631, 54632, 54633, 54634, 54635, 54636, 54637, 54638, 54639, 54640], 'Bruce': [63963, 63964, 63965, 63966, 63967, 63968, 63969, 63970, 63971, 63972, 63973, 63974, 63975, 63976, 63977, 63978, 63979, 63980, 63981, 63982, 63983, 63984, 63985, 63986, 63987, 63988, 95721, 95722, 95723, 95724, 95725, 95726, 95727, 95728, 95729, 95730, 95731, 95732, 95733, 95734, 95735, 95736, 95737, 95738, 95739, 95740, 95741, 95742, 95743, 95744, 95745, 95746, 95747, 95748, 95749, 95750, 95751, 95752, 95753, 95754, 95755, 95756, 95757, 95758, 95759, 95760, 95761, 95762, 95763, 95764, 95765, 95766, 95767, 95768, 95769, 95770, 95771, 95772, 95773, 95774, 95775, 95776, 95777, 95778, 95779, 95780, 95781, 95782, 95783, 95784, 95785, 95786, 95787, 95788, 95789, 95790, 95791, 95792, 95793, 95794, ...], 'Calvin': [1317, 1318, 1319, 1320, 1321, 1322, 1323, 1324, 1325, 1326, 1327, 1328, 1329, 1330, 1331, 1332, 1333, 1334, 1335, 1336, 1337, 1338, 1339, 1340, 1341, 1342, 1343, 1344, 1345, 1346, 1347, 1348, 1349, 1350, 1351, 1352, 1353, 1354, 1355, 1356, 1357, 1358, 1359, 1360, 1361, 1362, 1363, 1364, 1365, 1366, 1367, 1368, 1369, 1370, 1371, 1372, 1373, 1374, 1375, 1376, 1377, 1378, 1379, 1380, 1381, 1382, 1383, 1384, 1385, 1386, 1387, 1388, 1389, 1390, 1391, 1392, 1393, 1394, 1395, 1396, 1397, 1398, 1399, 1400, 1401, 1402, 1403, 1404, 1405, 1406, 1407, 1408, 1409], 'Cameron': [13964, 13965, 13966, 13967, 13968, 13969, 13970, 13971, 13972, 13973, 13974, 13975, 13976, 13977, 13978, 13979, 13980, 13981, 13982, 13983, 13984, 13985, 13986, 13987, 13988, 13989, 13990, 13991, 13992, 13993, 13994, 13995, 13996, 13997, 13998, 13999, 14000, 14001, 14002, 14003, 14004, 14005, 14006, 14007, 14008, 14009, 14010, 14011, 14012, 14013, 14014, 14015, 14016, 14017, 14018, 14019, 14020, 14021, 14022, 14023, 14024, 14025, 14026, 14027, 14028, 14029, 14030, 14031, 14032, 14033, 14034, 14035, 14036, 14037, 14038, 14039, 14040, 14041, 14042, 14043, 14044, 14045, 14046, 14047, 14048, 14049, 14050, 14051, 14052, 14053, 14054, 14055, 14056, 14057, 14058, 14059, 14060, 14061, 14062, 14063, ...], 'Camille': [17709, 17710, 17711, 17712, 17713, 17714, 17715, 17716, 17717, 17718, 17719, 17720, 17721, 17722, 17723, 17724, 17725, 17726, 17727, 17728, 17729, 17730, 17731, 17732, 17733, 17734, 17735, 17736, 17737, 17738, 17739, 17740, 17741, 17742, 17743, 17744, 17745, 17746, 17747, 17748, 17749, 17750, 17751, 17752, 17753, 17754, 17755, 17756, 17757, 17758, 17759, 17760, 17761, 17762, 17763, 17764, 17765, 17766, 17767, 17768, 17769, 17770, 17771, 17772, 17773, 17774, 17775, 17776, 17777, 17778, 17779, 17780, 17781, 17782, 17783, 17784, 17785, 17786, 17787, 17788, 17789, 17790, 17791, 17792, 17793, 17794, 17795, 17796, 17797, 17798, 17799, 17800, 17801, 17802, 17803, 17804, 17805, 17806, 17807, 17808, ...], 'Carol': [20707, 20708, 20709, 20710, 20711, 20712, 20713, 20714, 20715, 20716, 20717, 20718, 20719, 20720, 20721, 20722, 20723, 20724, 20725, 20726, 20727, 20728, 20729, 20730, 20731, 20732, 20733, 20734, 20735, 20736, 20737, 20738, 20739, 20740, 20741, 20742, 20743, 20744, 20745, 20746, 20747, 20748, 20749, 20750, 20751, 20752, 20753, 20754, 20755, 20756, 20757, 20758, 20759, 20760, 20761, 20762, 20763, 20764, 20765, 20766, 20767, 20768, 20769, 20770, 20771, 20772, 20773, 20774, 20775, 20776, 20777, 20778, 20779, 20780, 20781, 20782, 20783, 20784, 20785, 20786, 20787, 20788, 20789, 20790, 20791, 20792, 20793, 20794, 20795, 20796, 20797, 20798, 20799, 20800, 20801, 20802, 20803, 20804, 20805, 20806, ...], 'Carole': [86165, 86166, 86167, 86168, 86169, 86170, 86171, 86172, 86173, 86174, 86175, 86176, 86177, 86178, 86179, 86180, 86181, 86182, 86183, 86184, 86185, 86186, 86187, 86188, 86189, 86190, 86191, 86192, 86193, 86194, 86195, 86196, 86197, 86198, 86199, 86200, 86201, 86202, 86203, 86204, 86205, 86206, 86207, 86208, 86209, 86210, 86211, 86212, 86213, 86214, 86215, 86216, 86217, 86218, 86219, 86220, 86221, 86222, 86223, 86224, 86225, 86226, 86227, 86228, 86229, 86230, 86231, 86232, 86233, 86234, 86235, 86236, 86237, 86238, 86239, 86240, 86241, 86242, 86243, 86244, 86245, 86246, 86247, 86248, 86249, 86250, 86251, 86252, 86253, 86254, 86255, 86256, 86257, 86258, 86259, 86260, 86261, 86262, 86263, 86264, ...], 'Caroline': [11693, 11694, 11695, 11696, 11697, 11698, 11699, 11700, 11701, 11702, 11703, 11704, 11705, 11706, 11707, 11708, 11709, 11710, 11711, 11712, 11713, 11714, 11715, 11716, 11717, 11718, 11719, 11720, 11721, 11722, 11723, 11724, 11725, 11726, 11727, 11728, 11729, 11730, 11731, 11732, 11733, 11734, 11735, 11736, 11737, 11738, 11739, 11740, 11741, 11742, 11743, 11744, 11745, 11746, 11747, 11748, 11749, 11750, 11751, 11752, 11753, 11754, 11755, 11756, 11757, 11758, 11759, 11760, 11761, 11762, 11763, 11764, 11765, 11766, 11767, 11768, 11769, 11770, 11771, 11772, 11773, 11774, 11775, 11776, 11777, 11778, 11779, 11780, 11781, 11782, 11783, 11784, 11785, 11786, 11787, 11788, 11789, 11790, 11791, 11792, ...], 'Carolyn': [47111, 47112, 47113, 47114, 47115, 47116, 47117, 47118, 47119, 47120, 47121, 47122, 47123, 47124, 47125, 47126, 47127, 47128, 47129, 47130, 47131, 47132, 47133, 47134, 47135, 47136, 47137, 47138, 47139, 47140, 47141, 47142, 47143, 47144, 47145, 47146, 47147, 47148, 47149, 47150, 47151, 47152, 47153, 47154, 47155, 47156, 47157, 47158, 47159, 47160, 47161, 47162, 47163, 47164, 47165, 47166, 47167, 47168, 47169, 47170, 47171, 47172, 47173, 47174, 47175, 47176, 47177, 47178, 47179, 47180, 47181, 47182, 47183, 47184, 47185, 47186, 47187, 47188, 47189, 47190, 47191, 47192, 47193, 47194, 47195, 47196, 47197, 47198, 47199, 47200, 47201, 47202, 47203, 47204, 47205, 47206, 47207, 47208, 47209, 47210, ...], 'Carrie': [91030, 91031, 91032, 91033, 91034, 91035, 91036, 91037, 91038, 91039, 91040, 91041, 91042, 91043, 91044, 91045, 91046, 91047, 91048, 91049, 91050, 91051, 91052, 91053, 91054, 91055, 91056, 91057, 91058, 91059, 91060, 91061, 91062, 91063, 91064, 91065, 91066, 91067, 91068, 91069, 91070, 91071, 91072, 91073, 91074, 91075, 91076, 91077, 91078, 91079, 91080, 91081, 91082, 91083, 91084, 91085, 91086, 91087, 91088, 91089, 91090, 91091, 91092, 91093, 91094, 91095, 91096, 91097, 91098, 91099, 91100, 91101, 91102, 91103, 91104, 91105, 91106, 91107, 91108, 91109, 91110, 91111, 91112, 91113, 91114, 91115, 91116, 91117, 91118, 91119, 91120, 91121, 91122, 91123, 91124, 91125, 91126, 91127, 91128, 91129, ...], 'Casey': [39957, 39958, 39959, 39960, 39961, 39962, 39963, 39964, 39965, 39966, 39967, 39968, 39969, 39970, 39971, 39972, 39973, 39974, 39975, 39976, 39977, 39978, 39979, 39980, 39981, 39982, 39983, 39984, 39985, 39986, 39987, 39988, 39989, 39990, 39991, 39992, 39993, 39994, 39995, 39996, 39997, 39998, 39999, 40000, 40001, 40002, 40003, 40004, 40005, 40006, 40007, 40008, 40009, 40010, 40011, 40012, 40013, 40014, 40015, 40016, 40017, 40018, 40019, 40020, 40021, 40022, 40023, 40024, 40025, 40026, 40027, 40028, 40029, 40030, 40031, 40032, 40033, 40034, 40035, 40036, 40037, 40038, 40039, 40040, 40041, 40042, 40043, 40044, 40045, 40046, 40047, 40048, 40049, 40050, 40051, 40052, 40053, 40054, 40055, 40056, ...], 'Cecile': [48427, 48428, 48429, 48430, 48431, 48432, 48433, 48434, 48435, 48436, 48437, 48438, 48439, 48440, 48441, 48442, 48443, 48444, 48445, 48446, 48447, 48448, 48449, 48450, 48451, 48452, 48453, 48454, 48455, 48456, 48457, 48458, 48459, 48460, 48461, 48462, 48463, 48464, 48465, 48466, 48467, 48468, 48469, 48470, 48471, 48472, 48473, 48474, 48475, 48476, 48477, 48478, 48479, 48480, 48481, 48482, 48483, 48484, 48485, 48486, 48487, 48488, 48489, 48490, 48491, 48492, 48493, 48494, 48495, 48496, 48497, 48498, 48499, 48500, 48501], 'Chad': [33135, 33136, 33137, 33138, 33139, 33140, 33141, 33142, 33143, 33144, 33145, 33146, 33147, 33148, 33149, 33150, 33151, 33152, 33153, 33154, 33155, 33156, 33157, 33158, 33159, 33160, 33161, 33162, 33163, 33164, 33165, 33166, 33167, 33168, 33169, 33170, 33171, 33172, 33173, 33174, 33175, 33176, 33177, 33178, 33179, 33180, 33181, 33182, 33183, 33184, 33185, 33186, 33187, 33188, 33189, 33190, 33191, 33192, 33193, 33194, 33195, 33196, 33197, 33198, 33199, 33200, 33201, 33202, 33203, 33204, 33205, 33206, 33207, 33208, 33209, 33210, 33211, 33212, 33213, 33214, 33215, 33216, 33217, 33218, 33219, 33220, 33221, 33222, 33223, 33224, 33225, 33226, 33227, 33228, 33229, 33230, 33231, 33232, 33233, 33234, ...], 'Charles': [22960, 22961, 22962, 22963, 22964, 22965, 22966, 22967, 22968, 22969, 22970, 22971, 22972, 22973, 22974, 22975, 22976, 22977, 22978, 22979, 22980, 22981, 22982, 22983, 22984, 22985, 22986, 22987, 22988, 22989, 22990, 22991, 22992, 22993, 22994, 22995, 22996, 22997, 22998, 22999, 23000, 23001, 23002, 23003, 23004, 23005, 23006, 23007, 23008, 23009, 23010, 23011, 23012, 23013, 23014, 23015, 23016, 23017, 23018, 23019, 23020, 23021, 23022, 23023, 23024, 23025, 23026, 23027, 23028, 23029, 23030, 23031, 23032, 23033, 23034, 23035, 23036, 23037, 23038, 23039, 23040, 23041, 45325, 45326, 45327, 45328, 45329, 45330, 45331, 45332, 45333, 45334, 45335, 45336, 45337, 45338, 45339, 45340, 45341, 45342, ...], 'Charlotte': [32070, 32071, 32072, 32073, 32074, 32075, 32076, 32077, 32078, 32079, 32080, 32081, 32082, 32083, 32084, 32085, 32086, 32087, 32088, 32089, 32090, 32091, 32092, 32093, 32094, 32095, 32096, 32097, 32098, 32099, 32100, 32101, 32102, 32103, 32104, 32105, 32106, 32107, 32108, 32109, 32110, 32111, 32112, 32113, 32114, 32115, 32116, 32117, 32118, 32119, 32120, 32121, 32122, 32123, 32124, 32125, 32126, 32127, 32128, 32129, 32130, 32131, 32132, 32133, 32134, 32135, 32136, 32137, 32138, 32139, 32140, 32141, 32142, 32143, 32144, 32145, 32146, 32147, 32148, 32149, 32150, 32151, 32152, 32153, 32154, 32155, 32156, 32157, 32158, 32159, 32160, 32161, 32162, 32163, 32164, 32165, 32166, 32167, 32168, 32169, ...], 'Cherie': [51564, 51565, 51566, 51567, 51568, 51569, 51570, 51571, 51572, 51573, 51574, 51575, 51576, 51577, 51578, 51579, 51580, 51581, 51582, 51583, 51584, 51585, 51586, 51587, 51588, 51589, 51590, 51591, 51592, 51593, 51594, 51595, 51596, 51597, 51598, 51599, 51600, 51601, 51602, 51603, 51604, 51605, 51606, 51607, 51608, 51609, 51610, 51611, 51612, 51613, 51614, 51615, 51616, 51617, 51618, 51619, 51620, 51621, 51622, 51623, 51624, 51625, 51626, 51627, 51628, 51629, 51630, 51631, 51632, 51633, 51634, 51635, 51636, 51637, 51638, 51639, 51640, 51641, 51642, 51643, 51644, 51645, 51646, 51647, 51648, 51649, 51650, 51651, 51652, 51653, 51654, 51655, 51656, 51657, 51658, 51659, 51660, 51661, 51662, 51663, ...], 'Chris': [22603, 22604, 22605, 22606, 22607, 22608, 22609, 22610, 22611, 22612, 22613, 22614, 22615, 22616, 22617, 22618, 22619, 22620, 22621, 22622, 22623, 22624, 22625, 22626, 22627, 22628, 22629, 22630, 22631, 22632, 22633, 22634, 22635, 22636, 22637, 22638, 22639, 22640, 22641, 22642, 22643, 22644, 22645, 22646, 22647, 22648, 22649, 22650, 22651, 22652, 22653, 22654, 22655, 22656, 22657, 22658, 22659, 22660, 22661, 22662, 22663, 22664, 22665, 22666, 22667, 22668, 22669, 22670, 22671, 22672, 22673, 22674, 22675, 22676, 22677, 22678, 22679, 22680, 22681, 22682, 22683, 22684, 22685, 22686, 22687, 22688, 22689, 22690, 22691, 22692, 22693, 22694, 22695, 22696, 22697, 22698, 22699, 22700, 22701, 22702, ...], 'Christina': [48019, 48020, 48021, 48022, 48023, 48024, 48025, 48026, 48027, 48028, 48029, 48030, 48031, 48032, 48033, 48034, 48035, 48036, 48037, 48038, 48039, 48040, 48041, 48042, 48043, 48044, 48045, 48046, 48047, 48048, 48049, 48050, 48051, 48052, 48053, 48054, 48055, 48056, 48057, 48058, 48059, 48060, 48061, 48062, 48063, 48064, 48065, 48066, 48067, 48068, 48069, 48070, 48071, 48072, 48073, 48074, 48075, 48076, 48077, 48078, 48079, 48080, 48081, 48082, 48083, 48084, 48085, 48086, 48087, 48088, 48089, 48090, 48091, 48092, 48093, 48094, 48095, 48096, 48097, 48098, 48099, 48100, 48101, 48102, 48103, 48104, 48105, 48106, 48107, 48108, 48109, 48110, 48111, 48112, 48113, 48114, 48115, 48116, 48117, 48118, ...], 'Christine': [9662, 9663, 9664, 9665, 9666, 9667, 9668, 9669, 9670, 9671, 9672, 9673, 9674, 9675, 9676, 9677, 9678, 9679, 9680, 9681, 9682, 9683, 9684, 9685, 9686, 9687, 9688, 9689, 9690, 9691, 9692, 9693, 9694, 9695, 9696, 9697, 9698, 9699, 9700, 9701, 9702, 9703, 9704, 9705, 9706, 9707, 9708, 9709, 9710, 9711, 9712, 9713, 9714, 9715, 9716, 9717, 9718, 9719, 9720, 9721, 9722, 9723, 9724, 9725, 9726, 9727, 9728, 9729, 9730, 9731, 9732, 9733, 9734, 9735, 9736, 9737, 9738, 9739, 9740, 9741, 9742, 9743, 9744, 9745, 9746, 9747, 9748, 9749, 9750, 9751, 9752, 9753, 9754, 9755, 9756, 9757, 9758, 9759, 9760, 9761, ...], 'Christopher': [49832, 49833, 49834, 49835, 49836, 49837, 49838, 49839, 49840, 49841, 49842, 49843, 49844, 49845, 49846, 49847, 49848, 49849, 49850, 49851, 49852, 49853, 49854, 49855, 49856, 49857, 49858, 49859, 49860, 49861, 49862, 49863, 49864, 49865, 49866, 49867, 49868, 49869, 49870, 49871, 49872, 49873, 49874, 49875, 49876, 49877, 49878, 49879, 49880, 49881, 49882, 49883, 49884, 49885, 49886, 49887, 49888, 49889, 49890, 49891, 49892, 49893, 49894, 49895, 49896, 49897, 49898, 49899, 49900, 49901, 49902, 49903, 49904, 49905, 49906, 49907, 49908, 49909, 49910, 49911, 49912, 49913, 49914, 49915, 49916, 49917, 49918, 49919, 49920, 49921, 49922, 49923, 49924, 49925, 49926, 49927, 49928, 49929, 49930, 49931, ...], 'Cindy': [55048, 55049, 55050, 55051, 55052, 55053, 55054, 55055, 55056, 55057, 55058, 55059, 55060, 55061, 55062, 55063, 55064, 55065, 55066, 55067, 55068, 55069, 55070, 55071, 55072, 55073, 55074, 55075, 55076, 55077, 55078, 55079, 55080, 55081, 55082, 55083, 55084, 55085, 55086, 55087, 55088, 55089, 55090, 55091, 55092, 55093, 55094, 55095, 55096, 55097, 55098, 55099, 55100, 55101, 55102, 55103, 55104, 55105, 55106, 55107, 55108, 55109, 55110, 55111, 55112, 55113, 55114, 55115, 55116, 55117, 55118, 55119, 55120, 55121, 55122, 55123, 55124, 55125, 55126, 55127, 55128, 55129, 55130, 55131, 55132, 55133, 55134, 55135, 55136, 55137, 55138, 55139, 55140, 55141, 55142, 55143, 55144, 55145, 55146, 55147, ...], 'Clarissa': [17840, 17841, 17842, 17843, 17844, 17845, 17846, 17847, 17848, 17849, 17850, 17851, 17852, 17853, 17854, 17855, 17856, 17857, 17858, 17859, 17860, 17861, 17862, 17863, 17864, 17865, 17866, 17867, 17868, 17869, 17870, 17871, 17872, 17873, 17874, 17875, 17876, 17877, 17878, 17879, 17880, 17881, 17882, 17883, 17884, 17885, 17886, 17887, 17888, 17889, 17890, 17891, 17892, 17893, 17894, 17895, 17896, 17897, 17898, 17899, 17900, 17901, 17902, 17903, 17904, 17905, 17906, 17907, 17908, 17909, 17910, 17911, 17912, 17913, 17914, 17915, 17916, 17917, 17918, 17919, 17920, 17921, 17922, 17923, 17924, 17925, 17926, 17927, 17928, 17929, 17930, 17931, 17932, 17933, 17934, 17935, 17936, 17937, 17938, 17939, ...], 'Cole': [96549, 96550, 96551, 96552, 96553, 96554, 96555, 96556, 96557, 96558, 96559, 96560, 96561, 96562, 96563, 96564, 96565, 96566, 96567, 96568, 96569, 96570, 96571, 96572, 96573, 96574, 96575, 96576, 96577, 96578, 96579, 96580, 96581, 96582, 96583, 96584, 96585, 96586, 96587, 96588, 96589, 96590, 96591, 96592, 96593, 96594, 96595, 96596, 96597, 96598, 96599, 96600, 96601, 96602, 96603, 96604, 96605, 96606, 96607, 96608, 96609, 96610, 96611, 96612, 96613, 96614, 96615, 96616, 96617, 96618, 96619, 96620, 96621, 96622, 96623, 96624, 96625, 96626, 96627, 96628, 96629, 96630, 96631, 96632, 96633, 96634, 96635, 96636, 96637, 96638, 96639, 96640, 96641, 96642, 96643, 96644, 96645, 96646, 96647, 96648, ...], 'Constance': [7514, 7515, 7516, 7517, 7518, 7519, 7520, 7521, 7522, 7523, 7524, 7525, 7526, 7527, 7528, 7529, 7530, 7531, 7532, 7533, 7534, 7535, 7536, 7537, 7538, 7539, 7540, 7541, 7542, 7543, 7544, 7545, 7546, 7547, 7548, 7549, 7550, 7551, 7552, 7553, 7554], 'Corey': [48860, 48861, 48862, 48863, 48864, 48865, 48866, 48867, 48868, 48869, 48870, 48871, 48872, 48873, 48874, 48875, 48876, 48877, 48878, 48879, 48880, 48881, 48882, 48883, 48884, 48885, 48886, 48887, 48888, 48889, 48890, 48891, 48892, 48893, 48894, 48895, 48896, 48897, 48898, 48899, 48900, 48901, 48902], 'Crystal': [39701, 39702, 39703, 39704, 39705, 39706, 39707, 39708, 39709, 39710, 39711, 39712, 39713, 39714, 39715, 39716, 39717, 39718, 39719, 39720, 39721, 39722, 39723, 39724, 39725, 39726, 39727, 39728, 39729, 39730, 39731, 39732, 39733, 39734, 39735, 39736, 39737, 39738, 39739, 39740, 39741, 39742, 39743, 39744, 39745, 39746, 39747, 39748, 39749, 39750, 39751, 39752, 39753, 39754, 39755, 39756, 39757, 39758, 39759, 39760, 39761, 39762, 39763, 39764, 39765, 39766, 39767, 39768, 39769, 39770, 39771, 39772, 39773, 39774, 39775, 39776, 39777, 39778, 39779, 39780, 39781, 39782, 39783, 39784, 39785, 39786, 39787, 39788, 39789, 39790, 39791, 39792, 39793, 39794, 39795, 39796, 39797, 39798, 39799, 39800, ...], 'Cynthia': [3079, 3080, 3081, 3082, 3083, 3084, 3085, 3086, 3087, 3088, 3089, 3090, 3091, 3092, 3093, 3094, 3095, 3096, 3097, 3098, 3099, 3100, 3101, 3102, 3103, 3104, 3105, 3106, 3107, 3108, 3109, 3110, 3111, 3112, 3113, 3114, 3115, 3116, 3117, 3118, 3119, 3120, 3121, 3122, 3123, 3124, 3125, 3126, 3127, 3128, 3129, 3130, 3131, 3132, 3133, 3134, 3135, 3136, 3137, 3138, 3139, 3140, 3141, 3142, 3143, 3144, 3145, 3146, 3147, 3148, 3149, 3150, 3151, 3152, 3153, 3154, 3155, 3156, 3157, 3158, 3159, 3160, 3161, 3162, 3163, 3164, 3165, 3166, 3167, 3168, 3169, 3170, 3171, 3172, 3173, 3174, 3175, 3176, 3177, 3178, ...], 'Daniel': [34513, 34514, 34515, 34516, 34517, 34518, 34519, 34520, 34521, 34522, 34523, 34524, 34525, 34526, 34527, 34528, 34529, 34530, 34531, 34532, 34533, 34534, 34535, 34536, 34537, 34538, 34539, 34540, 34541, 34542, 34543, 34544, 34545, 34546, 34547, 34548, 34549, 34550, 34551, 34552, 34553, 34554, 34555, 34556, 34557, 34558, 34559, 34560, 34561, 34562, 34563, 34564, 34565, 34566, 34567, 34568, 34569, 34570, 34571, 34572, 34573, 34574, 34575, 34576, 34577, 34578, 34579, 34580, 34581, 34582, 34583, 34584, 34585, 34586, 34587, 34588, 34589, 34590, 34591, 34592, 34593, 34594, 34595, 34596, 34597, 34598, 34599, 34600, 34601, 34602, 34603, 34604, 34605, 34606, 34607, 34608, 34609, 34610, 34611, 34612, ...], 'Darlene': [59383, 59384, 59385, 59386, 59387, 59388, 59389, 59390, 59391, 59392, 59393, 59394, 59395, 59396, 59397, 59398, 59399, 59400, 59401, 59402, 59403, 59404, 59405, 59406, 59407, 59408, 59409, 59410, 59411, 59412, 59413, 59414, 59415, 59416, 59417, 59418, 59419, 59420, 59421, 59422, 59423, 59424, 59425, 59426, 59427, 59428, 59429, 59430, 59431, 59432, 59433, 59434, 59435, 59436, 59437, 59438, 59439, 59440, 59441, 59442, 59443, 59444, 59445, 59446, 59447, 59448, 59449, 59450, 59451, 59452, 59453, 59454, 59455, 59456, 59457, 59458, 59459, 59460, 59461, 59462, 59463, 59464, 59465, 59466, 59467, 59468, 59469, 59470, 59471, 59472, 59473, 59474, 59475, 59476, 59477, 59478, 59479, 59480, 59481, 59482, ...], 'David': [4051, 4052, 4053, 4054, 4055, 4056, 4057, 4058, 4059, 4060, 4061, 4062, 4063, 4064, 4065, 4066, 4067, 4068, 4069, 4070, 4071, 4072, 4073, 4074, 4075, 4076, 4077, 4078, 4079, 4080, 4081, 4082, 4083, 4084, 4085, 4086, 4087, 4088, 4089, 4090, 4091, 4092, 4093, 4094, 4095, 4096, 4097, 4098, 4099, 4100, 4101, 4102, 4103, 4104, 4105, 4106, 4107, 4108, 4109, 4110, 4111, 4112, 4113, 4114, 4115, 4116, 4117, 4118, 4119, 4120, 4121, 4122, 4123, 4124, 4125, 4126, 4127, 4128, 4129, 4130, 4131, 4132, 4133, 4134, 4135, 4136, 4137, 4138, 4139, 4140, 4141, 4142, 4143, 4144, 4145, 4146, 4147, 4148, 4149, 4150, ...], 'Deborah': [86832, 86833, 86834, 86835, 86836, 86837, 86838, 86839, 86840, 86841, 86842, 86843, 86844, 86845, 86846, 86847, 86848, 86849, 86850, 86851, 86852, 86853, 86854, 86855, 86856, 86857, 86858, 86859, 86860, 86861, 86862, 86863, 86864, 86865, 86866, 86867, 86868, 86869, 86870, 86871, 86872, 86873, 86874, 86875, 86876, 86877, 86878, 86879, 86880, 86881, 86882, 86883, 86884, 86885, 86886, 86887, 86888, 86889, 86890, 86891, 86892, 86893, 86894, 86895, 86896, 86897, 86898, 86899, 86900, 86901, 86902, 86903, 86904, 86905, 86906, 86907, 86908, 86909, 86910, 86911, 86912, 86913, 86914, 86915, 86916, 86917, 86918, 86919, 86920, 86921, 86922, 86923, 86924, 86925, 86926, 86927, 86928, 86929, 86930, 86931, ...], 'Debra': [10114, 10115, 10116, 10117, 10118, 10119, 10120, 10121, 10122, 10123, 10124, 10125, 10126, 10127, 10128, 10129, 10130, 10131, 10132, 10133, 10134, 10135, 10136, 10137, 10138, 10139, 10140, 10141, 10142, 10143, 10144, 10145, 10146, 10147, 10148, 10149, 10150, 10151, 10152, 10153, 10154, 10155, 10156, 10157, 10158, 10159, 10160, 10161, 10162, 10163, 10164, 10165, 10166, 10167, 10168, 10169, 10170, 10171, 10172, 10173, 10174, 10175, 10176, 10177, 10178, 10179, 10180, 10181, 10182, 10183, 10184, 10185, 10186, 10187, 10188, 10189, 10190, 10191, 10192, 10193, 10194, 10195, 10196, 10197, 10198, 10199, 10200, 10201, 10202, 10203, 10204, 10205, 10206, 10207, 10208, 10209, 10210, 10211, 10212, 10213, ...], 'Delia': [49716, 49717, 49718, 49719, 49720, 49721, 49722, 49723, 49724, 49725, 49726, 49727, 49728, 49729, 49730, 49731, 49732, 49733, 49734, 49735, 49736, 49737, 49738, 49739, 49740, 49741, 49742, 49743, 49744, 49745, 49746, 49747, 49748, 49749, 49750, 49751, 49752, 49753, 49754, 49755, 49756, 49757, 49758, 49759, 49760, 49761, 49762, 49763, 49764, 49765, 49766, 49767, 49768, 49769, 49770, 49771, 49772, 49773, 49774, 49775, 49776, 49777, 49778, 49779, 49780, 49781, 49782, 49783, 49784, 49785, 49786, 49787, 49788, 49789, 49790, 49791, 49792, 49793, 49794, 49795, 49796, 49797, 49798, 49799, 49800, 49801, 49802, 49803, 49804, 49805, 49806, 49807, 49808, 49809, 49810, 49811, 49812, 49813, 49814, 49815, ...], 'Denise': [48903, 48904, 48905, 48906, 48907, 48908, 48909, 48910, 48911, 48912, 48913, 48914, 48915, 48916, 48917, 48918, 48919, 48920, 48921, 48922, 48923, 48924, 48925, 48926, 48927, 48928, 48929, 48930, 48931, 48932, 48933, 48934, 48935, 48936, 48937, 48938, 48939, 48940, 48941, 48942, 48943, 48944, 48945, 48946, 48947, 48948, 48949, 48950, 48951, 48952, 48953, 48954, 48955, 48956, 48957, 48958, 48959, 48960, 48961, 48962, 48963, 48964, 48965, 48966, 48967, 48968, 48969, 48970, 48971, 48972, 48973, 48974, 48975, 48976, 48977, 48978, 48979, 48980, 48981, 48982, 48983, 48984, 48985, 48986, 48987, 48988, 48989, 48990, 48991, 48992, 48993, 48994, 48995, 48996, 48997, 48998, 48999, 49000, 49001, 49002, ...], 'Dennis': [43636, 43637, 43638, 43639, 43640, 43641, 43642, 43643, 43644, 43645, 43646, 43647, 43648, 43649, 43650, 43651, 43652, 43653, 43654, 43655, 43656, 43657, 43658, 43659, 43660, 43661, 43662, 43663, 43664, 43665, 43666, 43667, 43668, 43669, 43670, 43671, 43672, 43673, 43674, 43675, 43676, 43677, 43678, 43679, 43680, 43681, 43682, 43683, 43684, 43685, 43686, 43687, 43688, 43689, 43690, 43691, 43692, 43693, 43694, 43695, 43696, 43697, 43698, 43699, 43700, 43701, 43702, 43703, 43704, 43705, 43706, 43707, 43708, 43709, 43710, 43711, 43712, 43713, 43714, 43715, 43716, 43717, 43718, 43719, 43720, 43721, 75852, 75853, 75854, 75855, 75856, 75857, 75858, 75859, 75860, 75861, 75862, 75863, 75864, 75865, ...], 'Derrick': [45217, 45218, 45219, 45220, 45221, 45222, 45223, 45224, 45225, 45226, 45227, 45228, 45229, 45230, 45231, 45232, 45233, 45234, 45235, 45236, 45237, 45238, 45239, 45240, 45241, 45242, 45243, 45244, 45245, 45246, 45247, 45248, 45249, 45250, 45251, 45252, 45253, 45254, 45255, 45256, 45257, 45258, 45259, 45260, 45261, 45262, 45263, 45264, 45265, 45266, 45267, 45268, 45269, 45270, 45271, 45272, 45273, 45274, 45275, 45276, 45277, 45278, 45279, 45280, 45281, 45282, 45283, 45284, 45285, 45286, 45287, 45288, 45289, 45290, 45291, 45292, 45293, 45294, 45295, 45296, 45297, 45298, 45299, 45300, 45301, 45302, 45303, 45304, 45305, 45306, 45307, 45308, 45309, 45310, 45311, 45312, 45313, 45314, 45315, 45316, ...], 'Dewayne': [29534, 29535, 29536, 29537, 29538, 29539, 29540, 29541, 29542, 29543, 29544, 29545, 29546, 29547, 29548, 29549, 29550, 29551, 29552, 29553, 29554, 29555, 29556, 29557, 29558, 29559, 29560, 29561, 29562, 29563, 29564, 29565, 29566, 29567, 29568, 29569, 29570, 29571, 29572, 29573, 29574, 29575, 29576, 29577, 29578, 29579, 29580, 29581, 29582, 29583, 29584, 29585, 29586, 29587, 29588, 29589, 29590, 29591, 29592, 29593, 29594, 29595, 29596, 29597, 29598, 29599, 29600, 29601, 29602, 29603, 29604, 29605, 29606, 29607, 29608, 29609, 29610, 29611, 29612, 29613, 29614, 29615, 29616, 29617, 29618, 29619, 29620, 29621, 29622, 29623, 29624, 29625, 29626, 29627, 29628, 29629, 29630, 29631, 29632, 29633, ...], 'Dixie': [77328, 77329, 77330, 77331, 77332, 77333, 77334, 77335, 77336, 77337, 77338, 77339, 77340, 77341, 77342, 77343, 77344, 77345, 77346, 77347, 77348, 77349, 77350, 77351, 77352, 77353, 77354, 77355, 77356, 77357, 77358, 77359, 77360, 77361, 77362, 77363, 77364, 77365, 77366, 77367, 77368, 77369, 77370, 77371, 77372, 77373, 77374, 77375, 77376, 77377, 77378, 77379, 77380, 77381, 77382, 77383, 77384, 77385, 77386, 77387, 77388, 77389, 77390, 77391, 77392, 77393, 77394, 77395, 77396, 77397, 77398, 77399, 77400, 77401, 77402, 77403, 77404, 77405, 77406, 77407, 77408, 77409, 77410, 77411, 77412, 77413, 77414, 77415, 77416, 77417, 77418, 77419, 77420, 77421, 77422, 77423, 77424, 77425, 77426, 77427, ...], 'Dominic': [96855, 96856, 96857, 96858, 96859, 96860, 96861, 96862, 96863, 96864, 96865, 96866, 96867, 96868, 96869, 96870, 96871, 96872, 96873, 96874, 96875, 96876, 96877, 96878, 96879, 96880, 96881, 96882, 96883, 96884, 96885, 96886, 96887, 96888, 96889, 96890, 96891, 96892, 96893, 96894, 96895, 96896, 96897, 96898, 96899, 96900, 96901, 96902, 96903, 96904, 96905, 96906, 96907, 96908, 96909, 96910, 96911, 96912, 96913, 96914, 96915, 96916, 96917, 96918, 96919, 96920, 96921, 96922, 96923, 96924, 96925, 96926, 96927, 96928, 96929, 96930, 96931, 96932, 96933, 96934, 96935, 96936, 96937, 96938, 96939, 96940, 96941, 96942, 96943, 96944, 96945, 96946, 96947, 96948, 96949, 96950, 96951, 96952, 96953, 96954, ...], 'Don': [28295, 28296, 28297, 28298, 28299, 28300, 28301, 28302, 28303, 28304, 28305, 28306, 28307, 28308, 28309, 28310, 28311, 28312, 28313, 28314, 28315, 28316, 28317, 28318, 28319, 28320, 28321, 28322, 28323, 28324, 28325, 28326, 28327, 28328, 28329, 28330, 28331, 28332, 28333, 28334, 28335, 28336, 28337, 28338, 28339, 28340, 28341, 28342, 28343, 28344, 28345, 28346, 28347, 28348, 28349, 28350, 28351, 28352, 28353, 28354, 28355, 28356, 28357, 28358, 28359, 28360, 28361, 28362, 28363, 28364, 28365, 28366, 28367, 28368, 28369, 28370, 28371, 28372, 28373, 28374, 28375, 28376, 28377, 28378, 28379, 28380, 28381, 28382, 28383, 28384, 28385, 28386, 28387, 28388, 28389, 28390, 28391, 28392, 28393, 28394, ...], 'Donna': [9130, 9131, 9132, 9133, 9134, 9135, 9136, 9137, 9138, 9139, 9140, 9141, 9142, 9143, 9144, 9145, 9146, 9147, 9148, 9149, 9150, 9151, 9152, 9153, 9154, 9155, 9156, 9157, 9158, 9159, 9160, 9161, 9162, 9163, 9164, 9165, 9166, 9167, 9168, 9169, 9170, 9171, 9172, 9173, 9174, 9175, 9176, 9177, 9178, 9179, 9180, 9181, 9182, 9183, 9184, 9185, 9186, 9187, 9188, 9189, 9190, 9191, 9192, 9193, 9194, 9195, 9196, 9197, 9198, 9199, 9200, 9201, 9202, 9203, 9204, 9205, 9206, 9207, 9208, 9209, 9210, 9211, 9212, 9213, 9214, 9215, 9216, 9217, 9218, 9219, 9220, 9221, 9222, 9223, 9224, 9225, 9226, 9227, 9228, 9229, ...], 'Dora': [44597, 44598, 44599, 44600, 44601, 44602, 44603, 44604, 44605, 44606, 44607, 44608, 44609, 44610, 44611, 44612, 44613, 44614, 44615, 44616, 44617, 44618, 44619, 44620, 44621, 44622, 44623, 44624, 44625, 44626, 44627, 44628, 44629, 44630, 44631, 44632, 44633, 44634, 44635, 44636, 44637, 44638, 44639, 44640, 44641, 44642, 44643, 44644, 44645, 44646, 44647, 44648, 44649, 44650, 44651, 44652, 44653, 44654, 44655, 44656, 44657, 44658, 44659, 44660, 44661, 44662, 44663, 44664, 44665, 44666, 44667, 44668, 44669, 44670, 44671, 44672, 44673, 44674, 44675, 44676, 44677, 44678, 44679, 44680, 44681, 44682, 44683, 44684, 44685, 44686, 44687, 44688, 44689, 44690, 44691, 44692, 44693, 44694, 44695, 44696, ...], 'Doris': [5601, 5602, 5603, 5604, 5605, 5606, 5607, 5608, 5609, 5610, 5611, 5612, 5613, 5614, 5615, 5616, 5617, 5618, 5619, 5620, 5621, 5622, 5623, 5624, 5625, 5626, 5627, 5628, 5629, 5630, 5631, 5632, 5633, 5634, 5635, 5636, 5637, 5638, 5639, 5640, 5641, 5642, 5643, 5644, 5645, 5646, 5647, 5648, 5649, 5650, 5651, 5652, 5653, 5654, 5655, 5656, 5657, 5658, 5659, 5660, 5661, 5662, 5663, 5664, 5665, 5666, 5667, 5668, 5669, 5670, 5671, 5672, 5673, 5674, 5675, 5676, 5677, 5678, 5679, 5680, 5681, 5682, 5683, 5684, 5685, 5686, 5687, 5688, 5689, 5690, 5691, 5692, 5693, 5694, 5695, 5696, 5697, 5698, 5699, 5700, ...], 'Dwight': [36012, 36013, 36014, 36015, 36016, 36017, 36018, 36019, 36020, 36021, 36022, 36023, 36024, 36025, 36026, 36027, 36028, 36029, 36030, 36031, 36032, 36033, 36034, 36035, 36036, 36037, 36038, 36039, 36040, 36041, 36042, 36043, 36044, 36045, 36046, 36047, 36048, 36049, 36050, 36051, 36052, 36053, 36054, 36055, 36056, 36057, 36058, 36059, 36060, 36061, 36062, 36063, 36064, 36065, 36066, 36067, 36068, 36069, 36070, 36071, 36072, 36073, 36074, 36075, 36076, 36077, 36078, 36079, 36080, 36081, 36082, 36083, 36084, 36085, 36086, 36087, 36088, 36089, 36090, 36091, 36092, 36093, 36094, 36095, 36096, 36097, 36098, 36099, 36100, 36101, 36102, 36103, 36104, 36105, 36106, 36107, 36108, 36109, 36110, 36111, ...], 'Eduardo': [51356, 51357, 51358, 51359, 51360, 51361, 51362, 51363, 51364, 51365, 51366, 51367, 51368, 51369, 51370, 51371, 51372, 51373, 51374, 51375, 51376, 51377, 51378, 51379, 51380, 51381, 51382, 51383, 51384, 51385, 51386, 51387, 51388, 51389, 51390, 51391, 51392, 51393, 51394, 51395, 51396, 51397, 51398, 51399, 51400, 51401, 51402, 51403, 51404, 51405, 51406, 51407, 51408, 51409, 51410, 51411, 51412, 51413, 51414, 51415, 51416, 51417, 51418, 51419, 51420, 51421, 51422, 51423, 51424, 51425, 51426, 51427, 51428, 51429, 51430, 51431, 51432, 51433, 51434, 51435, 51436, 51437, 51438, 51439, 51440, 51441, 51442], 'Edward': [4594, 4595, 4596, 4597, 4598, 4599, 4600, 4601, 4602, 4603, 4604, 4605, 4606, 4607, 4608, 4609, 4610, 4611, 4612, 4613, 4614, 4615, 4616, 4617, 4618, 4619, 4620, 4621, 4622, 4623, 4624, 4625, 4626, 4627, 4628, 4629, 4630, 4631, 4632, 4633, 4634, 4635, 4636, 4637, 4638, 4639, 4640, 4641, 4642, 4643, 4644, 4645, 4646, 4647, 4648, 4649, 4650, 4651, 4652, 4653, 4654, 4655, 4656, 4657, 4658, 4659, 4660, 4661, 4662, 4663, 4664, 4665, 4666, 4667, 4668, 4669, 4670, 4671, 4672, 4673, 4674, 4675, 4676, 4677, 4678, 4679, 4680, 4681, 4682, 4683, 4684, 4685, 4686, 4687, 4688, 4689, 4690, 4691, 4692, 4693, ...], 'Elijah': [15983, 15984, 15985, 15986, 15987, 15988, 15989, 15990, 15991, 15992, 15993, 15994, 15995, 15996, 15997, 15998, 15999, 16000, 16001, 16002, 16003, 16004, 16005, 16006, 16007, 16008, 16009, 16010, 16011, 16012, 16013, 16014, 16015, 16016, 16017, 16018, 16019, 16020, 16021, 16022, 16023, 16024, 16025, 16026, 16027, 16028, 16029, 16030, 16031, 16032, 16033, 16034, 16035, 16036, 16037, 16038, 16039, 16040, 16041, 16042, 16043, 16044, 16045, 16046, 16047, 16048, 16049, 16050, 16051, 16052, 16053, 16054, 16055, 16056, 16057, 16058, 16059, 16060, 16061, 16062, 16063, 16064, 16065, 16066, 16067, 16068, 16069, 16070, 16071, 16072, 16073, 16074, 16075, 16076, 16077, 16078, 16079, 16080, 16081, 16082, ...], 'Elizabeth': [35017, 35018, 35019, 35020, 35021, 35022, 35023, 35024, 35025, 35026, 35027, 35028, 35029, 35030, 35031, 35032, 35033, 35034, 35035, 35036, 35037, 35038, 35039, 35040, 35041, 35042, 35043, 35044, 35045, 35046, 35047, 35048, 35049, 35050, 35051, 35052, 35053, 35054, 35055, 35056, 35057, 35058, 35059, 35060, 35061, 35062, 35063, 35064, 35065, 35066, 35067, 35068, 35069, 35070, 35071, 35072, 35073, 35074, 35075, 35076, 35077, 35078, 35079, 35080, 35081, 35082, 35083, 35084, 35085, 35086, 35087, 35088, 35089, 35090, 35091, 35092, 35093, 35094, 35095, 35096, 35097, 35098, 35099, 35100, 35101, 35102, 35103, 35104, 35105, 35106, 35107, 35108, 35109, 35110, 35111, 35112, 35113, 35114, 35115, 35116, ...], 'Ellen': [90057, 90058, 90059, 90060, 90061, 90062, 90063, 90064, 90065, 90066, 90067, 90068, 90069, 90070, 90071, 90072, 90073, 90074, 90075, 90076, 90077, 90078, 90079, 90080, 90081, 90082, 90083, 90084, 90085, 90086, 90087, 90088, 90089, 90090, 90091, 90092, 90093, 90094, 90095, 90096, 90097, 90098, 90099, 90100, 90101, 90102, 90103, 90104, 90105, 90106, 90107, 90108, 90109, 90110, 90111, 90112, 90113, 90114, 90115, 90116, 90117, 90118, 90119, 90120, 90121, 90122, 90123, 90124, 90125, 90126, 90127, 90128, 90129, 90130, 90131, 90132, 90133, 90134, 90135, 90136, 90137, 90138, 90139, 90140, 90141, 90142, 90143, 90144, 90145, 90146, 90147, 90148, 90149, 90150, 90151, 90152, 90153, 90154, 90155, 90156, ...], 'Emma': [37131, 37132, 37133, 37134, 37135, 37136, 37137, 37138, 37139, 37140, 37141, 37142, 37143, 37144, 37145, 37146, 37147, 37148, 37149, 37150, 37151, 37152, 37153, 37154, 37155, 37156, 37157, 37158, 37159, 37160, 37161, 37162, 37163, 37164, 37165, 37166, 37167, 37168, 37169, 37170, 37171, 37172, 37173, 37174, 37175, 37176, 37177, 37178, 37179, 37180, 37181, 37182, 37183, 37184, 37185, 37186, 37187, 37188, 37189, 37190, 37191, 37192, 37193, 37194, 37195, 37196, 37197, 37198, 37199, 37200, 37201, 37202, 37203, 37204, 37205, 37206, 37207, 37208, 37209, 37210, 37211, 37212, 37213, 37214, 37215, 37216, 37217, 37218, 37219, 37220, 37221, 37222, 37223, 37224, 37225, 37226, 37227, 37228, 37229, 37230, ...], 'Enrique': [15224, 15225, 15226, 15227, 15228, 15229, 15230, 15231, 15232, 15233, 15234, 15235, 15236, 15237, 15238, 15239, 15240, 15241, 15242, 15243, 15244, 15245, 15246, 15247, 15248, 15249, 15250, 15251, 15252, 15253, 15254, 15255, 15256, 15257, 15258, 15259, 15260, 15261, 15262, 15263, 15264, 15265, 15266, 15267, 15268, 15269, 15270, 15271, 15272, 15273, 15274, 15275, 15276, 15277, 15278, 15279, 15280, 15281, 15282, 15283, 15284, 15285, 15286, 15287, 15288, 15289, 15290, 15291, 15292, 15293, 15294, 15295, 15296, 15297, 15298, 15299, 15300, 15301, 15302, 15303, 15304, 15305, 15306, 15307, 15308, 15309, 15310, 15311, 15312, 15313, 15314, 15315, 15316, 15317, 15318, 15319, 15320, 15321, 15322, 15323, ...], 'Eric': [7355, 7356, 7357, 7358, 7359, 7360, 7361, 7362, 7363, 7364, 7365, 7366, 7367, 7368, 7369, 7370, 7371, 7372, 7373, 7374, 7375, 7376, 7377, 7378, 7379, 7380, 7381, 7382, 7383, 7384, 7385, 7386, 7387, 7388, 7389, 7390, 7391, 7392, 7393, 7394, 7395, 7396, 7397, 7398, 7399, 7400, 7401, 7402, 7403, 7404, 7405, 7406, 7407, 7408, 7409, 7410, 7411, 7412, 7413, 7414, 7415, 7416, 7417, 7418, 7419, 7420, 7421, 7422, 7423, 7424, 7425, 7426, 7427, 7428, 7429, 7430, 7431, 7432, 7433, 7434, 7435, 7436, 7437, 7438, 7439, 7440, 7441, 7442, 7443, 7444, 7445, 7446, 7447, 7448, 7449, 7450, 7451, 7452, 7453, 7454, ...], 'Essie': [80206, 80207, 80208, 80209, 80210, 80211, 80212, 80213, 80214, 80215, 80216, 80217, 80218, 80219, 80220, 80221, 80222, 80223, 80224, 80225, 80226, 80227, 80228, 80229, 80230, 80231, 80232, 80233, 80234, 80235, 80236, 80237, 80238, 80239, 80240, 80241, 80242, 80243, 80244, 80245, 80246, 80247, 80248, 80249, 80250, 80251, 80252, 80253, 80254, 80255, 80256, 80257, 80258, 80259, 80260, 80261, 80262, 80263, 80264, 80265, 80266, 80267, 80268, 80269, 80270, 80271, 80272, 80273, 80274, 80275, 80276, 80277, 80278, 80279, 80280, 80281, 80282, 80283, 80284, 80285, 80286, 80287, 80288, 80289, 80290, 80291, 80292, 80293, 80294, 80295, 80296, 80297, 80298, 80299, 80300, 80301, 80302, 80303, 80304, 80305, ...], 'Esther': [62946, 62947, 62948, 62949, 62950, 62951, 62952, 62953, 62954, 62955, 62956, 62957, 62958, 62959, 62960, 62961, 62962, 62963, 62964, 62965, 62966, 62967, 62968, 62969, 62970, 62971, 62972, 62973, 62974, 62975, 62976, 62977, 62978, 62979, 62980, 62981, 62982, 62983, 62984, 62985, 62986, 62987, 62988, 62989, 62990, 62991, 62992, 62993, 62994, 62995, 62996, 62997, 62998, 62999, 63000, 63001, 63002, 63003, 63004, 63005, 63006, 63007, 63008, 63009, 63010, 63011, 63012, 63013, 63014, 63015, 63016, 63017, 63018, 63019, 63020, 63021, 63022, 63023, 63024, 63025, 63026, 63027, 63028, 63029, 63030, 63031, 63032, 63033, 63034, 63035, 63036, 63037, 63038, 63039, 63040, 63041, 63042, 63043, 63044, 63045, ...], 'Eva': [53575, 53576, 53577, 53578, 53579, 53580, 53581, 53582, 53583, 53584, 53585, 53586, 53587, 53588, 53589, 53590, 53591, 53592, 53593, 53594, 53595, 53596, 53597, 53598, 53599, 53600, 53601, 53602, 53603, 53604, 53605, 53606, 53607, 53608, 53609, 53610, 53611, 53612, 53613, 53614, 53615, 53616, 53617, 53618, 53619, 53620, 53621, 53622, 53623, 53624, 53625], 'Evelyn': [2376, 2377, 2378, 2379, 2380, 2381, 2382, 2383, 2384, 2385, 2386, 2387, 2388, 2389, 2390, 2391, 2392, 2393, 2394, 2395, 2396, 2397, 2398, 2399, 2400, 2401, 2402, 2403, 2404, 2405, 2406, 2407, 2408, 2409, 2410, 2411, 2412, 2413, 2414, 2415, 2416, 2417, 2418, 2419, 2420, 2421, 2422, 2423, 2424, 2425, 2426, 2427, 2428, 2429, 2430, 2431, 2432, 2433, 2434, 2435, 2436, 2437, 2438, 2439, 2440, 2441, 2442, 2443, 2444, 2445, 2446, 2447, 2448, 2449, 2450, 2451, 2452, 2453, 2454, 2455, 2456, 2457, 2458, 2459, 2460, 2461, 2462, 2463, 2464, 2465, 2466, 2467, 2468, 2469, 2470, 2471, 2472, 2473, 2474, 2475, ...], 'Faye': [25110, 25111, 25112, 25113, 25114, 25115, 25116, 25117, 25118, 25119, 25120, 25121, 25122, 25123, 25124, 25125, 25126, 25127, 25128, 25129, 25130, 25131, 25132, 25133, 25134, 25135, 25136, 25137, 25138, 25139, 25140, 25141, 25142, 25143, 25144, 25145, 25146, 25147, 25148, 25149, 25150, 25151, 25152, 25153, 25154, 25155, 25156, 25157, 25158, 25159, 25160, 25161, 25162, 25163, 25164, 25165, 25166, 25167, 25168, 25169, 25170, 25171, 25172, 25173, 25174, 25175, 25176, 25177, 25178, 25179, 25180, 25181, 25182, 25183, 25184, 25185, 25186, 25187, 25188, 25189, 25190, 25191, 25192, 25193, 25194, 25195, 25196, 25197, 25198, 25199, 25200, 25201, 25202, 25203, 25204, 25205, 25206, 25207, 25208, 25209, ...], 'Fidel': [53174, 53175, 53176, 53177, 53178, 53179, 53180, 53181, 53182, 53183, 53184, 53185, 53186, 53187, 53188, 53189, 53190, 53191, 53192, 53193, 53194, 53195, 53196, 53197, 53198, 53199, 53200, 53201, 53202, 53203, 53204, 53205, 53206, 53207, 53208, 53209, 53210, 53211, 53212, 53213, 53214, 53215, 53216, 53217, 53218, 53219, 53220, 53221, 53222, 53223, 53224, 53225, 53226, 53227, 53228, 53229, 53230, 53231, 53232, 53233, 53234, 53235, 53236, 53237, 53238, 53239, 53240, 53241, 53242, 53243, 53244, 53245, 53246, 53247, 53248, 53249, 53250, 53251, 53252, 53253, 53254, 53255, 53256, 53257, 53258, 53259, 53260, 53261, 53262, 53263, 53264, 53265, 53266, 53267, 53268, 53269, 53270, 53271, 53272, 53273, ...], 'Flora': [4906, 4907, 4908, 4909, 4910, 4911, 4912, 4913, 4914, 4915, 4916, 4917, 4918, 4919, 4920, 4921, 4922, 4923, 4924, 4925, 4926, 4927, 4928, 4929, 4930, 4931, 4932, 4933, 4934, 4935, 4936, 4937, 4938, 4939, 4940, 4941, 4942, 4943, 4944, 4945, 4946, 4947, 4948, 4949, 4950, 4951, 4952, 4953, 4954, 4955, 4956, 4957, 4958, 4959, 4960, 4961, 4962, 4963, 4964, 4965, 4966, 4967, 4968, 4969, 4970, 4971, 4972, 4973, 4974, 4975, 4976, 4977, 4978, 4979, 4980, 4981, 4982, 4983, 4984, 4985, 4986, 4987, 4988, 4989, 4990, 4991, 4992, 4993, 4994, 4995, 4996, 4997, 4998, 4999, 5000, 5001, 5002, 5003, 5004, 5005, ...], 'Frank': [3405, 3406, 3407, 3408, 3409, 3410, 3411, 3412, 3413, 3414, 3415, 3416, 3417, 3418, 3419, 3420, 3421, 3422, 3423, 3424, 3425, 3426, 3427, 3428, 3429, 3430, 3431, 3432, 3433, 3434, 3435, 3436, 3437, 3438, 3439, 3440, 3441, 3442, 3443, 3444, 3445, 3446, 3447, 3448, 3449, 3450, 3451, 3452, 3453, 3454, 3455, 3456, 3457, 3458, 3459, 3460, 3461, 3462, 3463, 3464, 3465, 3466, 3467, 3468, 3469, 3470, 3471, 3472, 3473], 'Fred': [79853, 79854, 79855, 79856, 79857, 79858, 79859, 79860, 79861, 79862, 79863, 79864, 79865, 79866, 79867, 79868, 79869, 79870, 79871, 79872, 79873, 79874, 79875, 79876, 79877, 79878, 79879, 79880, 79881, 79882, 79883, 79884, 79885, 79886, 79887, 79888, 79889, 79890, 79891, 79892, 79893, 79894, 79895, 79896, 79897, 79898, 79899, 79900, 79901, 79902, 79903, 79904, 79905, 79906, 79907, 79908, 79909, 79910, 79911, 79912, 79913, 79914, 79915, 79916, 79917, 79918, 79919, 79920, 79921, 79922, 79923, 79924, 79925, 79926, 79927, 79928, 79929, 79930, 79931, 79932, 79933, 79934, 79935, 79936, 79937, 79938, 79939, 79940, 79941, 79942, 79943, 79944, 79945, 79946, 79947, 79948, 79949, 79950, 79951, 79952, ...], 'Frederic': [19983, 19984, 19985, 19986, 19987, 19988, 19989, 19990, 19991, 19992, 19993, 19994, 19995, 19996, 19997, 19998, 19999, 20000, 20001, 20002, 20003, 20004, 20005, 20006, 20007, 20008, 20009, 20010, 20011, 20012, 20013, 20014, 20015, 20016, 20017, 20018, 20019, 20020, 20021, 20022, 20023, 20024, 20025, 20026, 20027, 20028, 20029, 20030, 20031, 20032, 20033, 20034, 20035, 20036, 20037, 20038, 20039, 20040, 20041, 20042, 20043, 20044, 20045, 20046, 20047, 20048, 20049, 20050, 20051, 20052, 20053, 20054, 20055, 20056, 20057, 20058, 20059, 20060, 20061, 20062, 20063, 20064, 20065, 20066, 20067, 20068, 20069, 20070, 20071, 20072, 20073, 20074, 20075, 20076, 20077, 20078, 20079, 20080, 20081, 20082, ...], 'Fritz': [20451, 20452, 20453, 20454, 20455, 20456, 20457, 20458, 20459, 20460, 20461, 20462, 20463, 20464, 20465, 20466, 20467, 20468, 20469, 20470, 20471, 20472, 20473, 20474, 20475, 20476, 20477, 20478, 20479, 20480, 20481, 20482, 20483, 20484, 20485, 20486, 20487, 20488, 20489, 20490, 20491, 20492, 20493, 20494, 20495, 20496, 20497, 20498, 20499, 20500, 20501, 20502, 20503, 20504, 20505, 20506, 20507, 20508, 20509, 20510, 20511, 20512, 20513, 20514, 20515, 20516, 20517, 20518, 20519, 20520, 20521, 20522, 20523, 20524, 20525, 20526, 20527, 20528, 20529, 20530, 20531, 20532, 20533, 20534, 20535, 20536, 20537, 20538, 20539, 20540, 20541, 20542, 20543, 20544, 20545, 20546, 20547, 20548, 20549, 20550, ...], ...}"
      ]
     },
     "metadata": {},
     "output_type": "display_data"
    }
   ],
   "source": [
    "display(aa.size().sort_values(ascending=False))\n",
    "display(aa.size())\n",
    "display(aa.groups)"
   ]
  },
  {
   "cell_type": "code",
   "execution_count": 32,
   "id": "a53de06a",
   "metadata": {},
   "outputs": [
    {
     "data": {
      "text/html": [
       "<div>\n",
       "<style scoped>\n",
       "    .dataframe tbody tr th:only-of-type {\n",
       "        vertical-align: middle;\n",
       "    }\n",
       "\n",
       "    .dataframe tbody tr th {\n",
       "        vertical-align: top;\n",
       "    }\n",
       "\n",
       "    .dataframe thead th {\n",
       "        text-align: right;\n",
       "    }\n",
       "</style>\n",
       "<table border=\"1\" class=\"dataframe\">\n",
       "  <thead>\n",
       "    <tr style=\"text-align: right;\">\n",
       "      <th></th>\n",
       "      <th>Order Id</th>\n",
       "      <th>Company Id</th>\n",
       "      <th>Company Name</th>\n",
       "      <th>Date</th>\n",
       "      <th>Val</th>\n",
       "      <th>Sale</th>\n",
       "      <th>Sales Rep</th>\n",
       "      <th>Sales Rep Id</th>\n",
       "    </tr>\n",
       "  </thead>\n",
       "  <tbody>\n",
       "    <tr>\n",
       "      <th>25612</th>\n",
       "      <td>3BJY12LWBN7D0GJL</td>\n",
       "      <td>CE4544HJOFMONMH2</td>\n",
       "      <td>Follow-Up Boundary</td>\n",
       "      <td>2014-09-04</td>\n",
       "      <td>1940</td>\n",
       "      <td>0</td>\n",
       "      <td>Aaron Hendrickson</td>\n",
       "      <td>AEMLQ09IYM72ACBL</td>\n",
       "    </tr>\n",
       "    <tr>\n",
       "      <th>25613</th>\n",
       "      <td>W3HHOSC1H6A1PW37</td>\n",
       "      <td>CE4544HJOFMONMH2</td>\n",
       "      <td>Follow-Up Boundary</td>\n",
       "      <td>2015-09-24</td>\n",
       "      <td>2109</td>\n",
       "      <td>0</td>\n",
       "      <td>Aaron Hendrickson</td>\n",
       "      <td>AEMLQ09IYM72ACBL</td>\n",
       "    </tr>\n",
       "    <tr>\n",
       "      <th>25614</th>\n",
       "      <td>G9JKIZO4WD945GBH</td>\n",
       "      <td>CE4544HJOFMONMH2</td>\n",
       "      <td>Follow-Up Boundary</td>\n",
       "      <td>2014-12-06</td>\n",
       "      <td>4300</td>\n",
       "      <td>1</td>\n",
       "      <td>Aaron Hendrickson</td>\n",
       "      <td>AEMLQ09IYM72ACBL</td>\n",
       "    </tr>\n",
       "    <tr>\n",
       "      <th>25615</th>\n",
       "      <td>BKIJVKZ7REVN6P8B</td>\n",
       "      <td>CE4544HJOFMONMH2</td>\n",
       "      <td>Follow-Up Boundary</td>\n",
       "      <td>2017-05-07</td>\n",
       "      <td>3026</td>\n",
       "      <td>0</td>\n",
       "      <td>Aaron Hendrickson</td>\n",
       "      <td>AEMLQ09IYM72ACBL</td>\n",
       "    </tr>\n",
       "    <tr>\n",
       "      <th>25616</th>\n",
       "      <td>WFHGWR4PAD04A2GJ</td>\n",
       "      <td>CE4544HJOFMONMH2</td>\n",
       "      <td>Follow-Up Boundary</td>\n",
       "      <td>2016-01-20</td>\n",
       "      <td>5033</td>\n",
       "      <td>0</td>\n",
       "      <td>Aaron Hendrickson</td>\n",
       "      <td>AEMLQ09IYM72ACBL</td>\n",
       "    </tr>\n",
       "    <tr>\n",
       "      <th>...</th>\n",
       "      <td>...</td>\n",
       "      <td>...</td>\n",
       "      <td>...</td>\n",
       "      <td>...</td>\n",
       "      <td>...</td>\n",
       "      <td>...</td>\n",
       "      <td>...</td>\n",
       "      <td>...</td>\n",
       "    </tr>\n",
       "    <tr>\n",
       "      <th>25899</th>\n",
       "      <td>NATK7K3TZUH32BBE</td>\n",
       "      <td>CGDGXAW6GNU6JIEG</td>\n",
       "      <td>Fiftieth Art'S</td>\n",
       "      <td>2015-01-27</td>\n",
       "      <td>6095</td>\n",
       "      <td>1</td>\n",
       "      <td>Aaron Hendrickson</td>\n",
       "      <td>AEMLQ09IYM72ACBL</td>\n",
       "    </tr>\n",
       "    <tr>\n",
       "      <th>25900</th>\n",
       "      <td>EGD6IRB0UML62XB0</td>\n",
       "      <td>CGDGXAW6GNU6JIEG</td>\n",
       "      <td>Fiftieth Art'S</td>\n",
       "      <td>2018-11-04</td>\n",
       "      <td>7652</td>\n",
       "      <td>1</td>\n",
       "      <td>Aaron Hendrickson</td>\n",
       "      <td>AEMLQ09IYM72ACBL</td>\n",
       "    </tr>\n",
       "    <tr>\n",
       "      <th>25901</th>\n",
       "      <td>9Z18A7D1T8EUH58D</td>\n",
       "      <td>CGDGXAW6GNU6JIEG</td>\n",
       "      <td>Fiftieth Art'S</td>\n",
       "      <td>2016-05-08</td>\n",
       "      <td>4746</td>\n",
       "      <td>0</td>\n",
       "      <td>Aaron Hendrickson</td>\n",
       "      <td>AEMLQ09IYM72ACBL</td>\n",
       "    </tr>\n",
       "    <tr>\n",
       "      <th>25902</th>\n",
       "      <td>R0LUW64V2F3O2HSD</td>\n",
       "      <td>CGDGXAW6GNU6JIEG</td>\n",
       "      <td>Fiftieth Art'S</td>\n",
       "      <td>2017-02-16</td>\n",
       "      <td>6158</td>\n",
       "      <td>0</td>\n",
       "      <td>Aaron Hendrickson</td>\n",
       "      <td>AEMLQ09IYM72ACBL</td>\n",
       "    </tr>\n",
       "    <tr>\n",
       "      <th>25903</th>\n",
       "      <td>UMHMBM5M179IHX6D</td>\n",
       "      <td>CGDGXAW6GNU6JIEG</td>\n",
       "      <td>Fiftieth Art'S</td>\n",
       "      <td>2017-07-28</td>\n",
       "      <td>2164</td>\n",
       "      <td>0</td>\n",
       "      <td>Aaron Hendrickson</td>\n",
       "      <td>AEMLQ09IYM72ACBL</td>\n",
       "    </tr>\n",
       "  </tbody>\n",
       "</table>\n",
       "<p>292 rows × 8 columns</p>\n",
       "</div>"
      ],
      "text/plain": [
       "               Order Id        Company Id        Company Name       Date  \\\n",
       "25612  3BJY12LWBN7D0GJL  CE4544HJOFMONMH2  Follow-Up Boundary 2014-09-04   \n",
       "25613  W3HHOSC1H6A1PW37  CE4544HJOFMONMH2  Follow-Up Boundary 2015-09-24   \n",
       "25614  G9JKIZO4WD945GBH  CE4544HJOFMONMH2  Follow-Up Boundary 2014-12-06   \n",
       "25615  BKIJVKZ7REVN6P8B  CE4544HJOFMONMH2  Follow-Up Boundary 2017-05-07   \n",
       "25616  WFHGWR4PAD04A2GJ  CE4544HJOFMONMH2  Follow-Up Boundary 2016-01-20   \n",
       "...                 ...               ...                 ...        ...   \n",
       "25899  NATK7K3TZUH32BBE  CGDGXAW6GNU6JIEG      Fiftieth Art'S 2015-01-27   \n",
       "25900  EGD6IRB0UML62XB0  CGDGXAW6GNU6JIEG      Fiftieth Art'S 2018-11-04   \n",
       "25901  9Z18A7D1T8EUH58D  CGDGXAW6GNU6JIEG      Fiftieth Art'S 2016-05-08   \n",
       "25902  R0LUW64V2F3O2HSD  CGDGXAW6GNU6JIEG      Fiftieth Art'S 2017-02-16   \n",
       "25903  UMHMBM5M179IHX6D  CGDGXAW6GNU6JIEG      Fiftieth Art'S 2017-07-28   \n",
       "\n",
       "        Val  Sale          Sales Rep      Sales Rep Id  \n",
       "25612  1940     0  Aaron Hendrickson  AEMLQ09IYM72ACBL  \n",
       "25613  2109     0  Aaron Hendrickson  AEMLQ09IYM72ACBL  \n",
       "25614  4300     1  Aaron Hendrickson  AEMLQ09IYM72ACBL  \n",
       "25615  3026     0  Aaron Hendrickson  AEMLQ09IYM72ACBL  \n",
       "25616  5033     0  Aaron Hendrickson  AEMLQ09IYM72ACBL  \n",
       "...     ...   ...                ...               ...  \n",
       "25899  6095     1  Aaron Hendrickson  AEMLQ09IYM72ACBL  \n",
       "25900  7652     1  Aaron Hendrickson  AEMLQ09IYM72ACBL  \n",
       "25901  4746     0  Aaron Hendrickson  AEMLQ09IYM72ACBL  \n",
       "25902  6158     0  Aaron Hendrickson  AEMLQ09IYM72ACBL  \n",
       "25903  2164     0  Aaron Hendrickson  AEMLQ09IYM72ACBL  \n",
       "\n",
       "[292 rows x 8 columns]"
      ]
     },
     "execution_count": 32,
     "metadata": {},
     "output_type": "execute_result"
    }
   ],
   "source": [
    "aa.get_group('Aaron')"
   ]
  },
  {
   "cell_type": "code",
   "execution_count": 33,
   "id": "6d0defee",
   "metadata": {},
   "outputs": [],
   "source": [
    "# aa=df['Sales Rep'][df['Sales Rep'].apply(lambda x:'Ida Woodward' in x)]\n",
    "# xx=df.groupby(aa)\n",
    "# display(xx)"
   ]
  },
  {
   "cell_type": "code",
   "execution_count": 34,
   "id": "411f0e21",
   "metadata": {},
   "outputs": [
    {
     "data": {
      "text/plain": [
       "<pandas.core.groupby.generic.DataFrameGroupBy object at 0x0000021E97073610>"
      ]
     },
     "metadata": {},
     "output_type": "display_data"
    }
   ],
   "source": [
    "# a=df['Sales Rep'].apply(lambda x:'Ida Woodward' in x)\n",
    "# display(a)\n",
    "# xx=df.groupby(a)\n",
    "# xx=df.groupby(df['Sales Rep'].apply(lambda x:'Ida Woodward' in x)).size()\n",
    "xx=df.groupby(df['Sales Rep'].apply(lambda x:'Ida Woodward' in x))\n",
    "display(xx)"
   ]
  },
  {
   "cell_type": "code",
   "execution_count": 35,
   "id": "d22948f7",
   "metadata": {},
   "outputs": [
    {
     "data": {
      "text/plain": [
       "{False: [0, 1, 2, 3, 4, 5, 6, 7, 8, 9, 10, 11, 12, 13, 14, 15, 16, 17, 18, 19, 20, 21, 22, 23, 24, 25, 26, 27, 28, 29, 30, 31, 32, 33, 34, 35, 36, 37, 38, 39, 40, 41, 42, 43, 44, 45, 46, 47, 48, 49, 50, 51, 52, 53, 54, 55, 56, 57, 58, 59, 60, 61, 62, 63, 64, 65, 66, 67, 68, 69, 70, 71, 72, 73, 74, 75, 76, 77, 78, 79, 80, 81, 82, 83, 84, 85, 86, 87, 88, 89, 90, 91, 92, 93, 94, 95, 96, 97, 98, 99, ...], True: [99877, 99878, 99879, 99880, 99881, 99882, 99883, 99884, 99885, 99886, 99887, 99888, 99889, 99890, 99891, 99892, 99893, 99894, 99895, 99896, 99897, 99898, 99899, 99900, 99901, 99902, 99903, 99904, 99905, 99906, 99907, 99908, 99909, 99910, 99911, 99912, 99913, 99914, 99915, 99916, 99917, 99918, 99919, 99920, 99921, 99922, 99923, 99924, 99925, 99926, 99927, 99928, 99929, 99930, 99931, 99932, 99933, 99934, 99935, 99936, 99937, 99938, 99939, 99940, 99941, 99942, 99943, 99944, 99945, 99946, 99947, 99948, 99949, 99950, 99951, 99952, 99953, 99954, 99955, 99956, 99957, 99958, 99959, 99960, 99961, 99962, 99963, 99964, 99965, 99966, 99967, 99968, 99969, 99970, 99971, 99972, 99973, 99974, 99975, 99976, ...]}"
      ]
     },
     "execution_count": 35,
     "metadata": {},
     "output_type": "execute_result"
    }
   ],
   "source": [
    "xx.groups"
   ]
  },
  {
   "cell_type": "code",
   "execution_count": 36,
   "id": "ccf2c304",
   "metadata": {},
   "outputs": [
    {
     "data": {
      "text/html": [
       "<div>\n",
       "<style scoped>\n",
       "    .dataframe tbody tr th:only-of-type {\n",
       "        vertical-align: middle;\n",
       "    }\n",
       "\n",
       "    .dataframe tbody tr th {\n",
       "        vertical-align: top;\n",
       "    }\n",
       "\n",
       "    .dataframe thead th {\n",
       "        text-align: right;\n",
       "    }\n",
       "</style>\n",
       "<table border=\"1\" class=\"dataframe\">\n",
       "  <thead>\n",
       "    <tr style=\"text-align: right;\">\n",
       "      <th></th>\n",
       "      <th>Order Id</th>\n",
       "      <th>Company Id</th>\n",
       "      <th>Company Name</th>\n",
       "      <th>Date</th>\n",
       "      <th>Val</th>\n",
       "      <th>Sale</th>\n",
       "      <th>Sales Rep</th>\n",
       "      <th>Sales Rep Id</th>\n",
       "    </tr>\n",
       "  </thead>\n",
       "  <tbody>\n",
       "    <tr>\n",
       "      <th>99877</th>\n",
       "      <td>KEKW1YZ35ZY8A14T</td>\n",
       "      <td>TDBGMS6EESGKM43I</td>\n",
       "      <td>Diabetic Red'S</td>\n",
       "      <td>2014-11-25</td>\n",
       "      <td>8678</td>\n",
       "      <td>1</td>\n",
       "      <td>Ida Woodward</td>\n",
       "      <td>LF3CPWWZKSNB1AXI</td>\n",
       "    </tr>\n",
       "    <tr>\n",
       "      <th>99878</th>\n",
       "      <td>MVG2ASG8Z6CKQQT4</td>\n",
       "      <td>TDBGMS6EESGKM43I</td>\n",
       "      <td>Diabetic Red'S</td>\n",
       "      <td>2017-11-20</td>\n",
       "      <td>7952</td>\n",
       "      <td>0</td>\n",
       "      <td>Ida Woodward</td>\n",
       "      <td>LF3CPWWZKSNB1AXI</td>\n",
       "    </tr>\n",
       "    <tr>\n",
       "      <th>99879</th>\n",
       "      <td>YGUFDMCSJN8L8PFE</td>\n",
       "      <td>TDBGMS6EESGKM43I</td>\n",
       "      <td>Diabetic Red'S</td>\n",
       "      <td>2015-03-29</td>\n",
       "      <td>3045</td>\n",
       "      <td>0</td>\n",
       "      <td>Ida Woodward</td>\n",
       "      <td>LF3CPWWZKSNB1AXI</td>\n",
       "    </tr>\n",
       "    <tr>\n",
       "      <th>99880</th>\n",
       "      <td>LHBE9SQKXAKDKFF4</td>\n",
       "      <td>TDBGMS6EESGKM43I</td>\n",
       "      <td>Diabetic Red'S</td>\n",
       "      <td>2016-06-11</td>\n",
       "      <td>4457</td>\n",
       "      <td>0</td>\n",
       "      <td>Ida Woodward</td>\n",
       "      <td>LF3CPWWZKSNB1AXI</td>\n",
       "    </tr>\n",
       "    <tr>\n",
       "      <th>99881</th>\n",
       "      <td>ST8TMPU9NBSZONLA</td>\n",
       "      <td>TDBGMS6EESGKM43I</td>\n",
       "      <td>Diabetic Red'S</td>\n",
       "      <td>2015-01-23</td>\n",
       "      <td>7216</td>\n",
       "      <td>0</td>\n",
       "      <td>Ida Woodward</td>\n",
       "      <td>LF3CPWWZKSNB1AXI</td>\n",
       "    </tr>\n",
       "    <tr>\n",
       "      <th>...</th>\n",
       "      <td>...</td>\n",
       "      <td>...</td>\n",
       "      <td>...</td>\n",
       "      <td>...</td>\n",
       "      <td>...</td>\n",
       "      <td>...</td>\n",
       "      <td>...</td>\n",
       "      <td>...</td>\n",
       "    </tr>\n",
       "    <tr>\n",
       "      <th>99995</th>\n",
       "      <td>HKZFX556ZQRZJZWR</td>\n",
       "      <td>APH243SK72T90MPS</td>\n",
       "      <td>Trade-Preparatory Quarterbacks</td>\n",
       "      <td>2017-11-06</td>\n",
       "      <td>7516</td>\n",
       "      <td>0</td>\n",
       "      <td>Ida Woodward</td>\n",
       "      <td>LF3CPWWZKSNB1AXI</td>\n",
       "    </tr>\n",
       "    <tr>\n",
       "      <th>99996</th>\n",
       "      <td>962CSDMAJ49E0CRK</td>\n",
       "      <td>APH243SK72T90MPS</td>\n",
       "      <td>Trade-Preparatory Quarterbacks</td>\n",
       "      <td>2018-08-02</td>\n",
       "      <td>442</td>\n",
       "      <td>1</td>\n",
       "      <td>Ida Woodward</td>\n",
       "      <td>LF3CPWWZKSNB1AXI</td>\n",
       "    </tr>\n",
       "    <tr>\n",
       "      <th>99997</th>\n",
       "      <td>ZW7RO9TLL6EVVJEC</td>\n",
       "      <td>APH243SK72T90MPS</td>\n",
       "      <td>Trade-Preparatory Quarterbacks</td>\n",
       "      <td>2014-11-02</td>\n",
       "      <td>8544</td>\n",
       "      <td>0</td>\n",
       "      <td>Ida Woodward</td>\n",
       "      <td>LF3CPWWZKSNB1AXI</td>\n",
       "    </tr>\n",
       "    <tr>\n",
       "      <th>99998</th>\n",
       "      <td>LNKGIWMZ9RT49IE9</td>\n",
       "      <td>APH243SK72T90MPS</td>\n",
       "      <td>Trade-Preparatory Quarterbacks</td>\n",
       "      <td>2017-04-01</td>\n",
       "      <td>6650</td>\n",
       "      <td>0</td>\n",
       "      <td>Ida Woodward</td>\n",
       "      <td>LF3CPWWZKSNB1AXI</td>\n",
       "    </tr>\n",
       "    <tr>\n",
       "      <th>99999</th>\n",
       "      <td>X9Y21H4JWX6OGC2Z</td>\n",
       "      <td>APH243SK72T90MPS</td>\n",
       "      <td>Trade-Preparatory Quarterbacks</td>\n",
       "      <td>2016-07-27</td>\n",
       "      <td>953</td>\n",
       "      <td>0</td>\n",
       "      <td>Ida Woodward</td>\n",
       "      <td>LF3CPWWZKSNB1AXI</td>\n",
       "    </tr>\n",
       "  </tbody>\n",
       "</table>\n",
       "<p>123 rows × 8 columns</p>\n",
       "</div>"
      ],
      "text/plain": [
       "               Order Id        Company Id                    Company Name  \\\n",
       "99877  KEKW1YZ35ZY8A14T  TDBGMS6EESGKM43I                  Diabetic Red'S   \n",
       "99878  MVG2ASG8Z6CKQQT4  TDBGMS6EESGKM43I                  Diabetic Red'S   \n",
       "99879  YGUFDMCSJN8L8PFE  TDBGMS6EESGKM43I                  Diabetic Red'S   \n",
       "99880  LHBE9SQKXAKDKFF4  TDBGMS6EESGKM43I                  Diabetic Red'S   \n",
       "99881  ST8TMPU9NBSZONLA  TDBGMS6EESGKM43I                  Diabetic Red'S   \n",
       "...                 ...               ...                             ...   \n",
       "99995  HKZFX556ZQRZJZWR  APH243SK72T90MPS  Trade-Preparatory Quarterbacks   \n",
       "99996  962CSDMAJ49E0CRK  APH243SK72T90MPS  Trade-Preparatory Quarterbacks   \n",
       "99997  ZW7RO9TLL6EVVJEC  APH243SK72T90MPS  Trade-Preparatory Quarterbacks   \n",
       "99998  LNKGIWMZ9RT49IE9  APH243SK72T90MPS  Trade-Preparatory Quarterbacks   \n",
       "99999  X9Y21H4JWX6OGC2Z  APH243SK72T90MPS  Trade-Preparatory Quarterbacks   \n",
       "\n",
       "            Date   Val  Sale     Sales Rep      Sales Rep Id  \n",
       "99877 2014-11-25  8678     1  Ida Woodward  LF3CPWWZKSNB1AXI  \n",
       "99878 2017-11-20  7952     0  Ida Woodward  LF3CPWWZKSNB1AXI  \n",
       "99879 2015-03-29  3045     0  Ida Woodward  LF3CPWWZKSNB1AXI  \n",
       "99880 2016-06-11  4457     0  Ida Woodward  LF3CPWWZKSNB1AXI  \n",
       "99881 2015-01-23  7216     0  Ida Woodward  LF3CPWWZKSNB1AXI  \n",
       "...          ...   ...   ...           ...               ...  \n",
       "99995 2017-11-06  7516     0  Ida Woodward  LF3CPWWZKSNB1AXI  \n",
       "99996 2018-08-02   442     1  Ida Woodward  LF3CPWWZKSNB1AXI  \n",
       "99997 2014-11-02  8544     0  Ida Woodward  LF3CPWWZKSNB1AXI  \n",
       "99998 2017-04-01  6650     0  Ida Woodward  LF3CPWWZKSNB1AXI  \n",
       "99999 2016-07-27   953     0  Ida Woodward  LF3CPWWZKSNB1AXI  \n",
       "\n",
       "[123 rows x 8 columns]"
      ]
     },
     "execution_count": 36,
     "metadata": {},
     "output_type": "execute_result"
    }
   ],
   "source": [
    "xx.get_group(True)"
   ]
  },
  {
   "cell_type": "markdown",
   "id": "bd58aa96",
   "metadata": {},
   "source": [
    "Grouper"
   ]
  },
  {
   "cell_type": "code",
   "execution_count": 37,
   "id": "ed46a7b2",
   "metadata": {},
   "outputs": [
    {
     "data": {
      "text/plain": [
       "<pandas.core.groupby.generic.DataFrameGroupBy object at 0x0000021E97073B80>"
      ]
     },
     "metadata": {},
     "output_type": "display_data"
    }
   ],
   "source": [
    "grouperxx=df.groupby(pd.Grouper(key='Date',freq='Y'))\n",
    "display(grouperxx)"
   ]
  },
  {
   "cell_type": "code",
   "execution_count": 38,
   "id": "891439e9",
   "metadata": {},
   "outputs": [
    {
     "data": {
      "text/plain": [
       "{Timestamp('2014-12-31 00:00:00', freq='A-DEC'): 19956,\n",
       " Timestamp('2015-12-31 00:00:00', freq='A-DEC'): 40010,\n",
       " Timestamp('2016-12-31 00:00:00', freq='A-DEC'): 60143,\n",
       " Timestamp('2017-12-31 00:00:00', freq='A-DEC'): 80222,\n",
       " Timestamp('2018-12-31 00:00:00', freq='A-DEC'): 100000}"
      ]
     },
     "execution_count": 38,
     "metadata": {},
     "output_type": "execute_result"
    }
   ],
   "source": [
    "grouperxx.groups"
   ]
  },
  {
   "cell_type": "code",
   "execution_count": 39,
   "id": "2998b79b",
   "metadata": {},
   "outputs": [
    {
     "data": {
      "text/plain": [
       "<pandas.core.groupby.generic.DataFrameGroupBy object at 0x0000021E97013AC0>"
      ]
     },
     "metadata": {},
     "output_type": "display_data"
    }
   ],
   "source": [
    "bb=df.groupby(['Company Name','Company Id'])\n",
    "display(bb)"
   ]
  },
  {
   "cell_type": "code",
   "execution_count": 40,
   "id": "b3afa4d7",
   "metadata": {},
   "outputs": [
    {
     "data": {
      "text/plain": [
       "{(''Nough Demolition', '3640BAPWRTQIXF3R'): [17923, 17924, 17925, 17926, 17927, 17928, 17929, 17930, 17931, 17932, 17933, 17934, 17935, 17936, 17937, 17938, 17939, 17940, 17941, 17942, 17943, 17944, 17945, 17946, 17947, 17948, 17949, 17950, 17951, 17952, 17953], ('1/50Th Stipulation', 'Q0PXOGEN1DBVW2Q7'): [68931, 68932, 68933, 68934, 68935, 68936, 68937, 68938, 68939, 68940, 68941, 68942, 68943, 68944, 68945, 68946, 68947, 68948, 68949], ('10-Hour Bestseller', 'GYZ4374XKSVCTJ3T'): [70112, 70113, 70114, 70115, 70116, 70117, 70118, 70119, 70120, 70121, 70122, 70123, 70124, 70125, 70126, 70127, 70128, 70129, 70130, 70131, 70132, 70133, 70134, 70135, 70136, 70137, 70138], ('10-Team Formats', 'DSN6E794SPKNF8R1'): [88450, 88451, 88452, 88453, 88454, 88455, 88456, 88457, 88458, 88459, 88460, 88461, 88462, 88463, 88464, 88465], ('10-Year Presentation', 'CNT5Q5DFHG84M27G'): [96351, 96352, 96353, 96354, 96355, 96356, 96357, 96358, 96359, 96360, 96361, 96362, 96363, 96364, 96365, 96366, 96367, 96368], ('100-Million-Lb. Cranes', '7FJWMCATNC54Z0WP'): [90344, 90345, 90346, 90347, 90348, 90349, 90350, 90351, 90352, 90353, 90354, 90355, 90356, 90357, 90358], ('100-Ton Rainier', 'NIIWR7AP986BMTFK'): [85970, 85971, 85972, 85973, 85974, 85975, 85976, 85977, 85978, 85979, 85980, 85981, 85982, 85983, 85984, 85985, 85986, 85987, 85988, 85989, 85990, 85991, 85992, 85993, 85994], ('11-Inch Brushing', '6T6JQ1D0WYAKHZ5Y'): [56750, 56751, 56752, 56753, 56754, 56755, 56756, 56757, 56758, 56759, 56760, 56761, 56762, 56763, 56764, 56765, 56766, 56767, 56768, 56769, 56770, 56771, 56772, 56773, 56774], ('11-Shot Compulsivity', '2EVMPYUSHEB6IV8C'): [55299, 55300, 55301, 55302, 55303, 55304, 55305, 55306, 55307, 55308, 55309, 55310, 55311, 55312, 55313, 55314, 55315, 55316, 55317, 55318, 55319, 55320, 55321, 55322], ('11-Year-Old Aeration', 'P00WF6LB18SRTW5Q'): [85352, 85353, 85354, 85355, 85356, 85357, 85358, 85359, 85360, 85361, 85362, 85363, 85364, 85365, 85366, 85367, 85368, 85369, 85370, 85371, 85372, 85373], ('11-Year-Old Squires', 'F7Q7I30CCBNMW4H1'): [82084, 82085, 82086, 82087, 82088, 82089, 82090, 82091, 82092, 82093, 82094, 82095, 82096, 82097, 82098, 82099, 82100, 82101, 82102, 82103, 82104, 82105], ('12-Inch Diarrhoea', 'E8IO2GO3NR1FMBB6'): [6286, 6287, 6288, 6289, 6290, 6291, 6292, 6293, 6294, 6295, 6296, 6297, 6298, 6299, 6300, 6301, 6302, 6303, 6304, 6305, 6306, 6307], ('12-Inch Joplin', 'I332B0NQRX0ZLTM4'): [19068, 19069, 19070, 19071, 19072, 19073, 19074, 19075, 19076, 19077, 19078, 19079, 19080, 19081, 19082, 19083, 19084, 19085, 19086, 19087, 19088, 19089], ('12-Month Old-Grad-Type', 'Y6FPHCUC1GM6GP0V'): [35548, 35549, 35550, 35551, 35552, 35553, 35554, 35555, 35556, 35557, 35558, 35559, 35560, 35561, 35562, 35563, 35564, 35565, 35566, 35567], ('12-Month Originals', 'L629P4DL9E15WQF6'): [91517, 91518, 91519, 91520, 91521, 91522, 91523, 91524, 91525, 91526, 91527, 91528, 91529, 91530, 91531, 91532, 91533, 91534], ('12-Oz. Vulturidae', 'NID9GJT5Z4N8Q1RM'): [40149, 40150, 40151, 40152, 40153, 40154, 40155, 40156, 40157, 40158, 40159, 40160, 40161, 40162, 40163, 40164, 40165, 40166, 40167, 40168, 40169, 40170, 40171, 40172, 40173, 40174], ('12-Shot Fatalities', '3ROCB59TZW19ALR5'): [65792, 65793, 65794, 65795, 65796, 65797, 65798, 65799, 65800, 65801, 65802, 65803, 65804, 65805, 65806, 65807, 65808, 65809, 65810, 65811, 65812, 65813, 65814], ('1200-Square-Foot Artisans', 'T4YVESAGGUFJ3UHT'): [33909, 33910, 33911, 33912, 33913, 33914, 33915, 33916, 33917, 33918, 33919, 33920, 33921, 33922, 33923, 33924, 33925, 33926, 33927, 33928, 33929, 33930, 33931, 33932, 33933], ('1200-Square-Foot Childishness', 'I2G39UHG9M3S2H0K'): [50191, 50192, 50193, 50194, 50195, 50196, 50197, 50198, 50199, 50200, 50201, 50202, 50203, 50204, 50205, 50206, 50207, 50208, 50209], ('1200-Square-Foot Hem', '3S15XEDW8GLFA4EC'): [29641, 29642, 29643, 29644, 29645, 29646, 29647, 29648, 29649, 29650, 29651, 29652, 29653, 29654, 29655, 29656, 29657, 29658, 29659, 29660, 29661, 29662, 29663, 29664, 29665], ('13/16-Inch Forests', 'N12T6AQ2DAXV8V58'): [43743, 43744, 43745, 43746, 43747, 43748, 43749, 43750, 43751, 43752, 43753, 43754, 43755, 43756, 43757, 43758, 43759, 43760, 43761], ('13/16-Inch Technicalities', 'CGZAVAGDZ99W91VM'): [66174, 66175, 66176, 66177, 66178, 66179, 66180, 66181, 66182, 66183, 66184, 66185, 66186, 66187, 66188, 66189, 66190, 66191, 66192], ('139-Foot Battlements', 'JV5VN3Z9K05STGA3'): [9972, 9973, 9974, 9975, 9976, 9977, 9978, 9979, 9980, 9981, 9982, 9983, 9984, 9985, 9986, 9987, 9988, 9989, 9990], ('15-Degree Wissahickon', 'GZJ6P1H6CJGU8M1P'): [6961, 6962, 6963, 6964, 6965, 6966, 6967, 6968, 6969, 6970, 6971, 6972, 6973, 6974, 6975, 6976, 6977, 6978, 6979, 6980, 6981, 6982], ('15-To-One Aces', 'J137U0ET3GO7UG5G'): [98815, 98816, 98817, 98818, 98819, 98820, 98821, 98822, 98823, 98824, 98825, 98826, 98827, 98828, 98829, 98830, 98831, 98832, 98833, 98834, 98835, 98836, 98837], ('150-Milliampere Highwayman', 'YAEWX5BON6PD96LH'): [52306, 52307, 52308, 52309, 52310, 52311, 52312, 52313, 52314, 52315, 52316, 52317, 52318, 52319, 52320, 52321, 52322, 52323, 52324, 52325, 52326, 52327, 52328, 52329, 52330, 52331], ('150-Milliampere Peal', 'HK9WOVDU9PJSBM03'): [50491, 50492, 50493, 50494, 50495, 50496, 50497, 50498, 50499, 50500, 50501, 50502, 50503, 50504, 50505, 50506, 50507, 50508, 50509, 50510, 50511, 50512, 50513, 50514], ('150-Milliampere Vice', '5S725KTL2FD9O48S'): [83177, 83178, 83179, 83180, 83181, 83182, 83183, 83184, 83185, 83186, 83187, 83188, 83189, 83190, 83191, 83192, 83193, 83194, 83195, 83196, 83197, 83198, 83199, 83200, 83201, 83202, 83203], ('16-Hour Networks'', 'Q9WOZURHSJVLIXPH'): [30058, 30059, 30060, 30061, 30062, 30063, 30064, 30065, 30066, 30067, 30068, 30069, 30070, 30071, 30072, 30073, 30074, 30075, 30076, 30077, 30078, 30079, 30080, 30081, 30082, 30083, 30084], ('165-Unit Hindus', 'S81I5Q4812JF1Q3M'): [50880, 50881, 50882, 50883, 50884, 50885, 50886, 50887, 50888, 50889, 50890, 50891, 50892, 50893, 50894], ('16Th Want', 'LSYSS8DR8QVBXRYP'): [34579, 34580, 34581, 34582, 34583, 34584, 34585, 34586, 34587, 34588, 34589, 34590, 34591, 34592, 34593], ('17-1/2-Inch Capitalists', '3HJXXR6ZRO5DTWRR'): [7091, 7092, 7093, 7094, 7095, 7096, 7097, 7098, 7099, 7100, 7101, 7102, 7103, 7104, 7105, 7106, 7107, 7108, 7109, 7110, 7111, 7112, 7113], ('17-1/2-Inch Sandburg'S', 'HW4IIGEZ2UITQMT5'): [61187, 61188, 61189, 61190, 61191, 61192, 61193, 61194, 61195, 61196, 61197, 61198, 61199, 61200, 61201, 61202, 61203, 61204, 61205, 61206, 61207, 61208, 61209, 61210, 61211, 61212, 61213, 61214, 61215, 61216], ('172Nd Face-Lifting', 'VOMG3I04YU34YZEE'): [49805, 49806, 49807, 49808, 49809, 49810, 49811, 49812, 49813, 49814, 49815, 49816, 49817, 49818, 49819, 49820, 49821, 49822, 49823, 49824, 49825, 49826, 49827, 49828, 49829, 49830, 49831], ('18-1/2-Inch Dukes', '6TGR8JJO1FC8E013'): [19728, 19729, 19730, 19731, 19732, 19733, 19734, 19735, 19736, 19737, 19738, 19739, 19740, 19741, 19742, 19743, 19744], ('1800-Square-Foot Subsoil', '769ZVTG0GXLLSBXF'): [19523, 19524, 19525, 19526, 19527, 19528, 19529, 19530, 19531, 19532, 19533, 19534, 19535, 19536, 19537, 19538, 19539], ('185Th Passer-By', 'SDZZ2P1XEWL290ZF'): [54996, 54997, 54998, 54999, 55000, 55001, 55002, 55003, 55004, 55005, 55006, 55007, 55008, 55009, 55010, 55011, 55012, 55013, 55014], ('18Th Habits', '7Y0KLFO3M2SZD8FW'): [70855, 70856, 70857, 70858, 70859, 70860, 70861, 70862, 70863, 70864, 70865, 70866, 70867, 70868, 70869, 70870, 70871, 70872, 70873], ('18Th Sexton', '8L5MNV9E7QOBFFFY'): [52657, 52658, 52659, 52660, 52661, 52662, 52663, 52664, 52665, 52666, 52667, 52668, 52669, 52670, 52671, 52672, 52673, 52674, 52675], ('19-Foot Carwood'S', 'PQ63Q8IYOGKLD3RX'): [69109, 69110, 69111, 69112, 69113, 69114, 69115, 69116, 69117, 69118, 69119, 69120, 69121, 69122, 69123, 69124, 69125, 69126, 69127], ('19-Foot Harness', 'NX4AG2RZP87WYAY4'): [43831, 43832, 43833, 43834, 43835, 43836, 43837, 43838, 43839, 43840, 43841, 43842, 43843, 43844, 43845, 43846, 43847, 43848, 43849, 43850, 43851, 43852, 43853], ('195-Page Miriani'S', 'Q6046DTQP34SMEGJ'): [9385, 9386, 9387, 9388, 9389, 9390, 9391, 9392, 9393, 9394, 9395, 9396, 9397, 9398, 9399, 9400, 9401, 9402], ('2-Hour-And-27-Minute Armpit', 'V0SG47KG1CAQ0BT5'): [7114, 7115, 7116, 7117, 7118, 7119, 7120, 7121, 7122, 7123, 7124, 7125, 7126, 7127, 7128, 7129, 7130, 7131, 7132, 7133, 7134, 7135, 7136, 7137, 7138, 7139, 7140], ('2-Over-Par Ardor', 'CDZANQZQNHXK4Q2K'): [81404, 81405, 81406, 81407, 81408, 81409, 81410, 81411, 81412, 81413, 81414, 81415, 81416, 81417, 81418, 81419, 81420, 81421, 81422, 81423, 81424, 81425, 81426, 81427, 81428, 81429], ('2-Over-Par Someplace', 'BJABGEBDDN5AT9T9'): [60240, 60241, 60242, 60243, 60244, 60245, 60246, 60247, 60248, 60249, 60250, 60251, 60252, 60253, 60254, 60255, 60256, 60257, 60258, 60259, 60260, 60261, 60262, 60263], ('2-Score-Year Brewers', '02AO8LNGPSMR4FP4'): [60661, 60662, 60663, 60664, 60665, 60666, 60667, 60668, 60669, 60670, 60671, 60672, 60673, 60674, 60675, 60676, 60677, 60678], ('20-Year-Old Lawman'S', 'FR6XOD5E2HJIKT1O'): [84812, 84813, 84814, 84815, 84816, 84817, 84818, 84819, 84820, 84821, 84822, 84823, 84824, 84825, 84826, 84827, 84828, 84829], ('200-Megaton Institution', 'NX0BWU465F85X514'): [8474, 8475, 8476, 8477, 8478, 8479, 8480, 8481, 8482, 8483, 8484, 8485, 8486, 8487, 8488, 8489, 8490, 8491, 8492], ('205-Pound Woodrow', 'L2DRLDIQXLIC1CK9'): [86115, 86116, 86117, 86118, 86119, 86120, 86121, 86122, 86123, 86124, 86125, 86126, 86127, 86128, 86129, 86130, 86131, 86132, 86133, 86134, 86135, 86136, 86137], ('22-Year-Old Homecomings', '3ZZQIJYZCWOA9FM4'): [18409, 18410, 18411, 18412, 18413, 18414, 18415, 18416, 18417, 18418, 18419, 18420, 18421, 18422, 18423, 18424, 18425, 18426, 18427, 18428, 18429, 18430, 18431, 18432, 18433], ('22-Year-Old Utmost', 'IT5Q9EOC80W10Z9Y'): [17651, 17652, 17653, 17654, 17655, 17656, 17657, 17658, 17659, 17660, 17661, 17662, 17663, 17664, 17665, 17666, 17667, 17668, 17669, 17670, 17671, 17672, 17673, 17674, 17675, 17676, 17677, 17678, 17679, 17680, 17681, 17682, 17683, 17684, 17685], ('23-Year-Old Swiftness', 'YGHWC9ASFUS5ZXC4'): [89468, 89469, 89470, 89471, 89472, 89473, 89474, 89475, 89476, 89477, 89478, 89479, 89480, 89481, 89482, 89483, 89484, 89485, 89486, 89487, 89488, 89489], ('24-Hour Fatigue', '8XHJJCX3HBX99J9D'): [31229, 31230, 31231, 31232, 31233, 31234, 31235, 31236, 31237, 31238, 31239, 31240, 31241, 31242, 31243, 31244, 31245, 31246, 31247, 31248], ('24-Hour Pyrometers', '4F7D7THP3WI0G1O0'): [89826, 89827, 89828, 89829, 89830, 89831, 89832, 89833, 89834, 89835, 89836, 89837, 89838, 89839, 89840, 89841, 89842, 89843, 89844, 89845, 89846, 89847, 89848, 89849, 89850, 89851, 89852, 89853, 89854], ('24-Inch Knobs', 'DI9HULE3VWZLB2FC'): [10317, 10318, 10319, 10320, 10321, 10322, 10323, 10324, 10325, 10326, 10327, 10328, 10329, 10330, 10331, 10332], ('240-Grain Eugenia', 'N5GW4IIR67F9ZP2W'): [24432, 24433, 24434, 24435, 24436, 24437, 24438, 24439, 24440, 24441, 24442, 24443, 24444, 24445, 24446, 24447, 24448], ('240-Grain Felt', '68PVTF1X8E4D0WM6'): [80159, 80160, 80161, 80162, 80163, 80164, 80165, 80166, 80167, 80168, 80169, 80170, 80171, 80172, 80173, 80174, 80175, 80176, 80177, 80178, 80179, 80180, 80181, 80182], ('25,000-Man Insertions', '62TBVFCJLXNQCT8R'): [36999, 37000, 37001, 37002, 37003, 37004, 37005, 37006, 37007, 37008, 37009, 37010, 37011, 37012, 37013, 37014, 37015, 37016, 37017, 37018, 37019, 37020], ('25,000-Man Newspapers', '2YGSU6PPYQ8XDH2I'): [58077, 58078, 58079, 58080, 58081, 58082, 58083, 58084, 58085, 58086, 58087, 58088, 58089, 58090, 58091, 58092, 58093, 58094, 58095, 58096, 58097, 58098, 58099, 58100, 58101, 58102, 58103, 58104, 58105], ('25-Foot Belaboring', '89QUHJXH44IMC2X8'): [79925, 79926, 79927, 79928, 79929, 79930, 79931, 79932, 79933, 79934, 79935, 79936, 79937, 79938, 79939, 79940, 79941, 79942, 79943, 79944, 79945, 79946, 79947], ('25-Ft. Germany', 'MH8YONWKJBA7YG71'): [84496, 84497, 84498, 84499, 84500, 84501, 84502, 84503, 84504, 84505, 84506, 84507, 84508, 84509, 84510, 84511, 84512, 84513, 84514, 84515, 84516, 84517, 84518, 84519, 84520], ('25-Liter Almanac', 'OXFSXX5P2AKF0OE1'): [11834, 11835, 11836, 11837, 11838, 11839, 11840, 11841, 11842, 11843, 11844, 11845, 11846, 11847, 11848, 11849, 11850, 11851], ('25-Minute Ignition', 'CMMETDM2N3QTBUIM'): [78992, 78993, 78994, 78995, 78996, 78997, 78998, 78999, 79000, 79001, 79002, 79003, 79004, 79005, 79006, 79007, 79008, 79009, 79010, 79011, 79012, 79013, 79014], ('25-Year-Old Cairns', 'Y3U56LXK0533AFJT'): [82447, 82448, 82449, 82450, 82451, 82452, 82453, 82454, 82455, 82456, 82457, 82458, 82459, 82460, 82461, 82462, 82463, 82464, 82465, 82466, 82467, 82468, 82469, 82470], ('27Th Subjects', '1DHIEWYF4YITE197'): [68738, 68739, 68740, 68741, 68742, 68743, 68744, 68745, 68746, 68747, 68748, 68749, 68750, 68751, 68752, 68753, 68754, 68755, 68756, 68757, 68758, 68759, 68760, 68761, 68762, 68763, 68764, 68765, 68766], ('28Th Assessor', 'ULAOZ0AWOWKFLBLV'): [44115, 44116, 44117, 44118, 44119, 44120, 44121, 44122, 44123, 44124, 44125, 44126, 44127, 44128, 44129, 44130, 44131, 44132, 44133, 44134, 44135, 44136], ('28Th Twinges', 'ML3JHX5SZG7GJY2Y'): [40795, 40796, 40797, 40798, 40799, 40800, 40801, 40802, 40803, 40804, 40805, 40806, 40807, 40808, 40809, 40810, 40811], ('29Th Feature', 'LYCGYCLWLW54BCDY'): [84177, 84178, 84179, 84180, 84181, 84182, 84183, 84184, 84185, 84186, 84187, 84188, 84189, 84190, 84191, 84192, 84193, 84194, 84195, 84196, 84197, 84198], ('29Th Impressions', 'CYIZOQNKQK0WG6DX'): [90156, 90157, 90158, 90159, 90160, 90161, 90162, 90163, 90164, 90165, 90166, 90167, 90168, 90169, 90170, 90171, 90172, 90173], ('2D Tenements', 'UL9XEHCITFQKCI5Y'): [49048, 49049, 49050, 49051, 49052, 49053, 49054, 49055, 49056, 49057, 49058, 49059, 49060, 49061, 49062, 49063, 49064, 49065, 49066, 49067, 49068, 49069, 49070], ('2Nd Lucille', '3CAB63J3M6CR5YGI'): [66061, 66062, 66063, 66064, 66065, 66066, 66067, 66068, 66069, 66070, 66071, 66072, 66073, 66074, 66075, 66076, 66077, 66078, 66079, 66080, 66081, 66082], ('3 Thickets', 'WMEDG0KI91RO5B81'): [989, 990, 991, 992, 993, 994, 995, 996, 997, 998, 999, 1000, 1001, 1002, 1003, 1004, 1005], ('3,000-Foot Tranquilizers', 'PFNAZMDL06LM13PO'): [19709, 19710, 19711, 19712, 19713, 19714, 19715, 19716, 19717, 19718, 19719, 19720, 19721, 19722, 19723, 19724, 19725, 19726, 19727], ('3,000-Foot Wert'S', 'OMXV5KM4HUXGW2DY'): [14729, 14730, 14731, 14732, 14733, 14734, 14735, 14736, 14737, 14738, 14739, 14740, 14741, 14742, 14743, 14744, 14745, 14746, 14747, 14748, 14749, 14750, 14751, 14752, 14753, 14754, 14755], ('3-Game Corn-Belt', '4PCIOWLPTCXUJ1QY'): [99519, 99520, 99521, 99522, 99523, 99524, 99525, 99526, 99527, 99528, 99529, 99530, 99531, 99532, 99533, 99534, 99535, 99536, 99537], ('3-Game Dreams', 'DG8AYW5QCN1JK1VY'): [66107, 66108, 66109, 66110, 66111, 66112, 66113, 66114, 66115, 66116, 66117, 66118, 66119, 66120, 66121, 66122, 66123, 66124, 66125, 66126], ('3-Month Chlorine', 'OWCOADAC4PLQ2J8J'): [38653, 38654, 38655, 38656, 38657, 38658, 38659, 38660, 38661, 38662, 38663, 38664, 38665, 38666, 38667, 38668, 38669, 38670, 38671, 38672, 38673, 38674, 38675, 38676, 38677, 38678, 38679, 38680], ('3-Year-Old Gannon'S', 'BB17XPTJ7JCIE3XH'): [56992, 56993, 56994, 56995, 56996, 56997, 56998, 56999, 57000, 57001, 57002, 57003, 57004, 57005, 57006, 57007, 57008, 57009, 57010, 57011, 57012], ('3-Year-Old Weeping', 'YT9MGDD7COLHP6GW'): [3961, 3962, 3963, 3964, 3965, 3966, 3967, 3968, 3969, 3970, 3971, 3972, 3973, 3974, 3975, 3976, 3977, 3978, 3979, 3980, 3981], ('30-Piece Feeds', 'ZM2M4OUF41GF1UPQ'): [67291, 67292, 67293, 67294, 67295, 67296, 67297, 67298, 67299, 67300, 67301, 67302, 67303, 67304, 67305, 67306, 67307], ('30-Year 320Tr', 'LIX3RKUA5H4UB9SE'): [61055, 61056, 61057, 61058, 61059, 61060, 61061, 61062, 61063, 61064, 61065, 61066, 61067, 61068, 61069, 61070, 61071, 61072, 61073, 61074, 61075], ('30-Year Robards'', 'MWZ2JQCYY4UDEVE5'): [1257, 1258, 1259, 1260, 1261, 1262, 1263, 1264, 1265, 1266, 1267, 1268, 1269, 1270, 1271, 1272, 1273, 1274, 1275, 1276, 1277], ('30-Year Tabit', '3P27N8FUP1HBDIP7'): [11874, 11875, 11876, 11877, 11878, 11879, 11880, 11881, 11882, 11883, 11884, 11885, 11886, 11887, 11888], ('30Th Tracts', 'FI9VUVQOP3EHV0NK'): [64692, 64693, 64694, 64695, 64696, 64697, 64698, 64699, 64700, 64701, 64702, 64703, 64704, 64705, 64706, 64707, 64708, 64709, 64710, 64711, 64712, 64713, 64714, 64715], ('33-Man Sera', '1NH5WSLWENLM1L7K'): [3062, 3063, 3064, 3065, 3066, 3067, 3068, 3069, 3070, 3071, 3072, 3073, 3074, 3075, 3076, 3077, 3078], ('33D Marcello', 'M2FZEW5VWL9JYZVB'): [80969, 80970, 80971, 80972, 80973, 80974, 80975, 80976, 80977, 80978, 80979, 80980, 80981, 80982, 80983, 80984, 80985], ('35-Foot Mullins', '73ERLMLA3D8IXK4D'): [57773, 57774, 57775, 57776, 57777, 57778, 57779, 57780, 57781, 57782, 57783, 57784, 57785, 57786, 57787, 57788, 57789, 57790, 57791, 57792, 57793, 57794], ('350Th Helium', '95TBBS1TFIDTLWSC'): [90136, 90137, 90138, 90139, 90140, 90141, 90142, 90143, 90144, 90145, 90146, 90147, 90148, 90149, 90150, 90151, 90152, 90153, 90154, 90155], ('38-Point Don', '207L45M811RDJYFR'): [95706, 95707, 95708, 95709, 95710, 95711, 95712, 95713, 95714, 95715, 95716, 95717, 95718, 95719, 95720], ('380-Foot Eddie', 'EOZUA69PYYH02TTD'): [89372, 89373, 89374, 89375, 89376, 89377, 89378, 89379, 89380, 89381, 89382, 89383, 89384, 89385, 89386, 89387, 89388, 89389, 89390, 89391, 89392, 89393, 89394, 89395, 89396, 89397], ('3Rd Filter', 'CPEROVGA05ZA58JK'): [55592, 55593, 55594, 55595, 55596, 55597, 55598, 55599, 55600, 55601, 55602, 55603, 55604], ('3Rd Showcase', '6L7RH8GS446TIIA7'): [13502, 13503, 13504, 13505, 13506, 13507, 13508, 13509, 13510, 13511, 13512, 13513, 13514, 13515, 13516, 13517, 13518, 13519, 13520, 13521, 13522, 13523, 13524, 13525, 13526, 13527, 13528, 13529, 13530], ('3Rd Slack', 'QI1XTTXT6PA3UYW5'): [33030, 33031, 33032, 33033, 33034, 33035, 33036, 33037, 33038, 33039, 33040, 33041, 33042, 33043, 33044, 33045, 33046, 33047, 33048, 33049, 33050], ('4,000-Foot Seaton'S', '8MEYHIXVUITSPPX7'): [45770, 45771, 45772, 45773, 45774, 45775, 45776, 45777, 45778, 45779, 45780, 45781, 45782, 45783, 45784], ('4-Under-Par Recommendation', 'V3DB1P61SPDO26HF'): [90332, 90333, 90334, 90335, 90336, 90337, 90338, 90339, 90340, 90341, 90342, 90343], ('4-Year-Old 1870'S', 'W5Z4L33JE34J1MUU'): [47414, 47415, 47416, 47417, 47418, 47419, 47420, 47421, 47422, 47423, 47424, 47425, 47426, 47427, 47428, 47429, 47430, 47431, 47432, 47433, 47434, 47435, 47436, 47437, 47438], ('40-Grain Crozier', 'CT0JAUNXCP2E9YTI'): [22317, 22318, 22319, 22320, 22321, 22322, 22323, 22324, 22325, 22326, 22327, 22328, 22329, 22330, 22331, 22332, 22333, 22334, 22335], ('44-Year-Old Nux', 'XI0QTPM9EH56XZ1M'): [66043, 66044, 66045, 66046, 66047, 66048, 66049, 66050, 66051, 66052, 66053, 66054, 66055, 66056, 66057, 66058, 66059, 66060], ('45-Degree Marum', 'H3OWF844J56QKOKO'): [28793, 28794, 28795, 28796, 28797, 28798, 28799, 28800, 28801, 28802, 28803, 28804, 28805, 28806], ('45-Passenger Bunkmate', 'S35AP35T7FM0K01I'): [73967, 73968, 73969, 73970, 73971, 73972, 73973, 73974, 73975, 73976, 73977, 73978, 73979, 73980, 73981, 73982, 73983, 73984, 73985], ...}"
      ]
     },
     "execution_count": 40,
     "metadata": {},
     "output_type": "execute_result"
    }
   ],
   "source": [
    "bb.groups"
   ]
  },
  {
   "cell_type": "code",
   "execution_count": 41,
   "id": "31ecfe57",
   "metadata": {},
   "outputs": [
    {
     "data": {
      "text/html": [
       "<div>\n",
       "<style scoped>\n",
       "    .dataframe tbody tr th:only-of-type {\n",
       "        vertical-align: middle;\n",
       "    }\n",
       "\n",
       "    .dataframe tbody tr th {\n",
       "        vertical-align: top;\n",
       "    }\n",
       "\n",
       "    .dataframe thead th {\n",
       "        text-align: right;\n",
       "    }\n",
       "</style>\n",
       "<table border=\"1\" class=\"dataframe\">\n",
       "  <thead>\n",
       "    <tr style=\"text-align: right;\">\n",
       "      <th></th>\n",
       "      <th>Order Id</th>\n",
       "      <th>Company Id</th>\n",
       "      <th>Company Name</th>\n",
       "      <th>Date</th>\n",
       "      <th>Val</th>\n",
       "      <th>Sale</th>\n",
       "      <th>Sales Rep</th>\n",
       "      <th>Sales Rep Id</th>\n",
       "    </tr>\n",
       "  </thead>\n",
       "  <tbody>\n",
       "    <tr>\n",
       "      <th>68931</th>\n",
       "      <td>Z8N8ZYWLTOF7HJKJ</td>\n",
       "      <td>Q0PXOGEN1DBVW2Q7</td>\n",
       "      <td>1/50Th Stipulation</td>\n",
       "      <td>2015-05-22</td>\n",
       "      <td>8992</td>\n",
       "      <td>1</td>\n",
       "      <td>Monica March</td>\n",
       "      <td>XTOQD3SVVEJ7MVCN</td>\n",
       "    </tr>\n",
       "    <tr>\n",
       "      <th>68932</th>\n",
       "      <td>PWBDGATQQ6ZLH04U</td>\n",
       "      <td>Q0PXOGEN1DBVW2Q7</td>\n",
       "      <td>1/50Th Stipulation</td>\n",
       "      <td>2014-03-19</td>\n",
       "      <td>6109</td>\n",
       "      <td>0</td>\n",
       "      <td>Monica March</td>\n",
       "      <td>XTOQD3SVVEJ7MVCN</td>\n",
       "    </tr>\n",
       "    <tr>\n",
       "      <th>68933</th>\n",
       "      <td>TRC53I36Z3TCV00G</td>\n",
       "      <td>Q0PXOGEN1DBVW2Q7</td>\n",
       "      <td>1/50Th Stipulation</td>\n",
       "      <td>2017-10-21</td>\n",
       "      <td>5771</td>\n",
       "      <td>0</td>\n",
       "      <td>Monica March</td>\n",
       "      <td>XTOQD3SVVEJ7MVCN</td>\n",
       "    </tr>\n",
       "    <tr>\n",
       "      <th>68934</th>\n",
       "      <td>L8VLGKRV7AW7ME6M</td>\n",
       "      <td>Q0PXOGEN1DBVW2Q7</td>\n",
       "      <td>1/50Th Stipulation</td>\n",
       "      <td>2018-11-13</td>\n",
       "      <td>8154</td>\n",
       "      <td>0</td>\n",
       "      <td>Monica March</td>\n",
       "      <td>XTOQD3SVVEJ7MVCN</td>\n",
       "    </tr>\n",
       "    <tr>\n",
       "      <th>68935</th>\n",
       "      <td>GVG30RPMT3K3CFNF</td>\n",
       "      <td>Q0PXOGEN1DBVW2Q7</td>\n",
       "      <td>1/50Th Stipulation</td>\n",
       "      <td>2015-03-29</td>\n",
       "      <td>7446</td>\n",
       "      <td>0</td>\n",
       "      <td>Monica March</td>\n",
       "      <td>XTOQD3SVVEJ7MVCN</td>\n",
       "    </tr>\n",
       "    <tr>\n",
       "      <th>68936</th>\n",
       "      <td>O69NM6XMFUDTPN0B</td>\n",
       "      <td>Q0PXOGEN1DBVW2Q7</td>\n",
       "      <td>1/50Th Stipulation</td>\n",
       "      <td>2015-08-01</td>\n",
       "      <td>339</td>\n",
       "      <td>0</td>\n",
       "      <td>Monica March</td>\n",
       "      <td>XTOQD3SVVEJ7MVCN</td>\n",
       "    </tr>\n",
       "    <tr>\n",
       "      <th>68937</th>\n",
       "      <td>8NSSXEVVSZ89L0P7</td>\n",
       "      <td>Q0PXOGEN1DBVW2Q7</td>\n",
       "      <td>1/50Th Stipulation</td>\n",
       "      <td>2015-04-30</td>\n",
       "      <td>4514</td>\n",
       "      <td>0</td>\n",
       "      <td>Monica March</td>\n",
       "      <td>XTOQD3SVVEJ7MVCN</td>\n",
       "    </tr>\n",
       "    <tr>\n",
       "      <th>68938</th>\n",
       "      <td>TO4GY3102AM27NAH</td>\n",
       "      <td>Q0PXOGEN1DBVW2Q7</td>\n",
       "      <td>1/50Th Stipulation</td>\n",
       "      <td>2014-04-10</td>\n",
       "      <td>1928</td>\n",
       "      <td>0</td>\n",
       "      <td>Monica March</td>\n",
       "      <td>XTOQD3SVVEJ7MVCN</td>\n",
       "    </tr>\n",
       "    <tr>\n",
       "      <th>68939</th>\n",
       "      <td>C3D6YZYG2LHKGIF9</td>\n",
       "      <td>Q0PXOGEN1DBVW2Q7</td>\n",
       "      <td>1/50Th Stipulation</td>\n",
       "      <td>2014-03-02</td>\n",
       "      <td>9875</td>\n",
       "      <td>0</td>\n",
       "      <td>Monica March</td>\n",
       "      <td>XTOQD3SVVEJ7MVCN</td>\n",
       "    </tr>\n",
       "    <tr>\n",
       "      <th>68940</th>\n",
       "      <td>R0D59K3F8I8P25PR</td>\n",
       "      <td>Q0PXOGEN1DBVW2Q7</td>\n",
       "      <td>1/50Th Stipulation</td>\n",
       "      <td>2017-03-08</td>\n",
       "      <td>5632</td>\n",
       "      <td>0</td>\n",
       "      <td>Monica March</td>\n",
       "      <td>XTOQD3SVVEJ7MVCN</td>\n",
       "    </tr>\n",
       "    <tr>\n",
       "      <th>68941</th>\n",
       "      <td>HFF94GC5TINO679A</td>\n",
       "      <td>Q0PXOGEN1DBVW2Q7</td>\n",
       "      <td>1/50Th Stipulation</td>\n",
       "      <td>2016-12-16</td>\n",
       "      <td>3899</td>\n",
       "      <td>0</td>\n",
       "      <td>Monica March</td>\n",
       "      <td>XTOQD3SVVEJ7MVCN</td>\n",
       "    </tr>\n",
       "    <tr>\n",
       "      <th>68942</th>\n",
       "      <td>OPG4T6ZW14WL2132</td>\n",
       "      <td>Q0PXOGEN1DBVW2Q7</td>\n",
       "      <td>1/50Th Stipulation</td>\n",
       "      <td>2018-05-17</td>\n",
       "      <td>3279</td>\n",
       "      <td>0</td>\n",
       "      <td>Monica March</td>\n",
       "      <td>XTOQD3SVVEJ7MVCN</td>\n",
       "    </tr>\n",
       "    <tr>\n",
       "      <th>68943</th>\n",
       "      <td>C6SCLG128MZJVVRB</td>\n",
       "      <td>Q0PXOGEN1DBVW2Q7</td>\n",
       "      <td>1/50Th Stipulation</td>\n",
       "      <td>2017-08-22</td>\n",
       "      <td>8127</td>\n",
       "      <td>0</td>\n",
       "      <td>Monica March</td>\n",
       "      <td>XTOQD3SVVEJ7MVCN</td>\n",
       "    </tr>\n",
       "    <tr>\n",
       "      <th>68944</th>\n",
       "      <td>704LXDMD5ORNUYN1</td>\n",
       "      <td>Q0PXOGEN1DBVW2Q7</td>\n",
       "      <td>1/50Th Stipulation</td>\n",
       "      <td>2016-11-30</td>\n",
       "      <td>9886</td>\n",
       "      <td>0</td>\n",
       "      <td>Monica March</td>\n",
       "      <td>XTOQD3SVVEJ7MVCN</td>\n",
       "    </tr>\n",
       "    <tr>\n",
       "      <th>68945</th>\n",
       "      <td>4TDJ20DIQWCEI4YV</td>\n",
       "      <td>Q0PXOGEN1DBVW2Q7</td>\n",
       "      <td>1/50Th Stipulation</td>\n",
       "      <td>2014-04-15</td>\n",
       "      <td>612</td>\n",
       "      <td>1</td>\n",
       "      <td>Monica March</td>\n",
       "      <td>XTOQD3SVVEJ7MVCN</td>\n",
       "    </tr>\n",
       "    <tr>\n",
       "      <th>68946</th>\n",
       "      <td>KQTALKUGLLHLKIF9</td>\n",
       "      <td>Q0PXOGEN1DBVW2Q7</td>\n",
       "      <td>1/50Th Stipulation</td>\n",
       "      <td>2014-07-18</td>\n",
       "      <td>2953</td>\n",
       "      <td>0</td>\n",
       "      <td>Monica March</td>\n",
       "      <td>XTOQD3SVVEJ7MVCN</td>\n",
       "    </tr>\n",
       "    <tr>\n",
       "      <th>68947</th>\n",
       "      <td>A8UBBR22I81116WH</td>\n",
       "      <td>Q0PXOGEN1DBVW2Q7</td>\n",
       "      <td>1/50Th Stipulation</td>\n",
       "      <td>2014-01-20</td>\n",
       "      <td>6980</td>\n",
       "      <td>0</td>\n",
       "      <td>Monica March</td>\n",
       "      <td>XTOQD3SVVEJ7MVCN</td>\n",
       "    </tr>\n",
       "    <tr>\n",
       "      <th>68948</th>\n",
       "      <td>YTI7KTKE98QBP004</td>\n",
       "      <td>Q0PXOGEN1DBVW2Q7</td>\n",
       "      <td>1/50Th Stipulation</td>\n",
       "      <td>2014-10-15</td>\n",
       "      <td>4404</td>\n",
       "      <td>0</td>\n",
       "      <td>Monica March</td>\n",
       "      <td>XTOQD3SVVEJ7MVCN</td>\n",
       "    </tr>\n",
       "    <tr>\n",
       "      <th>68949</th>\n",
       "      <td>WDJ38DPR05TCKW3Y</td>\n",
       "      <td>Q0PXOGEN1DBVW2Q7</td>\n",
       "      <td>1/50Th Stipulation</td>\n",
       "      <td>2018-10-07</td>\n",
       "      <td>5017</td>\n",
       "      <td>0</td>\n",
       "      <td>Monica March</td>\n",
       "      <td>XTOQD3SVVEJ7MVCN</td>\n",
       "    </tr>\n",
       "  </tbody>\n",
       "</table>\n",
       "</div>"
      ],
      "text/plain": [
       "               Order Id        Company Id        Company Name       Date  \\\n",
       "68931  Z8N8ZYWLTOF7HJKJ  Q0PXOGEN1DBVW2Q7  1/50Th Stipulation 2015-05-22   \n",
       "68932  PWBDGATQQ6ZLH04U  Q0PXOGEN1DBVW2Q7  1/50Th Stipulation 2014-03-19   \n",
       "68933  TRC53I36Z3TCV00G  Q0PXOGEN1DBVW2Q7  1/50Th Stipulation 2017-10-21   \n",
       "68934  L8VLGKRV7AW7ME6M  Q0PXOGEN1DBVW2Q7  1/50Th Stipulation 2018-11-13   \n",
       "68935  GVG30RPMT3K3CFNF  Q0PXOGEN1DBVW2Q7  1/50Th Stipulation 2015-03-29   \n",
       "68936  O69NM6XMFUDTPN0B  Q0PXOGEN1DBVW2Q7  1/50Th Stipulation 2015-08-01   \n",
       "68937  8NSSXEVVSZ89L0P7  Q0PXOGEN1DBVW2Q7  1/50Th Stipulation 2015-04-30   \n",
       "68938  TO4GY3102AM27NAH  Q0PXOGEN1DBVW2Q7  1/50Th Stipulation 2014-04-10   \n",
       "68939  C3D6YZYG2LHKGIF9  Q0PXOGEN1DBVW2Q7  1/50Th Stipulation 2014-03-02   \n",
       "68940  R0D59K3F8I8P25PR  Q0PXOGEN1DBVW2Q7  1/50Th Stipulation 2017-03-08   \n",
       "68941  HFF94GC5TINO679A  Q0PXOGEN1DBVW2Q7  1/50Th Stipulation 2016-12-16   \n",
       "68942  OPG4T6ZW14WL2132  Q0PXOGEN1DBVW2Q7  1/50Th Stipulation 2018-05-17   \n",
       "68943  C6SCLG128MZJVVRB  Q0PXOGEN1DBVW2Q7  1/50Th Stipulation 2017-08-22   \n",
       "68944  704LXDMD5ORNUYN1  Q0PXOGEN1DBVW2Q7  1/50Th Stipulation 2016-11-30   \n",
       "68945  4TDJ20DIQWCEI4YV  Q0PXOGEN1DBVW2Q7  1/50Th Stipulation 2014-04-15   \n",
       "68946  KQTALKUGLLHLKIF9  Q0PXOGEN1DBVW2Q7  1/50Th Stipulation 2014-07-18   \n",
       "68947  A8UBBR22I81116WH  Q0PXOGEN1DBVW2Q7  1/50Th Stipulation 2014-01-20   \n",
       "68948  YTI7KTKE98QBP004  Q0PXOGEN1DBVW2Q7  1/50Th Stipulation 2014-10-15   \n",
       "68949  WDJ38DPR05TCKW3Y  Q0PXOGEN1DBVW2Q7  1/50Th Stipulation 2018-10-07   \n",
       "\n",
       "        Val  Sale     Sales Rep      Sales Rep Id  \n",
       "68931  8992     1  Monica March  XTOQD3SVVEJ7MVCN  \n",
       "68932  6109     0  Monica March  XTOQD3SVVEJ7MVCN  \n",
       "68933  5771     0  Monica March  XTOQD3SVVEJ7MVCN  \n",
       "68934  8154     0  Monica March  XTOQD3SVVEJ7MVCN  \n",
       "68935  7446     0  Monica March  XTOQD3SVVEJ7MVCN  \n",
       "68936   339     0  Monica March  XTOQD3SVVEJ7MVCN  \n",
       "68937  4514     0  Monica March  XTOQD3SVVEJ7MVCN  \n",
       "68938  1928     0  Monica March  XTOQD3SVVEJ7MVCN  \n",
       "68939  9875     0  Monica March  XTOQD3SVVEJ7MVCN  \n",
       "68940  5632     0  Monica March  XTOQD3SVVEJ7MVCN  \n",
       "68941  3899     0  Monica March  XTOQD3SVVEJ7MVCN  \n",
       "68942  3279     0  Monica March  XTOQD3SVVEJ7MVCN  \n",
       "68943  8127     0  Monica March  XTOQD3SVVEJ7MVCN  \n",
       "68944  9886     0  Monica March  XTOQD3SVVEJ7MVCN  \n",
       "68945   612     1  Monica March  XTOQD3SVVEJ7MVCN  \n",
       "68946  2953     0  Monica March  XTOQD3SVVEJ7MVCN  \n",
       "68947  6980     0  Monica March  XTOQD3SVVEJ7MVCN  \n",
       "68948  4404     0  Monica March  XTOQD3SVVEJ7MVCN  \n",
       "68949  5017     0  Monica March  XTOQD3SVVEJ7MVCN  "
      ]
     },
     "execution_count": 41,
     "metadata": {},
     "output_type": "execute_result"
    }
   ],
   "source": [
    "bb.get_group(('1/50Th Stipulation', 'Q0PXOGEN1DBVW2Q7'))"
   ]
  },
  {
   "cell_type": "code",
   "execution_count": 42,
   "id": "9ce428cc",
   "metadata": {},
   "outputs": [],
   "source": [
    " columns=list('ABCDEF')"
   ]
  },
  {
   "cell_type": "code",
   "execution_count": 43,
   "id": "dc5c4d64",
   "metadata": {},
   "outputs": [
    {
     "data": {
      "text/plain": [
       "['A', 'B', 'C', 'D', 'E', 'F']"
      ]
     },
     "execution_count": 43,
     "metadata": {},
     "output_type": "execute_result"
    }
   ],
   "source": [
    "columns"
   ]
  },
  {
   "cell_type": "code",
   "execution_count": null,
   "id": "f9f2effc",
   "metadata": {},
   "outputs": [],
   "source": []
  },
  {
   "cell_type": "code",
   "execution_count": 44,
   "id": "8f8f724e",
   "metadata": {},
   "outputs": [
    {
     "data": {
      "text/plain": [
       "101"
      ]
     },
     "execution_count": 44,
     "metadata": {},
     "output_type": "execute_result"
    }
   ],
   "source": [
    "grouperxx.get_group('2014-12-31').Val.agg('min')"
   ]
  },
  {
   "cell_type": "code",
   "execution_count": 45,
   "id": "459535f9",
   "metadata": {},
   "outputs": [],
   "source": [
    "df['add']=pd.Series(np.arange(0,99999))"
   ]
  },
  {
   "cell_type": "code",
   "execution_count": 46,
   "id": "70ab6516",
   "metadata": {},
   "outputs": [],
   "source": [
    "addd=df.groupby('add')"
   ]
  },
  {
   "cell_type": "code",
   "execution_count": 47,
   "id": "e77d5900",
   "metadata": {},
   "outputs": [
    {
     "data": {
      "text/plain": [
       "{0.0: [0], 1.0: [1], 2.0: [2], 3.0: [3], 4.0: [4], 5.0: [5], 6.0: [6], 7.0: [7], 8.0: [8], 9.0: [9], 10.0: [10], 11.0: [11], 12.0: [12], 13.0: [13], 14.0: [14], 15.0: [15], 16.0: [16], 17.0: [17], 18.0: [18], 19.0: [19], 20.0: [20], 21.0: [21], 22.0: [22], 23.0: [23], 24.0: [24], 25.0: [25], 26.0: [26], 27.0: [27], 28.0: [28], 29.0: [29], 30.0: [30], 31.0: [31], 32.0: [32], 33.0: [33], 34.0: [34], 35.0: [35], 36.0: [36], 37.0: [37], 38.0: [38], 39.0: [39], 40.0: [40], 41.0: [41], 42.0: [42], 43.0: [43], 44.0: [44], 45.0: [45], 46.0: [46], 47.0: [47], 48.0: [48], 49.0: [49], 50.0: [50], 51.0: [51], 52.0: [52], 53.0: [53], 54.0: [54], 55.0: [55], 56.0: [56], 57.0: [57], 58.0: [58], 59.0: [59], 60.0: [60], 61.0: [61], 62.0: [62], 63.0: [63], 64.0: [64], 65.0: [65], 66.0: [66], 67.0: [67], 68.0: [68], 69.0: [69], 70.0: [70], 71.0: [71], 72.0: [72], 73.0: [73], 74.0: [74], 75.0: [75], 76.0: [76], 77.0: [77], 78.0: [78], 79.0: [79], 80.0: [80], 81.0: [81], 82.0: [82], 83.0: [83], 84.0: [84], 85.0: [85], 86.0: [86], 87.0: [87], 88.0: [88], 89.0: [89], 90.0: [90], 91.0: [91], 92.0: [92], 93.0: [93], 94.0: [94], 95.0: [95], 96.0: [96], 97.0: [97], 98.0: [98], 99.0: [99], ...}"
      ]
     },
     "execution_count": 47,
     "metadata": {},
     "output_type": "execute_result"
    }
   ],
   "source": [
    "addd.groups"
   ]
  },
  {
   "cell_type": "code",
   "execution_count": 48,
   "id": "c2b0eb3d",
   "metadata": {},
   "outputs": [
    {
     "data": {
      "text/html": [
       "<div>\n",
       "<style scoped>\n",
       "    .dataframe tbody tr th:only-of-type {\n",
       "        vertical-align: middle;\n",
       "    }\n",
       "\n",
       "    .dataframe tbody tr th {\n",
       "        vertical-align: top;\n",
       "    }\n",
       "\n",
       "    .dataframe thead th {\n",
       "        text-align: right;\n",
       "    }\n",
       "</style>\n",
       "<table border=\"1\" class=\"dataframe\">\n",
       "  <thead>\n",
       "    <tr style=\"text-align: right;\">\n",
       "      <th></th>\n",
       "      <th>Order Id</th>\n",
       "      <th>Company Id</th>\n",
       "      <th>Company Name</th>\n",
       "      <th>Date</th>\n",
       "      <th>Val</th>\n",
       "      <th>Sale</th>\n",
       "      <th>Sales Rep</th>\n",
       "      <th>Sales Rep Id</th>\n",
       "      <th>add</th>\n",
       "    </tr>\n",
       "  </thead>\n",
       "  <tbody>\n",
       "    <tr>\n",
       "      <th>86</th>\n",
       "      <td>51EG4MWWYQELKVA0</td>\n",
       "      <td>FDWW0TQRPGMVI2A7</td>\n",
       "      <td>Unhurried Musician'S</td>\n",
       "      <td>2018-09-10</td>\n",
       "      <td>1572</td>\n",
       "      <td>0</td>\n",
       "      <td>William Taylor</td>\n",
       "      <td>ZTZA0ZLYZR85PTUJ</td>\n",
       "      <td>86.0</td>\n",
       "    </tr>\n",
       "  </tbody>\n",
       "</table>\n",
       "</div>"
      ],
      "text/plain": [
       "            Order Id        Company Id          Company Name       Date   Val  \\\n",
       "86  51EG4MWWYQELKVA0  FDWW0TQRPGMVI2A7  Unhurried Musician'S 2018-09-10  1572   \n",
       "\n",
       "    Sale       Sales Rep      Sales Rep Id   add  \n",
       "86     0  William Taylor  ZTZA0ZLYZR85PTUJ  86.0  "
      ]
     },
     "execution_count": 48,
     "metadata": {},
     "output_type": "execute_result"
    }
   ],
   "source": [
    "addd.get_group(86.0)"
   ]
  },
  {
   "cell_type": "code",
   "execution_count": null,
   "id": "719be4ba",
   "metadata": {},
   "outputs": [],
   "source": []
  },
  {
   "cell_type": "code",
   "execution_count": null,
   "id": "cb69fc2c",
   "metadata": {},
   "outputs": [],
   "source": []
  },
  {
   "cell_type": "code",
   "execution_count": 49,
   "id": "c554477d",
   "metadata": {},
   "outputs": [
    {
     "data": {
      "text/plain": [
       "Order Id          Company Id        Company Name                  Date        Val   Sale  Sales Rep        Sales Rep Id      add    \n",
       "000YT7YLNCCL91XE  7ZEVLN473PFC3L44  Habitual Mississippi'S        2015-10-17  6123  0     Shawna Strang    7CLCGD76QB5UUWYP  84721.0    1\n",
       "O00VVP3UZ7UDBDCJ  JVAZDHIGU5LBGOU5  Pressure-Measuring Intuition  2014-04-17  1723  0     Mary Whatley     BIAQJWJU4T2J9UV9  8160.0     1\n",
       "O0A843P7CJT7BQ41  I4R3DE811JPJXWTT  Unfailing Horse               2018-10-13  6585  0     Leon Huffman     IETVVJ25EJTUUDF6  64778.0    1\n",
       "O0920R1UXU5HRG5P  12QOGO50YE879ASR  Instant Academies             2015-06-29  6722  0     Julio Woodard    Z5LDV3JJJN5YH6JX  6880.0     1\n",
       "O08ZDWCUXQKUHSVU  C7WUWBLQ0F2LZ7PP  Hanoverian Silicon            2017-02-08  5921  0     Margaret Costa   UYVCTIFNFPX0HRW7  75348.0    1\n",
       "                                                                                                                                       ..\n",
       "C2IKQZTX00V6AM4P  9QEU79VVOSRJTY7M  Stimulating Bumblebees        2016-06-19  9148  0     Julio Woodard    Z5LDV3JJJN5YH6JX  6943.0     1\n",
       "C2HNTXQWVMX7J0ZQ  YP8HKLUSJYX5XL80  Just Satellite                2018-12-23  7228  0     Alyssa Mckinney  VZ3PI0EC8K8M7NPY  92739.0    1\n",
       "C2HK9IHOLFZS4BQ9  MFP7UB2DQM304QNV  Communist-Inspired Sets       2015-08-13  6940  1     Donna Mandy      L0HU4HSATZHO2P3B  9154.0     1\n",
       "C2FR9A9A3KRRZ716  C987YZF6MT0C92IU  Noteworthy Abstractions       2018-05-19  9053  0     Maria Jones      PZ9RLWSSA8OBP4A5  35619.0    1\n",
       "ZZZLGTRNSTB4RI9O  DQXL1PY3DK0NUG6N  80Th Scorecard                2018-08-20  6002  0     Robin Shaffer    OSTMOXX9SZBITL2K  87783.0    1\n",
       "Length: 99999, dtype: int64"
      ]
     },
     "metadata": {},
     "output_type": "display_data"
    },
    {
     "data": {
      "text/plain": [
       "Jessica Renner      430\n",
       "Alyssa Mckinney     428\n",
       "Elizabeth Gaddy     416\n",
       "Susan Gutierrez     415\n",
       "Georgiann White     413\n",
       "                   ... \n",
       "Viola Ates           18\n",
       "Debra Vermillion     17\n",
       "Alfredo Weise        17\n",
       "Simon Hearn          15\n",
       "Robert Bowen         15\n",
       "Name: Sales Rep, Length: 499, dtype: int64"
      ]
     },
     "metadata": {},
     "output_type": "display_data"
    }
   ],
   "source": [
    "display(df.value_counts())\n",
    "display(df['Sales Rep'].value_counts())"
   ]
  },
  {
   "cell_type": "code",
   "execution_count": null,
   "id": "f68b2407",
   "metadata": {},
   "outputs": [],
   "source": []
  },
  {
   "cell_type": "code",
   "execution_count": null,
   "id": "3f4e3f2e",
   "metadata": {},
   "outputs": [],
   "source": []
  },
  {
   "cell_type": "code",
   "execution_count": null,
   "id": "276e22bc",
   "metadata": {},
   "outputs": [],
   "source": []
  },
  {
   "cell_type": "code",
   "execution_count": null,
   "id": "d7096434",
   "metadata": {},
   "outputs": [],
   "source": []
  },
  {
   "cell_type": "code",
   "execution_count": null,
   "id": "4ae99531",
   "metadata": {},
   "outputs": [],
   "source": []
  },
  {
   "cell_type": "code",
   "execution_count": null,
   "id": "abf7378b",
   "metadata": {},
   "outputs": [],
   "source": []
  },
  {
   "cell_type": "code",
   "execution_count": null,
   "id": "0e45f195",
   "metadata": {},
   "outputs": [],
   "source": []
  },
  {
   "cell_type": "code",
   "execution_count": null,
   "id": "0aaf029a",
   "metadata": {},
   "outputs": [],
   "source": []
  },
  {
   "cell_type": "code",
   "execution_count": null,
   "id": "03f7916c",
   "metadata": {},
   "outputs": [],
   "source": []
  },
  {
   "cell_type": "code",
   "execution_count": null,
   "id": "b6a897fa",
   "metadata": {},
   "outputs": [],
   "source": []
  },
  {
   "cell_type": "code",
   "execution_count": null,
   "id": "7e58854f",
   "metadata": {},
   "outputs": [],
   "source": []
  },
  {
   "cell_type": "code",
   "execution_count": null,
   "id": "585d587e",
   "metadata": {},
   "outputs": [],
   "source": []
  },
  {
   "cell_type": "code",
   "execution_count": null,
   "id": "65c402b5",
   "metadata": {},
   "outputs": [],
   "source": []
  },
  {
   "cell_type": "code",
   "execution_count": null,
   "id": "9346354e",
   "metadata": {},
   "outputs": [],
   "source": []
  },
  {
   "cell_type": "code",
   "execution_count": null,
   "id": "b69da837",
   "metadata": {},
   "outputs": [],
   "source": []
  },
  {
   "cell_type": "code",
   "execution_count": null,
   "id": "de04b9bd",
   "metadata": {},
   "outputs": [],
   "source": []
  },
  {
   "cell_type": "code",
   "execution_count": null,
   "id": "ea72c8c6",
   "metadata": {},
   "outputs": [],
   "source": []
  },
  {
   "cell_type": "code",
   "execution_count": null,
   "id": "f8e77f79",
   "metadata": {},
   "outputs": [],
   "source": []
  },
  {
   "cell_type": "code",
   "execution_count": null,
   "id": "799d9181",
   "metadata": {},
   "outputs": [],
   "source": []
  },
  {
   "cell_type": "code",
   "execution_count": null,
   "id": "8cde315a",
   "metadata": {},
   "outputs": [],
   "source": []
  },
  {
   "cell_type": "code",
   "execution_count": null,
   "id": "cf2bf89c",
   "metadata": {},
   "outputs": [],
   "source": []
  }
 ],
 "metadata": {
  "kernelspec": {
   "display_name": "Python 3 (ipykernel)",
   "language": "python",
   "name": "python3"
  },
  "language_info": {
   "codemirror_mode": {
    "name": "ipython",
    "version": 3
   },
   "file_extension": ".py",
   "mimetype": "text/x-python",
   "name": "python",
   "nbconvert_exporter": "python",
   "pygments_lexer": "ipython3",
   "version": "3.9.12"
  }
 },
 "nbformat": 4,
 "nbformat_minor": 5
}
