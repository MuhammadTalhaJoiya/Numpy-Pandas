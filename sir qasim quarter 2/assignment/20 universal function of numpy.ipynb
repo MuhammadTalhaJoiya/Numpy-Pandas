{
 "cells": [
  {
   "cell_type": "code",
   "execution_count": 50,
   "id": "7bf4b782",
   "metadata": {},
   "outputs": [],
   "source": [
    "import numpy as np"
   ]
  },
  {
   "cell_type": "code",
   "execution_count": 51,
   "id": "a252839b",
   "metadata": {},
   "outputs": [
    {
     "data": {
      "text/plain": [
       "array([[0, 1, 2, 3, 4],\n",
       "       [5, 6, 7, 8, 9]])"
      ]
     },
     "metadata": {},
     "output_type": "display_data"
    },
    {
     "data": {
      "text/plain": [
       "array([[10, 11, 12, 13, 14],\n",
       "       [15, 16, 17, 18, 19]])"
      ]
     },
     "metadata": {},
     "output_type": "display_data"
    }
   ],
   "source": [
    "a=np.arange(10).reshape(2,5)\n",
    "display(a)\n",
    "b=np.arange(10,20).reshape(2,5)\n",
    "display(b)"
   ]
  },
  {
   "cell_type": "code",
   "execution_count": 52,
   "id": "886e1bd8",
   "metadata": {},
   "outputs": [
    {
     "data": {
      "text/plain": [
       "array([[10, 12, 14, 16, 18],\n",
       "       [20, 22, 24, 26, 28]])"
      ]
     },
     "execution_count": 52,
     "metadata": {},
     "output_type": "execute_result"
    }
   ],
   "source": [
    "np.add(a,b)"
   ]
  },
  {
   "cell_type": "code",
   "execution_count": 53,
   "id": "8c706e70",
   "metadata": {},
   "outputs": [
    {
     "data": {
      "text/plain": [
       "array([[10, 10, 10, 10, 10],\n",
       "       [10, 10, 10, 10, 10]])"
      ]
     },
     "execution_count": 53,
     "metadata": {},
     "output_type": "execute_result"
    }
   ],
   "source": [
    "np.subtract(b,a)"
   ]
  },
  {
   "cell_type": "code",
   "execution_count": 54,
   "id": "2b316143",
   "metadata": {},
   "outputs": [
    {
     "data": {
      "text/plain": [
       "array([[  0,  11,  24,  39,  56],\n",
       "       [ 75,  96, 119, 144, 171]])"
      ]
     },
     "execution_count": 54,
     "metadata": {},
     "output_type": "execute_result"
    }
   ],
   "source": [
    "np.multiply(a,b)"
   ]
  },
  {
   "cell_type": "code",
   "execution_count": 55,
   "id": "e2f703fc",
   "metadata": {},
   "outputs": [
    {
     "data": {
      "text/plain": [
       "array([[0.        , 0.09090909, 0.16666667, 0.23076923, 0.28571429],\n",
       "       [0.33333333, 0.375     , 0.41176471, 0.44444444, 0.47368421]])"
      ]
     },
     "execution_count": 55,
     "metadata": {},
     "output_type": "execute_result"
    }
   ],
   "source": [
    "np.divide(a,b)"
   ]
  },
  {
   "cell_type": "code",
   "execution_count": 77,
   "id": "fc95ad06",
   "metadata": {},
   "outputs": [
    {
     "data": {
      "text/plain": [
       "array([[10, 11, 12, 13, 14],\n",
       "       [15, 16, 17, 18, 19]])"
      ]
     },
     "metadata": {},
     "output_type": "display_data"
    },
    {
     "data": {
      "text/plain": [
       "array([[100, 121, 144, 169, 196],\n",
       "       [225, 256, 289, 324, 361]], dtype=int32)"
      ]
     },
     "metadata": {},
     "output_type": "display_data"
    },
    {
     "data": {
      "text/plain": [
       "array([[0, 1, 2, 3, 4],\n",
       "       [5, 6, 7, 8, 9]])"
      ]
     },
     "metadata": {},
     "output_type": "display_data"
    },
    {
     "data": {
      "text/plain": [
       "array([[  0,   1,   8,  27,  64],\n",
       "       [125, 216, 343, 512, 729]], dtype=int32)"
      ]
     },
     "metadata": {},
     "output_type": "display_data"
    }
   ],
   "source": [
    "display(b)\n",
    "display(np.power(b,2))\n",
    "display(a)\n",
    "display(np.power(a,3))"
   ]
  },
  {
   "cell_type": "code",
   "execution_count": 78,
   "id": "ebbfb10b",
   "metadata": {},
   "outputs": [
    {
     "data": {
      "text/plain": [
       "array([[ 9, 25, 49, 81,  4],\n",
       "       [ 9,  1,  4,  9, 25]], dtype=int32)"
      ]
     },
     "execution_count": 78,
     "metadata": {},
     "output_type": "execute_result"
    }
   ],
   "source": [
    "aa=np.array([[3,5,7,9,2],[3,1,2,3,5]])\n",
    "bb=np.array([[2,3,4,5,6],[3,1,1,2,4]])\n",
    "np.square(aa) "
   ]
  },
  {
   "cell_type": "code",
   "execution_count": 80,
   "id": "1f95f334",
   "metadata": {},
   "outputs": [
    {
     "data": {
      "text/plain": [
       "array([[3, 5, 7, 9, 2],\n",
       "       [3, 1, 2, 3, 5]])"
      ]
     },
     "metadata": {},
     "output_type": "display_data"
    },
    {
     "data": {
      "text/plain": [
       "array([[1.73205081, 2.23606798, 2.64575131, 3.        , 1.41421356],\n",
       "       [1.73205081, 1.        , 1.41421356, 1.73205081, 2.23606798]])"
      ]
     },
     "execution_count": 80,
     "metadata": {},
     "output_type": "execute_result"
    }
   ],
   "source": [
    "display(aa)\n",
    "np.sqrt(aa)"
   ]
  },
  {
   "cell_type": "code",
   "execution_count": 87,
   "id": "ca1ae739",
   "metadata": {},
   "outputs": [
    {
     "data": {
      "text/plain": [
       "array([   7.3890561 ,  148.4131591 , 2980.95798704])"
      ]
     },
     "metadata": {},
     "output_type": "display_data"
    }
   ],
   "source": [
    "arr = [2, 5, 8]\n",
    "arr2 = np.exp(arr)\n",
    "display(arr2)"
   ]
  },
  {
   "cell_type": "code",
   "execution_count": 90,
   "id": "c0867e66",
   "metadata": {},
   "outputs": [
    {
     "data": {
      "text/plain": [
       "array([[3, 5, 7, 9, 2],\n",
       "       [3, 1, 2, 3, 5]])"
      ]
     },
     "metadata": {},
     "output_type": "display_data"
    },
    {
     "data": {
      "text/plain": [
       "array([[1.09861229, 1.60943791, 1.94591015, 2.19722458, 0.69314718],\n",
       "       [1.09861229, 0.        , 0.69314718, 1.09861229, 1.60943791]])"
      ]
     },
     "execution_count": 90,
     "metadata": {},
     "output_type": "execute_result"
    }
   ],
   "source": [
    "display(aa)\n",
    "np.log(aa) #calculator ln(number)"
   ]
  },
  {
   "cell_type": "code",
   "execution_count": 91,
   "id": "b8c6752a",
   "metadata": {},
   "outputs": [
    {
     "data": {
      "text/plain": [
       "array([[3, 5, 7, 9, 2],\n",
       "       [3, 1, 2, 3, 5]])"
      ]
     },
     "metadata": {},
     "output_type": "display_data"
    },
    {
     "data": {
      "text/plain": [
       "array([[ 0.14112001, -0.95892427,  0.6569866 ,  0.41211849,  0.90929743],\n",
       "       [ 0.14112001,  0.84147098,  0.90929743,  0.14112001, -0.95892427]])"
      ]
     },
     "execution_count": 91,
     "metadata": {},
     "output_type": "execute_result"
    }
   ],
   "source": [
    "display(aa)\n",
    "np.sin(aa)"
   ]
  },
  {
   "cell_type": "code",
   "execution_count": 99,
   "id": "1a602882",
   "metadata": {},
   "outputs": [
    {
     "data": {
      "text/plain": [
       "array([[3, 5, 7, 9, 2],\n",
       "       [3, 1, 2, 3, 5]])"
      ]
     },
     "metadata": {},
     "output_type": "display_data"
    },
    {
     "data": {
      "text/plain": [
       "array([[-0.9899925 ,  0.28366219,  0.75390225, -0.91113026, -0.41614684],\n",
       "       [-0.9899925 ,  0.54030231, -0.41614684, -0.9899925 ,  0.28366219]])"
      ]
     },
     "execution_count": 99,
     "metadata": {},
     "output_type": "execute_result"
    }
   ],
   "source": [
    "display(aa)\n",
    "np.cos(aa)"
   ]
  },
  {
   "cell_type": "code",
   "execution_count": 100,
   "id": "38d8f650",
   "metadata": {},
   "outputs": [
    {
     "data": {
      "text/plain": [
       "array([[3, 5, 7, 9, 2],\n",
       "       [3, 1, 2, 3, 5]])"
      ]
     },
     "metadata": {},
     "output_type": "display_data"
    },
    {
     "data": {
      "text/plain": [
       "array([[-0.14254654, -3.38051501,  0.87144798, -0.45231566, -2.18503986],\n",
       "       [-0.14254654,  1.55740772, -2.18503986, -0.14254654, -3.38051501]])"
      ]
     },
     "execution_count": 100,
     "metadata": {},
     "output_type": "execute_result"
    }
   ],
   "source": [
    "display(aa)\n",
    "np.tan(aa)"
   ]
  },
  {
   "cell_type": "code",
   "execution_count": 102,
   "id": "207de38d",
   "metadata": {},
   "outputs": [
    {
     "data": {
      "text/plain": [
       "array([[3, 5, 7, 9, 2],\n",
       "       [3, 1, 2, 3, 5]])"
      ]
     },
     "metadata": {},
     "output_type": "display_data"
    },
    {
     "name": "stderr",
     "output_type": "stream",
     "text": [
      "C:\\Users\\mtalh\\AppData\\Local\\Temp\\ipykernel_4484\\2744301941.py:2: RuntimeWarning: invalid value encountered in arcsin\n",
      "  np.arcsin(aa)\n"
     ]
    },
    {
     "data": {
      "text/plain": [
       "array([[       nan,        nan,        nan,        nan,        nan],\n",
       "       [       nan, 1.57079633,        nan,        nan,        nan]])"
      ]
     },
     "execution_count": 102,
     "metadata": {},
     "output_type": "execute_result"
    }
   ],
   "source": [
    "display(aa)\n",
    "np.arcsin(aa)"
   ]
  },
  {
   "cell_type": "code",
   "execution_count": 103,
   "id": "e9711e3f",
   "metadata": {},
   "outputs": [
    {
     "data": {
      "text/plain": [
       "array([[3, 5, 7, 9, 2],\n",
       "       [3, 1, 2, 3, 5]])"
      ]
     },
     "metadata": {},
     "output_type": "display_data"
    },
    {
     "data": {
      "text/plain": [
       "array([[1.24904577, 1.37340077, 1.42889927, 1.46013911, 1.10714872],\n",
       "       [1.24904577, 0.78539816, 1.10714872, 1.24904577, 1.37340077]])"
      ]
     },
     "execution_count": 103,
     "metadata": {},
     "output_type": "execute_result"
    }
   ],
   "source": [
    "display(aa)\n",
    "np.arctan(aa)"
   ]
  },
  {
   "cell_type": "code",
   "execution_count": 110,
   "id": "55c4f804",
   "metadata": {},
   "outputs": [
    {
     "data": {
      "text/plain": [
       "array([-3.33,  4.  , -6.  ,  7.  ,  8.  ])"
      ]
     },
     "metadata": {},
     "output_type": "display_data"
    },
    {
     "data": {
      "text/plain": [
       "array([3.33, 4.  , 6.  , 7.  , 8.  ])"
      ]
     },
     "execution_count": 110,
     "metadata": {},
     "output_type": "execute_result"
    }
   ],
   "source": [
    "dd=np.array([-3.33,4,-6,7,8])\n",
    "display(dd)\n",
    "np.abs(dd)"
   ]
  },
  {
   "cell_type": "code",
   "execution_count": 112,
   "id": "1cbab21e",
   "metadata": {},
   "outputs": [
    {
     "data": {
      "text/plain": [
       "array([[3, 5, 7, 9, 2],\n",
       "       [3, 1, 2, 3, 5]])"
      ]
     },
     "metadata": {},
     "output_type": "display_data"
    },
    {
     "data": {
      "text/plain": [
       "array([[2, 3, 4, 5, 6],\n",
       "       [3, 1, 1, 2, 4]])"
      ]
     },
     "metadata": {},
     "output_type": "display_data"
    },
    {
     "data": {
      "text/plain": [
       "array([[3, 5, 7, 9, 6],\n",
       "       [3, 1, 2, 3, 5]])"
      ]
     },
     "execution_count": 112,
     "metadata": {},
     "output_type": "execute_result"
    }
   ],
   "source": [
    "display(aa)\n",
    "display(bb)\n",
    "np.maximum(aa,bb)"
   ]
  },
  {
   "cell_type": "code",
   "execution_count": 114,
   "id": "3f7b45d1",
   "metadata": {},
   "outputs": [
    {
     "data": {
      "text/plain": [
       "array([[3, 5, 7, 9, 2],\n",
       "       [3, 1, 2, 3, 5]])"
      ]
     },
     "metadata": {},
     "output_type": "display_data"
    },
    {
     "data": {
      "text/plain": [
       "array([[2, 3, 4, 5, 6],\n",
       "       [3, 1, 1, 2, 4]])"
      ]
     },
     "metadata": {},
     "output_type": "display_data"
    },
    {
     "data": {
      "text/plain": [
       "array([[2, 3, 4, 5, 2],\n",
       "       [3, 1, 1, 2, 4]])"
      ]
     },
     "execution_count": 114,
     "metadata": {},
     "output_type": "execute_result"
    }
   ],
   "source": [
    "display(aa)\n",
    "display(bb)\n",
    "np.minimum(aa,bb)"
   ]
  },
  {
   "cell_type": "code",
   "execution_count": 125,
   "id": "99f13cb6",
   "metadata": {},
   "outputs": [
    {
     "data": {
      "text/plain": [
       "array([ 3.,  5.,  7.,  2.,  2., nan])"
      ]
     },
     "execution_count": 125,
     "metadata": {},
     "output_type": "execute_result"
    }
   ],
   "source": [
    "rr=np.array([3,-5,-7,2,2,np.nan])\n",
    "np.fabs(rr)"
   ]
  },
  {
   "cell_type": "code",
   "execution_count": 126,
   "id": "59c7f6d6",
   "metadata": {},
   "outputs": [
    {
     "data": {
      "text/plain": [
       "array([[3, 5, 7, 9, 2],\n",
       "       [3, 1, 2, 3, 5]])"
      ]
     },
     "metadata": {},
     "output_type": "display_data"
    },
    {
     "data": {
      "text/plain": [
       "array([[0.47712125, 0.69897   , 0.84509804, 0.95424251, 0.30103   ],\n",
       "       [0.47712125, 0.        , 0.30103   , 0.47712125, 0.69897   ]])"
      ]
     },
     "execution_count": 126,
     "metadata": {},
     "output_type": "execute_result"
    }
   ],
   "source": [
    "display(aa)\n",
    "np.log10(aa)"
   ]
  },
  {
   "cell_type": "code",
   "execution_count": 129,
   "id": "006e6289",
   "metadata": {},
   "outputs": [
    {
     "data": {
      "text/plain": [
       "array([4.4 , 6.7 , 8.  , 2.01,  nan])"
      ]
     },
     "metadata": {},
     "output_type": "display_data"
    },
    {
     "data": {
      "text/plain": [
       "array([ 5.,  7.,  8.,  3., nan])"
      ]
     },
     "execution_count": 129,
     "metadata": {},
     "output_type": "execute_result"
    }
   ],
   "source": [
    "ff=np.array([4.4,6.7,8,2.01,np.nan])\n",
    "display(ff)\n",
    "np.ceil(ff) #It increase the value"
   ]
  },
  {
   "cell_type": "code",
   "execution_count": 128,
   "id": "7a766e04",
   "metadata": {},
   "outputs": [
    {
     "data": {
      "text/plain": [
       "array([4.4 , 6.7 , 8.  , 2.01])"
      ]
     },
     "metadata": {},
     "output_type": "display_data"
    },
    {
     "data": {
      "text/plain": [
       "array([4., 6., 8., 2.])"
      ]
     },
     "execution_count": 128,
     "metadata": {},
     "output_type": "execute_result"
    }
   ],
   "source": [
    "display(ff)\n",
    "np.floor(ff) #It decrease the value"
   ]
  },
  {
   "cell_type": "code",
   "execution_count": 130,
   "id": "661a7f31",
   "metadata": {},
   "outputs": [
    {
     "data": {
      "text/plain": [
       "array([4.4 , 6.7 , 8.  , 2.01,  nan])"
      ]
     },
     "metadata": {},
     "output_type": "display_data"
    },
    {
     "data": {
      "text/plain": [
       "array([ True,  True,  True,  True, False])"
      ]
     },
     "execution_count": 130,
     "metadata": {},
     "output_type": "execute_result"
    }
   ],
   "source": [
    "display(ff)\n",
    "np.isfinite(ff)"
   ]
  },
  {
   "cell_type": "code",
   "execution_count": 131,
   "id": "ea89bd31",
   "metadata": {},
   "outputs": [
    {
     "data": {
      "text/plain": [
       "array([4.4 , 6.7 , 8.  , 2.01,  nan])"
      ]
     },
     "metadata": {},
     "output_type": "display_data"
    },
    {
     "data": {
      "text/plain": [
       "array([False, False, False, False,  True])"
      ]
     },
     "execution_count": 131,
     "metadata": {},
     "output_type": "execute_result"
    }
   ],
   "source": [
    "display(ff)\n",
    "np.isnan(ff)"
   ]
  },
  {
   "cell_type": "code",
   "execution_count": 132,
   "id": "7f21863f",
   "metadata": {},
   "outputs": [
    {
     "data": {
      "text/plain": [
       "array([False, False, False, False, False])"
      ]
     },
     "execution_count": 132,
     "metadata": {},
     "output_type": "execute_result"
    }
   ],
   "source": [
    "np.isinf(ff)"
   ]
  },
  {
   "cell_type": "code",
   "execution_count": 137,
   "id": "a1844dfc",
   "metadata": {},
   "outputs": [
    {
     "data": {
      "text/plain": [
       "array([[3, 5, 7, 9, 2],\n",
       "       [3, 1, 2, 3, 5]])"
      ]
     },
     "metadata": {},
     "output_type": "display_data"
    },
    {
     "data": {
      "text/plain": [
       "array([[3, 3],\n",
       "       [5, 1],\n",
       "       [7, 2],\n",
       "       [9, 3],\n",
       "       [2, 5]])"
      ]
     },
     "execution_count": 137,
     "metadata": {},
     "output_type": "execute_result"
    }
   ],
   "source": [
    "display(aa)\n",
    "np.transpose(aa)\n",
    "# aa.T"
   ]
  },
  {
   "cell_type": "code",
   "execution_count": null,
   "id": "f236b834",
   "metadata": {},
   "outputs": [],
   "source": []
  }
 ],
 "metadata": {
  "kernelspec": {
   "display_name": "Python 3 (ipykernel)",
   "language": "python",
   "name": "python3"
  },
  "language_info": {
   "codemirror_mode": {
    "name": "ipython",
    "version": 3
   },
   "file_extension": ".py",
   "mimetype": "text/x-python",
   "name": "python",
   "nbconvert_exporter": "python",
   "pygments_lexer": "ipython3",
   "version": "3.9.12"
  }
 },
 "nbformat": 4,
 "nbformat_minor": 5
}
